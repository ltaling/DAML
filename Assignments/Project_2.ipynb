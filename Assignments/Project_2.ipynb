{
 "cells": [
  {
   "cell_type": "code",
   "execution_count": 1,
   "id": "667e3345",
   "metadata": {},
   "outputs": [],
   "source": [
    "import numpy as np\n",
    "import matplotlib.pyplot as plt\n",
    "import scipy.optimize as sp\n",
    "from iminuit import Minuit\n",
    "import scipy.integrate as si"
   ]
  },
  {
   "cell_type": "markdown",
   "id": "df4fca81",
   "metadata": {},
   "source": [
    "# Part 1"
   ]
  },
  {
   "cell_type": "markdown",
   "id": "23a4793f",
   "metadata": {},
   "source": [
    "### Starting Functions Defined in this Cell"
   ]
  },
  {
   "cell_type": "code",
   "execution_count": 2,
   "id": "e1c68c78",
   "metadata": {},
   "outputs": [],
   "source": [
    "def pdf(t,v,tau,m,t_range):\n",
    "    \"\"\"This function defines the normalised pdf\"\"\"\n",
    "    a,b = t_range\n",
    "    integral = lambda x: -(tau*np.exp(-x/tau)*(m**2*tau**2+m*tau*v*np.cos(m*x)+v*np.sin(m*x)+1))/(m**2*tau**2+1)\n",
    "    norm = 1/(integral(b) - integral(a))\n",
    "    return norm*(1+v*np.sin(m*t))*np.exp(-t/tau)\n",
    "\n",
    "def negative_pdf(t,args):\n",
    "    \"\"\"This function defines a negative pdf (for minimisation)\"\"\"\n",
    "    v,m,tau,a,b = args\n",
    "    integral = lambda x: -(tau*np.exp(-x/tau)*(m**2*tau**2+m*tau*v*np.cos(m*x)+v*np.sin(m*x)+1))/(m**2*tau**2+1)\n",
    "    norm = 1/(integral(b) - integral(a))\n",
    "    return -norm*(1+v*np.sin(m*t))*np.exp(-t/tau)\n",
    "\n",
    "#Function draws random number from distribution using box method\n",
    "def monte_carlo(v,tau,m,t_range,n):\n",
    "    \"\"\"Using the box method monte carlo, this function creates data corresponding to the pdf\"\"\"\n",
    "    distribution = []\n",
    "    a,b = t_range\n",
    "    fmax = -sp.minimize(negative_pdf,0.1,args=([v,m,tau,a,b]),bounds=((a,b),)).fun #define the range of the \"box\"\n",
    "    \n",
    "    #while loop ensures n numbers are returned\n",
    "    while len(distribution) < n:\n",
    "        x1 = a+(b-a)*np.random.uniform(1,0) #defines a random number in the range [a,b]\n",
    "        y1 = pdf(x1,v,tau,m,t_range) #corresponding y1 in the exp distribution\n",
    "        y2 = np.random.uniform(1,0)*fmax #Random number inside \"box\"\n",
    "        \n",
    "        #if statement only returns y2 values within distribution \n",
    "        if y2 < y1:\n",
    "            distribution.append(x1)\n",
    "            \n",
    "    return distribution"
   ]
  },
  {
   "cell_type": "markdown",
   "id": "ad069ca2",
   "metadata": {},
   "source": [
    "### Testing to Ensure Monte Carlo Gives Good Results"
   ]
  },
  {
   "cell_type": "code",
   "execution_count": 3,
   "id": "03b161c4",
   "metadata": {},
   "outputs": [],
   "source": [
    "# Define the parameters\n",
    "v = 0.1\n",
    "tau = 1.5\n",
    "m = 20.\n",
    "t_range = (0,10)\n",
    "n = 10000\n",
    "\n",
    "# producing the data\n",
    "data = monte_carlo(v,tau,m,t_range,n)"
   ]
  },
  {
   "cell_type": "code",
   "execution_count": 4,
   "id": "2cf7b6ab",
   "metadata": {},
   "outputs": [
    {
     "data": {
      "image/png": "[encoded data removed]",
      "text/plain": [
       "<Figure size 432x288 with 1 Axes>"
      ]
     },
     "metadata": {
      "needs_background": "light"
     },
     "output_type": "display_data"
    }
   ],
   "source": [
    "values = np.linspace(0,10,1000)\n",
    "plt.hist(data,bins=100,density=True) # Normalise the histogram\n",
    "plt.plot(values,pdf(values,v,tau,m,t_range))\n",
    "plt.xlabel(\"Time\")\n",
    "plt.ylabel(\"Normalised Frequency\")\n",
    "plt.title(\"PDF Superimposed Over the Simulated Data\")\n",
    "plt.show()\n",
    "# The curve shows good correlation with the data"
   ]
  },
  {
   "cell_type": "code",
   "execution_count": 5,
   "id": "930770f3",
   "metadata": {},
   "outputs": [],
   "source": [
    "def maximum_likelihood_ten(v,tau,m,a,b):\n",
    "    \"\"\"Returns the maximum likelihood of the pdf for 10,000 particles\"\"\"\n",
    "    t_range = (a,b)\n",
    "    func = pdf(data_ten_thou,v,tau,m,t_range)\n",
    "    func[func < 1e-4] = 1e-4 # Clip values too small for the logarithm\n",
    "    return -np.sum(np.log(func))\n",
    "\n",
    "\n",
    "def maximum_likelihood_hun(v,tau,m,a,b):\n",
    "    \"\"\"Returns the maximum likelihood of the pdf for 100,000 particles\"\"\"\n",
    "    t_range = (a,b)\n",
    "    func = pdf(data_hundred_thou,v,tau,m,t_range)\n",
    "    func[func < 1e-4] = 1e-4 # Clip values too small for the logarithm\n",
    "    return -np.sum(np.log(func))\n",
    "\n",
    "#Re-define the parameters for clarity\n",
    "v = 0.1\n",
    "tau = 1.5\n",
    "m = 20.\n",
    "a = 0\n",
    "b = 10\n",
    "t_range = (a,b)\n",
    "\n",
    "#Set errors to give \n",
    "maximum_likelihood_ten.errordef = Minuit.LIKELIHOOD\n",
    "maximum_likelihood_hun.errordef = Minuit.LIKELIHOOD\n",
    "\n",
    "#initialise arrays of the values\n",
    "v_ten = []\n",
    "tau_ten = []\n",
    "m_ten = []\n",
    "v_hun = []\n",
    "tau_hun = []\n",
    "m_hun = []\n",
    "\n",
    "\n",
    "\n",
    "for i in range(100):\n",
    "    #Simulate the data\n",
    "    data_ten_thou = np.asarray(monte_carlo(v,tau,m,t_range,n=10000))\n",
    "    data_hundred_thou = np.asarray(monte_carlo(v,tau,m,t_range,n=100000))\n",
    "\n",
    "    #define the minimisation with Minuit\n",
    "    ten_thou = Minuit(maximum_likelihood_ten,v=v,tau=tau,m=m,a=a,b=b)\n",
    "    hundred_thou = Minuit(maximum_likelihood_hun,v=v,tau=tau,m=m,a=a,b=b)\n",
    "\n",
    "    # Fix the parameters a & b to not be minimised\n",
    "    ten_thou.fixed['a','b'] = True\n",
    "    hundred_thou.fixed['a','b'] = True\n",
    "    \n",
    "    # Run the minimisation\n",
    "    ten_thou.migrad()\n",
    "    hundred_thou.migrad()\n",
    "    \n",
    "    #append to the arrays\n",
    "    v_ten.append(ten_thou.values[0])\n",
    "    tau_ten.append(ten_thou.values[1])\n",
    "    m_ten.append(ten_thou.values[2])\n",
    "    v_hun.append(hundred_thou.values[0])\n",
    "    tau_hun.append(hundred_thou.values[1])\n",
    "    m_hun.append(hundred_thou.values[2])"
   ]
  },
  {
   "cell_type": "code",
   "execution_count": 8,
   "id": "04af002c",
   "metadata": {},
   "outputs": [
    {
     "name": "stdout",
     "output_type": "stream",
     "text": [
      "Comparison of Parameter Values for 10,000 vs 100,000 Events are: \n",
      "\n",
      "V = 0.1014 (10,000 events) and 0.0999 (100,000 events)\n",
      "tau = 1.5018 (10,000 events) and 1.5007 (100,000 events)\n",
      "delta m = 20.0028 (10,000 events) and 20.0002 (100,000 events)\n",
      "\n",
      "\n",
      "Comparison of Parameter Errors for 10,000 vs 100,000 Events are: \n",
      "\n",
      "V = 0.0142 (10,000 events) and 0.0042 (100,000 events)\n",
      "tau = 0.0143 (10,000 events) and 0.0044 (100,000 events)\n",
      "delta m = 0.0658 (10,000 events) and 0.0225 (100,000 events)\n"
     ]
    }
   ],
   "source": [
    "#Calculate average values for parameters\n",
    "\n",
    "param_v_ten,param_v_hun = np.mean(np.asarray(v_ten)),np.mean(np.asarray(v_hun))\n",
    "param_tau_ten,param_tau_hun = np.mean(np.asarray(tau_ten)),np.mean(np.asarray(tau_hun))\n",
    "param_m_ten,param_m_hun = np.mean(np.asarray(m_ten)),np.mean(np.asarray(m_hun))\n",
    "\n",
    "#Calculate statistical errors on the parameters by taking the standard deviation\n",
    "\n",
    "error_v_ten,error_v_hun = np.std(np.asarray(v_ten)),np.std(np.asarray(v_hun))\n",
    "error_tau_ten,error_tau_hun = np.std(np.asarray(tau_ten)),np.std(np.asarray(tau_hun))\n",
    "error_m_ten,error_m_hun = np.std(np.asarray(m_ten)),np.std(np.asarray(m_hun))\n",
    "\n",
    "\n",
    "print(\"Comparison of Parameter Values for 10,000 vs 100,000 Events are: \\n\")\n",
    "print(\"V = {:.4f} (10,000 events) and {:.4f} (100,000 events)\".format(param_v_ten,param_v_hun))\n",
    "print(\"tau = {:.4f} (10,000 events) and {:.4f} (100,000 events)\".format(param_tau_ten,param_tau_hun))\n",
    "print(\"delta m = {:.4f} (10,000 events) and {:.4f} (100,000 events)\".format(param_m_ten,param_m_hun))\n",
    "\n",
    "print(\"\")\n",
    "print(\"\")\n",
    "\n",
    "print(\"Comparison of Parameter Errors for 10,000 vs 100,000 Events are: \\n\")\n",
    "print(\"V = {:.4f} (10,000 events) and {:.4f} (100,000 events)\".format(error_v_ten,error_v_hun))\n",
    "print(\"tau = {:.4f} (10,000 events) and {:.4f} (100,000 events)\".format(error_tau_ten,error_tau_hun))\n",
    "print(\"delta m = {:.4f} (10,000 events) and {:.4f} (100,000 events)\".format(error_m_ten,error_m_hun))"
   ]
  },
  {
   "cell_type": "markdown",
   "id": "c628caf0",
   "metadata": {},
   "source": [
    "The errors given above tell us the precision with which we can find the parameters if we were to do the experiment for real, given perfect detector resolutions. The parameter values correspond well with each other and the actual parameter values (being equal to at least 1 significant figure) with which the data was simulated, meaning the minimisation ran well.  \n",
    "\n",
    "It is clear to see that with more data points, the fitting ran better as fitting to 100,000 data points correlated with lower statistical errors on the parameters than with 10,000 points. In fact, the parameter errors appear to decrease by roughly a factor 3 when the number of events increased from 10,000 to 100,000. This follows poissonian statistics (which governs the probability of a particle decay) which states that the error decreases by a factor $\\sqrt{n}$ so an increase in events by a factor 10 corresponds to a decrease in error by a factor $\\sqrt{10} \\approx 3$. \n",
    "\n",
    "To summarise, when measuring the decay times of particle X, all the parameter values can be found with a precision of 2 significant figures and, in the case of V and $\\tau$ with 100,000 events, to 3 significant figures.\n",
    "\n",
    "\n",
    "# Part 2"
   ]
  },
  {
   "cell_type": "code",
   "execution_count": 9,
   "id": "2926c7a0",
   "metadata": {},
   "outputs": [],
   "source": [
    "def monte_carlo_time(v,tau,m,t_range,n,frac):\n",
    "    \"\"\"The same Monte Carlo function as above except this one adds a time resolution to the simulation\"\"\"\n",
    "    distribution_b = []\n",
    "    distribution_g = []\n",
    "    a,b = t_range\n",
    "    fmax = -sp.minimize(negative_pdf,0.1,args=([v,m,tau,a,b]),bounds=((a,b),)).fun #define the range of the \"box\"\n",
    "    \n",
    "    #while loop ensures n numbers are returned\n",
    "    while len(distribution_b) < n:\n",
    "        x1 = a+(b-a)*np.random.uniform(1,0) #defines a random number in the range [a,b]\n",
    "        y1 = pdf(x1,v,tau,m,t_range) #corresponding y1 in the exp distribution\n",
    "        y2 = np.random.uniform(1,0)*fmax #Random number inside \"box\"\n",
    "        \n",
    "        #if statement only returns y2 values within distribution \n",
    "        if y2 < y1:\n",
    "            # Picks a random time from gaussian distribution to simulate a finite time resolution\n",
    "            distribution_g.append(x1)\n",
    "            distribution_b.append(np.random.normal(x1,frac*tau)) \n",
    "            \n",
    "    return distribution_b,distribution_g"
   ]
  },
  {
   "cell_type": "code",
   "execution_count": 10,
   "id": "9f8b1b52",
   "metadata": {},
   "outputs": [
    {
     "data": {
      "image/png": "[encoded data removed]",
      "text/plain": [
       "<Figure size 432x288 with 1 Axes>"
      ]
     },
     "metadata": {
      "needs_background": "light"
     },
     "output_type": "display_data"
    }
   ],
   "source": [
    "#This cell creates the data with finite time resolution to check \n",
    "frac1 = 0.01\n",
    "frac2 = 0.03\n",
    "n=10000 # Use 10,000 events\n",
    "data_time1,wack = np.asarray(monte_carlo_time(v,tau,m,t_range,n,frac1))\n",
    "data_time2,nope = np.asarray(monte_carlo_time(v,tau,m,t_range,n,frac2))\n",
    "\n",
    "plt.hist(data_time2,bins=100,density=True)\n",
    "plt.xlabel(\"Time\")\n",
    "plt.ylabel(\"Normalised Frequency\")\n",
    "plt.title(\"Simulated Data with a Fraction of 0.03 For Time Resolution\")\n",
    "plt.show()\n",
    "\n",
    "#The oscillations are \"smeared\" out as the time resolution affects the finer details"
   ]
  },
  {
   "cell_type": "code",
   "execution_count": 11,
   "id": "dca1c2ec",
   "metadata": {},
   "outputs": [],
   "source": [
    "#Finding the bias on the parameters:\n",
    "\n",
    "def maximum_likelihood_bias1(v,tau,m,a,b):\n",
    "    \"\"\"Returns the maximum likelihood of the pdf for data with time resolution (f=0.01)\"\"\"\n",
    "    t_range = (a,b)\n",
    "    func = pdf(data_time1_b,v,tau,m,t_range)\n",
    "    func[func < 1e-5] = 1e-5 # Clip values too small for the logarithm\n",
    "    return -np.sum(np.log(func))\n",
    "\n",
    "def maximum_likelihood_bias2(v,tau,m,a,b):\n",
    "    \"\"\"Returns the maximum likelihood of the pdf for data with time resolution (f=0.03)\"\"\"\n",
    "    t_range = (a,b)\n",
    "    func = pdf(data_time2_b,v,tau,m,t_range)\n",
    "    func[func < 1e-5] = 1e-5 # Clip values too small for the logarithm\n",
    "    return -np.sum(np.log(func))\n",
    "\n",
    "def maximum_likelihood_good1(v,tau,m,a,b):\n",
    "    \"\"\"Returns the maximum likelihood of the pdf for data with no time resolution\"\"\"\n",
    "    t_range = (a,b)\n",
    "    func = pdf(data_time1_g,v,tau,m,t_range)\n",
    "    func[func < 1e-5] = 1e-5 # Clip values too small for the logarithm\n",
    "    return -np.sum(np.log(func))\n",
    "\n",
    "def maximum_likelihood_good2(v,tau,m,a,b):\n",
    "    \"\"\"Returns the maximum likelihood of the pdf for data with no time resolution\"\"\"\n",
    "    t_range = (a,b)\n",
    "    func = pdf(data_time2_g,v,tau,m,t_range)\n",
    "    func[func < 1e-5] = 1e-5 # Clip values too small for the logarithm\n",
    "    return -np.sum(np.log(func))\n",
    "\n",
    "#Define the error for Minuit\n",
    "maximum_likelihood_bias1.errordef = Minuit.LIKELIHOOD\n",
    "maximum_likelihood_bias2.errordef = Minuit.LIKELIHOOD\n",
    "maximum_likelihood_good1.errordef = Minuit.LIKELIHOOD\n",
    "maximum_likelihood_good2.errordef = Minuit.LIKELIHOOD\n",
    "\n",
    "bias1v = []\n",
    "bias2v = []\n",
    "bias1tau = []\n",
    "bias2tau = []\n",
    "bias1m = []\n",
    "bias2m = []\n",
    "\n",
    "good1v = []\n",
    "good2v = []\n",
    "good1tau = []\n",
    "good2tau = []\n",
    "good1m = []\n",
    "good2m = []\n",
    "\n",
    "#Run it 200 times to get 200 parameters\n",
    "for i in range(200):\n",
    "    # create data\n",
    "    data_time1_b,data_time1_g = np.asarray(monte_carlo_time(v,tau,m,t_range,n,frac1))\n",
    "    data_time2_b,data_time2_g = np.asarray(monte_carlo_time(v,tau,m,t_range,n,frac2))\n",
    "    # initialise minuit\n",
    "    minimum1_b = Minuit(maximum_likelihood_bias1,v=v,tau=tau,m=m,a=a,b=b)\n",
    "    minimum2_b = Minuit(maximum_likelihood_bias2,v=v,tau=tau,m=m,a=a,b=b)\n",
    "    minimum1_g = Minuit(maximum_likelihood_good1,v=v,tau=tau,m=m,a=a,b=b)\n",
    "    minimum2_g = Minuit(maximum_likelihood_good2,v=v,tau=tau,m=m,a=a,b=b)\n",
    "    # fix parameters\n",
    "    minimum1_b.fixed['a','b'] = True\n",
    "    minimum2_b.fixed['a','b'] = True\n",
    "    minimum1_g.fixed['a','b'] = True\n",
    "    minimum2_g.fixed['a','b'] = True\n",
    "    # run the minimisation\n",
    "    minimum1_b.migrad()\n",
    "    minimum2_b.migrad()\n",
    "    minimum1_g.migrad()\n",
    "    minimum2_g.migrad()\n",
    "    # save the parameters\n",
    "    bias1v.append(minimum1_b.values[0])\n",
    "    bias2v.append(minimum2_b.values[0])\n",
    "    bias1tau.append(minimum1_b.values[1])\n",
    "    bias2tau.append(minimum2_b.values[1])\n",
    "    bias1m.append(minimum1_b.values[2])\n",
    "    bias2m.append(minimum2_b.values[2])\n",
    "    good1v.append(minimum1_g.values[0])\n",
    "    good2v.append(minimum2_g.values[0])\n",
    "    good1tau.append(minimum1_g.values[1])\n",
    "    good2tau.append(minimum2_g.values[1])\n",
    "    good1m.append(minimum1_g.values[2])\n",
    "    good2m.append(minimum2_g.values[2])"
   ]
  },
  {
   "cell_type": "code",
   "execution_count": 22,
   "id": "0d557264",
   "metadata": {},
   "outputs": [
    {
     "name": "stdout",
     "output_type": "stream",
     "text": [
      "Parameter Values for f=0.01 Along With Statistical Errors and Corresponding Bias Are:\n",
      "\n",
      "V = 0.0921, Statistical Error = 0.0141, Bias = -0.0069, Error on Bias = 0.0003,\n",
      "tau = 1.5011, Statistical Error = 0.0163, Bias = -0.0004, Error on Bias = 0.0000\n",
      "delta m = 20.0004, Statistical Error = 0.0782, Bias = -0.0004, Error on Bias = 0.0019\n",
      "\n",
      "Parameter Values for f=0.03 Along With Statistical Errors and Corresponding Bias Are:\n",
      "\n",
      "V = 0.0457, Statistical Error = 0.0144, Bias = -0.0564, Error on Bias = 0.0009\n",
      "tau = 1.4982, Statistical Error = 0.0150, Bias = -0.0029, Error on Bias = 0.0001\n",
      "delta m = 19.9705, Statistical Error = 0.1475, Bias = -0.0168, Error on Bias = 0.0091\n"
     ]
    }
   ],
   "source": [
    "# find the bias\n",
    "b1v,b2v = np.mean(np.array(bias1v)-np.array(good1v)),np.mean(np.array(bias2v)-np.array(good2v))\n",
    "b1t,b2t = np.mean(np.array(bias1tau)-np.array(good1tau)),np.mean(np.array(bias2tau)-np.array(good2tau))\n",
    "b1m,b2m = np.mean(np.array(bias1m)-np.array(good1m)),np.mean(np.array(bias2m)-np.array(good2m))\n",
    "\n",
    "#finding error on the bias\n",
    "e1v,e2v = np.std(np.array(bias1v)-np.array(good1v))/np.sqrt(200),np.std(np.array(bias2v)-np.array(good2v))/np.sqrt(200)\n",
    "e1t,e2t = np.std(np.array(bias1tau)-np.array(good1tau))/np.sqrt(200),np.std(np.array(bias2tau)-np.array(good2tau))/np.sqrt(200)\n",
    "e1m,e2m = np.std(np.array(bias1m)-np.array(good1m))/np.sqrt(200),np.std(np.array(bias2m)-np.array(good2m))/np.sqrt(200)\n",
    "\n",
    "#finding statistical errors on the parameters\n",
    "s1v,s2v = np.std(bias1v),np.std(bias2v)\n",
    "s1t,s2t = np.std(bias1tau),np.std(bias2tau)\n",
    "s1m,s2m = np.std(bias1m),np.std(bias2m)\n",
    "\n",
    "print(\"Parameter Values for f=0.01 Along With Statistical Errors and Corresponding Bias Are:\\n\")\n",
    "print(\"V = {:.4f}, Statistical Error = {:.4f}, Bias = {:.4f}, Error on Bias = {:.4f},\".format(np.mean(bias1v),s1v,b1v,e1v))\n",
    "print(\"tau = {:.4f}, Statistical Error = {:.4f}, Bias = {:.4f}, Error on Bias = {:.4f}\".format(np.mean(bias1tau),s1t,b1t,e1t))\n",
    "print(\"delta m = {:.4f}, Statistical Error = {:.4f}, Bias = {:.4f}, Error on Bias = {:.4f}\".format(np.mean(bias1m),s1m,b1m,e1m))\n",
    "print(\"\")\n",
    "print(\"Parameter Values for f=0.03 Along With Statistical Errors and Corresponding Bias Are:\\n\")\n",
    "print(\"V = {:.4f}, Statistical Error = {:.4f}, Bias = {:.4f}, Error on Bias = {:.4f}\".format(np.mean(bias2v),s2v,b2v,e2v))\n",
    "print(\"tau = {:.4f}, Statistical Error = {:.4f}, Bias = {:.4f}, Error on Bias = {:.4f}\".format(np.mean(bias2tau),s2t,b2t,e2t))\n",
    "print(\"delta m = {:.4f}, Statistical Error = {:.4f}, Bias = {:.4f}, Error on Bias = {:.4f}\".format(np.mean(bias2m),s2m,b2m,e2m))"
   ]
  },
  {
   "cell_type": "markdown",
   "id": "abbbf28b",
   "metadata": {},
   "source": [
    "The biases are small but the errors on the biases are even smaller, except for $\\Delta m$. Unlike for V and $\\tau$ where we can be reasonably certain on the bias, $\\Delta m$ has an error which is either close to, or even exceeds, the value of the actual bias. For some reason, Minuit struggles to consistently determine an accurate value for $\\Delta m$ meaning that it is impossible to tell the exact value for the bias. The reason is likely because $\\Delta m$ has a large value within the sine function, meaning that a slight variation in t causes a wildly different value for $\\sin{\\Delta mt}$. This, therefore, causes the best value of $\\Delta m$ to change a lot thus producing a wide width of $\\Delta m$ values. As a result, it is difficult to tell if the bias on $\\Delta m$ will be large or not as it greatly depends on which values of t are more skewed during a particular run. This is also reflected in the statistical error which is far greater — by a factor 10 in the case of f = 0.03 — than the the error in the other parameters.  \n",
    "\n",
    "Comparing these biases with the statistical errors on the parameters, we find that for $\\tau$ and $\\Delta m$, the bias is dwarfed by those values whereas for V, the bias can be almost 5 times as large! This implies that the time resolution will greatly affect the fitted value for V, whilst for the others the random statistical error will dominate. A possible reason is that the time resolution \"smears\" out the waves in the slope. This doesn't affect the overall shape much (hence $\\tau$ has the smallest bias) but it does make the finer features, i.e., the periodic parts, change. The greatest bias can be found in the V parameter which is not too surprising as the amplitude of the wave changes due to the \"smearing\" inducing a smoothing of the curve whilst the period of oscillation does not change as much as the amplitude. Because of this, V has the highest bias, followed by $\\Delta m$ and $\\tau$ has a very small bias.\n",
    "\n",
    "The biases increase as the fraction, f, increases which is to be expected as an increasing bias coincides with a decreasing time resolution. The bias on $\\delta m$ increases the least (although we cannot know for sure due to the high uncertainty) whereas the bias on V increases the most.  "
   ]
  },
  {
   "cell_type": "markdown",
   "id": "4670b52b",
   "metadata": {},
   "source": [
    "# Part 3"
   ]
  },
  {
   "cell_type": "code",
   "execution_count": 13,
   "id": "5e9373e7",
   "metadata": {},
   "outputs": [],
   "source": [
    "#Time acceptance is multiplied by the pdf\n",
    "\n",
    "def pdf_ta(t,v,tau,m,t_range,s):\n",
    "    \"\"\"Defines the pdf multiplied by the time acceptance function\"\"\"\n",
    "    a,b = t_range\n",
    "    func = lambda x: (1+s*x)*(1+v*np.sin(m*x))*np.exp(-x/tau)\n",
    "    norm = 1/(si.quad(func,a,b)[0]) # normalises the pdf\n",
    "    return norm*func(t)\n",
    "\n",
    "def negative_pdf_ta(t,args):\n",
    "    \"\"\"Defines the same pdf as above but negative (for finding fmax)\"\"\"\n",
    "    v,m,tau,a,b,s = args\n",
    "    func = lambda x: (1+s*x)*(1+v*np.sin(m*x))*np.exp(-x/tau)\n",
    "    norm = 1/(si.quad(func,a,b)[0]) # normalises the pdf\n",
    "    return -norm*func(t)\n",
    "\n",
    "#Function draws random number from distribution using box method\n",
    "def monte_carlo_ta(v,tau,m,t_range,n,s):\n",
    "    \"\"\"Monte Carlo function that returns data corresponding to pdf with time acceptance function\"\"\"\n",
    "    distribution = []\n",
    "    a,b = t_range\n",
    "    fmax = -sp.minimize(negative_pdf_ta,0.1,args=([v,m,tau,a,b,s]),bounds=((a,b),)).fun #define the range of the \"box\"\n",
    "    func = lambda x: (1+s*x)*(1+v*np.sin(m*x))*np.exp(-x/tau)\n",
    "    norm = 1/(si.quad(func,a,b)[0]) # normalises the pdf\n",
    "    \n",
    "    #while loop ensures n numbers are returned\n",
    "    while len(distribution) < n:\n",
    "        x1 = a+(b-a)*np.random.uniform(1,0) #defines a random number in the range [a,b]\n",
    "        y1 = norm*func(x1) #corresponding y1 in the exp distribution\n",
    "        y2 = np.random.uniform(1,0)*fmax #Random number inside \"box\"\n",
    "        \n",
    "        #if statement only returns y2 values within distribution \n",
    "        if y2 < y1:\n",
    "            distribution.append(x1)\n",
    "            \n",
    "    return distribution\n",
    "\n",
    "def maximum_likelihood_ta(v,tau,m,a,b,s):\n",
    "    \"\"\"Returns the maximum likelihood of the pdf for data with time acceptance function\"\"\"\n",
    "    t_range = (a,b)\n",
    "    func = pdf_ta(ta_data,v,tau,m,t_range,s)\n",
    "    func[func < 1e-4] = 1e-4 # Clip values too small for the logarithm\n",
    "    return -np.sum(np.log(func))\n"
   ]
  },
  {
   "cell_type": "code",
   "execution_count": 14,
   "id": "826021b1",
   "metadata": {},
   "outputs": [
    {
     "data": {
      "image/png": "[encoded data removed]",
      "text/plain": [
       "<Figure size 432x288 with 1 Axes>"
      ]
     },
     "metadata": {
      "needs_background": "light"
     },
     "output_type": "display_data"
    },
    {
     "data": {
      "image/png": "[encoded data removed]",
      "text/plain": [
       "<Figure size 432x288 with 1 Axes>"
      ]
     },
     "metadata": {
      "needs_background": "light"
     },
     "output_type": "display_data"
    },
    {
     "data": {
      "image/png": "[encoded data removed]",
      "text/plain": [
       "<Figure size 432x288 with 1 Axes>"
      ]
     },
     "metadata": {
      "needs_background": "light"
     },
     "output_type": "display_data"
    }
   ],
   "source": [
    "#re-define the parameters\n",
    "v = 0.1\n",
    "tau = 1.5\n",
    "m = 20.\n",
    "a = 0\n",
    "b = 10\n",
    "t_range = (a,b)\n",
    "s = 0\n",
    "s_err = 0.03\n",
    "\n",
    "data_z = monte_carlo_ta(v,tau,m,t_range,10000,s)     # Monte Carlo for s=0\n",
    "data_f = monte_carlo_ta(v,tau,m,t_range,10000,s_err) # Monte Carlo for s=0.03\n",
    "data_o = monte_carlo_ta(v,tau,m,t_range,10000,1)     # Monte Carlo for s=1\n",
    "\n",
    "\n",
    "#plot the values with time acceptance functions to check\n",
    "plt.plot(values,pdf_ta(values,v,tau,m,t_range,s))\n",
    "plt.hist(data_z,bins=100,density=True)\n",
    "plt.xlabel(\"Time\")\n",
    "plt.ylabel(\"Normalised Frequency\")\n",
    "plt.title(\"PDF Superimposed Over Histogram with s=0\")\n",
    "plt.show()\n",
    "\n",
    "plt.plot(values,pdf_ta(values,v,tau,m,t_range,s_err))\n",
    "plt.hist(data_f,bins=100,density=True)\n",
    "plt.xlabel(\"Time\")\n",
    "plt.ylabel(\"Normalised Frequency\")\n",
    "plt.title(\"PDF Superimposed Over Histogram with s=0.03\")\n",
    "plt.show()\n",
    "\n",
    "plt.plot(values,pdf_ta(values,v,tau,m,t_range,1))\n",
    "plt.hist(data_o,bins=100,density=True)\n",
    "plt.xlabel(\"Time\")\n",
    "plt.ylabel(\"Normalised Frequency\")\n",
    "plt.title(\"PDF Superimposed Over Histogram with s=1\")\n",
    "plt.show()"
   ]
  },
  {
   "cell_type": "markdown",
   "id": "b6c988cc",
   "metadata": {},
   "source": [
    "By increasing s, the histogram becomes shorter and wider as the time acceptance function is a straight line that is multiplied by the original pdf. This causes the graph to be linear (with sine curves) at very low t before the exponential takes over at higher t and we get a exponentially decreasing curve (with sine curves) again. This is exactly as we observe above so we know the pdf(t)$\\cdot$a(t) runs as expected."
   ]
  },
  {
   "cell_type": "code",
   "execution_count": 15,
   "id": "f4b5bb81",
   "metadata": {},
   "outputs": [],
   "source": [
    "v = 0.1\n",
    "tau = 1.5\n",
    "m = 20.\n",
    "a = 0\n",
    "b = 10\n",
    "t_range = (a,b)\n",
    "n = 10000\n",
    "s = 0\n",
    "s_err = 0.03\n",
    "\n",
    "#generates data for the function with no time acceptance\n",
    "ta_data = np.asarray(monte_carlo_ta(v,tau,m,t_range,n,s))\n",
    "\n",
    "# Using the simplistic method:\n",
    "\n",
    "#For the first run, we use our value of s equal to 0 and fit the parameters\n",
    "\n",
    "#fitting for the time acceptance\n",
    "maximum_likelihood_ta.errordef = Minuit.LIKELIHOOD # Tells Minuit to use log-likelihood for the error matrix (0.5)\n",
    "\n",
    "#Values for pdf without error\n",
    "mta = Minuit(maximum_likelihood_ta,v=v,tau=tau,m=m,a=a,b=b,s=s) # Uses log-likelihood function with the stated guesses\n",
    "mta.fixed['a','b','s'] = True\n",
    "mta.migrad() # runs the minimisation\n",
    "\n",
    "#Now we run it with s equal to the s+s_error and find the parameter\n",
    "\n",
    "#Values for pdf with positive error\n",
    "mta2 = Minuit(maximum_likelihood_ta,v=v,tau=tau,m=m,a=a,b=b,s=s+s_err) #Uses the value plus error as starting guess\n",
    "mta2.fixed['a','b','s'] = True\n",
    "mta2.migrad() # runs the minimisation\n",
    "\n",
    "#Values for pdf with negative error\n",
    "mta3 = Minuit(maximum_likelihood_ta,v=v,tau=tau,m=m,a=a,b=b,s=s-s_err) #Uses the value minus error as starting guess\n",
    "mta3.fixed['a','b','s'] = True\n",
    "mta3.migrad() # runs the minimisation\n",
    "\n",
    "mta_ave = np.sqrt(np.square(np.asarray(mta2.values))+np.square(np.asarray(mta3.values)))\n",
    "\n",
    "#Finding the difference between the two values gives the systematic error\n",
    "sys_err = abs(np.asarray(mta2.values)-np.asarray(mta.values))"
   ]
  },
  {
   "cell_type": "code",
   "execution_count": 16,
   "id": "bc5b4f88",
   "metadata": {},
   "outputs": [
    {
     "name": "stdout",
     "output_type": "stream",
     "text": [
      "Raw Values\n",
      "\n",
      "For s+s_err:\n",
      "v = 0.08156799771613228, tau = 1.451209796295804, dm = 20.06321108287477\n",
      "For s-s_err:\n",
      "v = 0.08160717399235595, tau = 1.59116042097586, dm = 20.06314813979651\n",
      "\n",
      "Difference\n",
      "\n",
      "For s+s_err:\n",
      "v = 9.533006350388729e-05, tau = -0.06088644183055214, dm = 8.633674878311126e-05\n",
      "For s-s_err:\n",
      "v = 0.0001345063397275581, tau = 0.079064182849504, dm = 2.3393670524285426e-05\n"
     ]
    }
   ],
   "source": [
    "#check to see if +/- is similar\n",
    "print(\"Raw Values\\n\")\n",
    "print(\"For s+s_err:\")\n",
    "print(\"v = {:}, tau = {:}, dm = {:}\".format(mta2.values[0],mta2.values[1],mta2.values[2]))\n",
    "print(\"For s-s_err:\")\n",
    "print(\"v = {:}, tau = {:}, dm = {:}\\n\".format(mta3.values[0],mta3.values[1],mta3.values[2]))\n",
    "\n",
    "print(\"Difference\\n\")\n",
    "print(\"For s+s_err:\")\n",
    "print(\"v = {:}, tau = {:}, dm = {:}\".format(mta2.values[0]-mta.values[0],mta2.values[1]-mta.values[1],\n",
    "                                            mta2.values[2]-mta.values[2]))\n",
    "print(\"For s-s_err:\")\n",
    "print(\"v = {:}, tau = {:}, dm = {:}\".format(mta3.values[0]-mta.values[0],mta3.values[1]-mta.values[1],\n",
    "                                            mta3.values[2]-mta.values[2]))\n",
    "\n",
    "# These values are in reasonable agreement with each other with s+s_err being approximately equal to, or at least\n",
    "# as far below, the true value as s-s_err is above it ."
   ]
  },
  {
   "cell_type": "code",
   "execution_count": 17,
   "id": "ad47e8f9",
   "metadata": {},
   "outputs": [
    {
     "name": "stdout",
     "output_type": "stream",
     "text": [
      "Errors on Parameters are:\n",
      "\n",
      "V = 0.0815 +/- 0.0142 +/- 0.0001\n",
      "tau = 1.5121 +/- 0.0156 +/- 0.0609\n",
      "dm = 20.0631 +/- 0.0672 +/- 0.0001\n"
     ]
    }
   ],
   "source": [
    "print(\"Errors on Parameters are:\\n\")\n",
    "print(\"V = {:.4f} +/- {:.4f} +/- {:.4f}\".format(mta.values[0],mta.errors[0],sys_err[0]))\n",
    "print(\"tau = {:.4f} +/- {:.4f} +/- {:.4f}\".format(mta.values[1],mta.errors[1],sys_err[1]))\n",
    "print(\"dm = {:.4f} +/- {:.4f} +/- {:.4f}\".format(mta.values[2],mta.errors[2],sys_err[2]))\n",
    "\n",
    "#Key: Parameter = Value +/- Statistical Error +/- Systematic Error\""
   ]
  },
  {
   "cell_type": "markdown",
   "id": "588b611e",
   "metadata": {},
   "source": [
    "The systematic errors on V and $\\Delta m$ are minuscule whilst the systematic error on $\\tau$ is huge compared to its statistical error. This is to be expected as the sinusoid part of the function is not greatly affected by the time acceptance function. As can be seen in the plots above, the oscillation frequency doesn't change at all due to the fact it's inside the sine function and so the frequency is unaffected by the time acceptance function. The only power it holds over sine is changing the amplitude.\n",
    "\n",
    "$\\tau$, on the other hand, is more sensitive to changes to the overall function shape, which is what occurs when the pdf is multiplied by the time acceptance function (c.f. the graph above). As a result, it is expected that the systematic error for tau is greater then the others; in fact, it's greater than its statistical error meaning that the imperfectiveness of the measurement will induce a regular systematic error in the sampling of the data.\n",
    "\n",
    "Thus, if we want to measure a reliable value of $\\tau$ that lies within the statistical error, we must constrain the value of s to a more accurate value. For V and $\\Delta m$, this will not be necessary as the statistical error will be the main hurdle to overcome. "
   ]
  },
  {
   "cell_type": "code",
   "execution_count": 23,
   "id": "3a5b679a",
   "metadata": {},
   "outputs": [],
   "source": [
    "#Doing same thing but with method 2\n",
    "\n",
    "#Create a gaussian distribution centred on the mean and with width equal to the error on the mean\n",
    "#Then pick values of G inside and run the fit\n",
    "shift_v = []\n",
    "shift_tau = []\n",
    "shift_m = []\n",
    "count = 0\n",
    "\n",
    "while count<100: # Do this 100 times\n",
    "    g = np.random.normal(loc=s,scale=s_err) # pick value of s from gaussian distribution\n",
    "    ml2 = Minuit(maximum_likelihood_ta,v=v,tau=tau,m=m,a=a,b=b,s=s) # Uses log-likelihood function with the stated guesses\n",
    "    ml2.fixed['a','b','s'] = True # fix s as a constant parameter \n",
    "    ml2.migrad() # runs the minimisation\n",
    "    ml3 = Minuit(maximum_likelihood_ta,v=v,tau=tau,m=m,a=a,b=b,s=g) # Uses log-likelihood with random s\n",
    "    ml3.fixed['a','b','s'] = True\n",
    "    ml3.migrad() \n",
    "    # append the shifts to their respective parameters\n",
    "    shift_v.append(np.asarray(ml2.values[0])-np.asarray(ml3.values[0]))\n",
    "    shift_tau.append(np.asarray(ml2.values[1])-np.asarray(ml3.values[1]))\n",
    "    shift_m.append(np.asarray(ml2.values[2])-np.asarray(ml3.values[2]))\n",
    "    count+=1"
   ]
  },
  {
   "cell_type": "code",
   "execution_count": 24,
   "id": "a68f15b2",
   "metadata": {},
   "outputs": [
    {
     "data": {
      "image/png": "[encoded data removed]",
      "text/plain": [
       "<Figure size 432x288 with 1 Axes>"
      ]
     },
     "metadata": {
      "needs_background": "light"
     },
     "output_type": "display_data"
    },
    {
     "data": {
      "image/png": "[encoded data removed]",
      "text/plain": [
       "<Figure size 432x288 with 1 Axes>"
      ]
     },
     "metadata": {
      "needs_background": "light"
     },
     "output_type": "display_data"
    },
    {
     "data": {
      "image/png": "[encoded data removed]",
      "text/plain": [
       "<Figure size 432x288 with 1 Axes>"
      ]
     },
     "metadata": {
      "needs_background": "light"
     },
     "output_type": "display_data"
    }
   ],
   "source": [
    "# Plot histograms of the shifts to ensure they are Gaussian\n",
    "\n",
    "plt.hist(shift_v,bins=50)\n",
    "plt.title(\"Histogram of Shifts Induced on V\")\n",
    "plt.xlabel(\"Shift Bin\")\n",
    "plt.ylabel(\"Frequency\")\n",
    "plt.show()\n",
    "\n",
    "plt.hist(shift_tau,bins=50)\n",
    "plt.title(r\"Histogram of Shifts Induced on $\\tau$\")\n",
    "plt.xlabel(\"Shift Bin\")\n",
    "plt.ylabel(\"Frequency\")\n",
    "plt.show()\n",
    "\n",
    "plt.hist(shift_m,bins=50)\n",
    "plt.title(\"Histogram of Shifts Induced on $\\Delta m$\")\n",
    "plt.xlabel(\"Shift Bin\")\n",
    "plt.ylabel(\"Frequency\")\n",
    "plt.show()"
   ]
  },
  {
   "cell_type": "markdown",
   "id": "d72993bc",
   "metadata": {},
   "source": [
    "These are supposed to look Gaussian. They look pretty close to gaussians so the method appears to have worked succesfully. Peculiarly, however, the graph of V appears to rarely go above 0 (in some runs, it never goes above 0) implying that the value of V calculated for s=0 is often (always) smaller than for s$\\neq$0. Alas, I cannot think of a reason for this. Initially, I suspected it was because (1+st) will always result in a value larger than 1 (which you get for s=0) for any value between s+s_err. However, due to the nature of a Gaussian distribution centred on 0, it is also possible to get negative values meaning we also have values between s-s_err. Now (1+st) will always be smaller than 0 and so it should then lead to a lower amplitude and, therefore, a lower V. Evidently, that is not the case as even negative s leads to a greater value for V. Thus, this mystery remains unsolved :("
   ]
  },
  {
   "cell_type": "code",
   "execution_count": 25,
   "id": "5a5265c3",
   "metadata": {},
   "outputs": [
    {
     "name": "stdout",
     "output_type": "stream",
     "text": [
      "Errors on Parameters are:\n",
      "\n",
      "V = 0.0815 +/- 0.0142 +/- 0.0003\n",
      "tau = 1.5121 +/- 0.0156 +/- 0.0820\n",
      "dm = 20.0631 +/- 0.0672 +/- 0.0002\n"
     ]
    }
   ],
   "source": [
    "#systematic errors are their standard deviations\n",
    "sysv = np.std(shift_v)\n",
    "systau = np.std(shift_tau)\n",
    "sysm = np.std(shift_m)\n",
    "\n",
    "\n",
    "\n",
    "print(\"Errors on Parameters are:\\n\")\n",
    "print(\"V = {:.4f} +/- {:.4f} +/- {:.4f}\".format(mta.values[0],mta.errors[0],sysv))\n",
    "print(\"tau = {:.4f} +/- {:.4f} +/- {:.4f}\".format(mta.values[1],mta.errors[1],systau))\n",
    "print(\"dm = {:.4f} +/- {:.4f} +/- {:.4f}\".format(mta.values[2],mta.errors[2],sysm))\n",
    "\n",
    "#Key: Parameter = Value +/- Statistical Error +/- Systematic Error\""
   ]
  },
  {
   "cell_type": "markdown",
   "id": "9ea8676c",
   "metadata": {},
   "source": [
    "These values, calculated via a Gaussian method, are in good agreement with the values found via method 1. As a result, the conclusion remains the same so $\\tau$ still has the highest systematic error with V and $\\Delta m$ having the lowest systematic error. \n",
    "\n",
    "The only difference is that the values for these systematic errors are slightly higher than those found in method 1. I suspect that is due to the differences between s+s_err and s-s_err as s-s_err gives a slightly more deviated value for $\\tau$ and V than s+s_err does. Therefore, due to the greater deviation, the Gaussian is relatively wide meaning the standard deviations (i.e., the systematic errors) are larger. "
   ]
  },
  {
   "cell_type": "code",
   "execution_count": null,
   "id": "ac25ff42",
   "metadata": {},
   "outputs": [],
   "source": []
  },
  {
   "cell_type": "code",
   "execution_count": null,
   "id": "24c14913",
   "metadata": {},
   "outputs": [],
   "source": []
  }
 ],
 "metadata": {
  "kernelspec": {
   "display_name": "Python 3 (ipykernel)",
   "language": "python",
   "name": "python3"
  },
  "language_info": {
   "codemirror_mode": {
    "name": "ipython",
    "version": 3
   },
   "file_extension": ".py",
   "mimetype": "text/x-python",
   "name": "python",
   "nbconvert_exporter": "python",
   "pygments_lexer": "ipython3",
   "version": "3.7.10"
  }
 },
 "nbformat": 4,
 "nbformat_minor": 5
}
