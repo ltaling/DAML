{
 "cells": [
  {
   "cell_type": "code",
   "execution_count": 24,
   "id": "dcce50cd",
   "metadata": {},
   "outputs": [],
   "source": [
    "import numpy as np\n",
    "import matplotlib.pyplot as plt\n",
    "\n",
    "%matplotlib inline"
   ]
  },
  {
   "cell_type": "code",
   "execution_count": 25,
   "id": "ba91ca84",
   "metadata": {},
   "outputs": [],
   "source": [
    "#Exponential PDF\n",
    "def exp_pdf(t,tau):\n",
    "    return (1./tau)*np.exp(-t/tau)\n",
    "\n",
    "#Function draws random number from exponential distribution using box method\n",
    "def exp_random(tau,t_range,n):\n",
    "    distribution = []\n",
    "    a,b = t_range\n",
    "    fmax = 1./tau #define the range of the \"box\"\n",
    "    \n",
    "    #while loop ensures n numbers are returned\n",
    "    while len(distribution) < n:\n",
    "        x1 = a+(b-a)*np.random.uniform(1,0) #defines a random number in the range [a,b]\n",
    "        y1 = exp_pdf(x1,tau) #corresponding y1 in the exp distribution\n",
    "        y2 = np.random.uniform(1,0)*fmax #Random number inside \"box\"\n",
    "        \n",
    "        #if statement only returns y2 values within distribution \n",
    "        if y2 < y1:\n",
    "            distribution.append(x1)\n",
    "            \n",
    "    return distribution\n",
    "\n",
    "#Function draws random number from exponential distribution using inverse method\n",
    "def exp_inverse_random(tau,t_range,n):\n",
    "    distribution = []\n",
    "    a,b = t_range #define the time range\n",
    "    \n",
    "    y_01 = np.random.uniform(0,1,n) #generate n random numbers between 0 and 1\n",
    "    y = (1-np.exp(-b/tau))*y_01 #converts random number to value in CDF\n",
    "    x = -tau*np.log(1-y) #Finds the corresponding inverse value \n",
    "    distribution.append(x)\n",
    "    \n",
    "    return distribution\n",
    "    \n",
    "    \n",
    "    "
   ]
  },
  {
   "cell_type": "code",
   "execution_count": 71,
   "id": "a011fb67",
   "metadata": {},
   "outputs": [
    {
     "data": {
      "image/png": "[encoded data removed]",
      "text/plain": [
       "<Figure size 432x288 with 1 Axes>"
      ]
     },
     "metadata": {
      "needs_background": "light"
     },
     "output_type": "display_data"
    }
   ],
   "source": [
    "tau = 2.2e-6 #Muon lifetime\n",
    "t_range = [0,1e-5] #Range between 0 & 10 us\n",
    "n = 1000 #number of random numbers we want\n",
    "\n",
    "dist = exp_random(tau,t_range,n) #Using the Box method to draw random numbers\n",
    "\n",
    "plt.hist(dist,bins=50) #check to ensure the distribution looks correct\n",
    "plt.title(\"Histogram of Random Numbers Drawn From the Exponential Distribution\")\n",
    "plt.xlabel(\"Time Bins (s)\")\n",
    "plt.show() \n",
    "#The distribution appears exponential!"
   ]
  },
  {
   "cell_type": "code",
   "execution_count": 27,
   "id": "7a8242fd",
   "metadata": {},
   "outputs": [
    {
     "name": "stdout",
     "output_type": "stream",
     "text": [
      "Estimated muon lifetime, tau = 2.0759628809934592e-06 s\n"
     ]
    }
   ],
   "source": [
    "tau_est = np.mean(dist)\n",
    "print(\"Estimated muon lifetime, tau = \" +str(tau_est)+\" s\")"
   ]
  },
  {
   "cell_type": "markdown",
   "id": "76aab674",
   "metadata": {},
   "source": [
    "The muon lifetime displayed here is lower than the real one due to the constraint of using 10$\\mu$s as the time range. The majority of the decay time values lie a little below the actual value but a few lie well above, which we have cut out of the analysis. Once these are taken into account, the average value will land closer to the real one of 2.2$\\mu$s. I shall demonstrate this below:"
   ]
  },
  {
   "cell_type": "code",
   "execution_count": 73,
   "id": "d0b6761b",
   "metadata": {},
   "outputs": [
    {
     "name": "stdout",
     "output_type": "stream",
     "text": [
      "Estimated muon lifetime, tau = 2.1885379504058814e-06 s\n"
     ]
    }
   ],
   "source": [
    "t_range2=[0,1e-3] #0 to 1 ms\n",
    "better_tau_est = np.mean(exp_random(tau,t_range2,n))\n",
    "print(\"Estimated muon lifetime, tau = \" +str(better_tau_est)+\" s\")\n",
    "\n",
    "#Takes longer to run but it is a much better value"
   ]
  },
  {
   "cell_type": "code",
   "execution_count": 28,
   "id": "8b9622d5",
   "metadata": {},
   "outputs": [],
   "source": [
    "tau_collection = []\n",
    "tau_collection2 = []\n",
    "m=500\n",
    "\n",
    "#for loop to compute 500 taus\n",
    "for i in range(m):\n",
    "    tau_collection.append(np.mean(exp_random(tau,t_range,n))) #box method\n",
    "    tau_collection2.append(np.mean(exp_inverse_random(tau,t_range,n))) #inverse cumulative method"
   ]
  },
  {
   "cell_type": "code",
   "execution_count": 33,
   "id": "bb900ec5",
   "metadata": {},
   "outputs": [
    {
     "data": {
      "image/png": "[encoded data removed]",
      "text/plain": [
       "<Figure size 432x288 with 1 Axes>"
      ]
     },
     "metadata": {
      "needs_background": "light"
     },
     "output_type": "display_data"
    }
   ],
   "source": [
    "plt.hist(tau_collection,bins=50)\n",
    "plt.title(\"Histogram of Different Values of tau\")\n",
    "plt.xlabel(\"Time Bin (s)\")\n",
    "plt.show()\n",
    "\n",
    "#The histogram is a Gaussian distribution "
   ]
  },
  {
   "cell_type": "code",
   "execution_count": 35,
   "id": "8d3a99fc",
   "metadata": {},
   "outputs": [
    {
     "name": "stdout",
     "output_type": "stream",
     "text": [
      "Values found using the Box Method:\n",
      "\n",
      "Mean of the distribution = 2.094436188820505e-06 s\n",
      "Standard Deviation of the distribution = 5.8625173266368737e-08\n",
      "Standard Error of the mean = 2.6217974523260776e-09\n",
      "Bias = 1.0808227943578369e-07\n"
     ]
    }
   ],
   "source": [
    "print(\"Values found using the Box Method:\")\n",
    "print(\"\")\n",
    "print(\"Mean of the distribution = \"+str(np.mean(tau_collection))+\" s\")\n",
    "print(\"Standard Deviation of the distribution = \"+str(np.std(tau_collection)))\n",
    "print(\"Standard Error of the mean = \"+str(np.std(tau_collection)/np.sqrt(m))) #std/sqrt(m)\n",
    "print(\"Bias = \"+str(abs(np.mean(tau_collection2)-2.2e-6)))"
   ]
  },
  {
   "cell_type": "code",
   "execution_count": 36,
   "id": "5698bfba",
   "metadata": {},
   "outputs": [
    {
     "name": "stdout",
     "output_type": "stream",
     "text": [
      "Values found using the Inverse Cumulative Method:\n",
      "\n",
      "Mean of the distribution = 2.0919177205642164e-06 s\n",
      "Standard Deviation of the distribution = 6.03943003969664e-08\n",
      "Standard Error of the mean = 2.700915222823188e-09\n",
      "Bias = 1.0808227943578369e-07\n"
     ]
    }
   ],
   "source": [
    "print(\"Values found using the Inverse Cumulative Method:\")\n",
    "print(\"\")\n",
    "print(\"Mean of the distribution = \"+str(np.mean(tau_collection2))+\" s\")\n",
    "print(\"Standard Deviation of the distribution = \"+str(np.std(tau_collection2)))\n",
    "print(\"Standard Error of the mean = \"+str(np.std(tau_collection2)/np.sqrt(m)))\n",
    "print(\"Bias = \"+str(abs(np.mean(tau_collection2)-2.2e-6)))"
   ]
  },
  {
   "cell_type": "markdown",
   "id": "f633d9d5",
   "metadata": {},
   "source": [
    "The method is biased in the lower direction due to the small time interval of 10$\\mu$s cutting off higher decay times. The most accurate value you can obtain with a single experiment for tau is a value of the mean within the standard deviation whereas the error on the bias is the same as the standard error of the mean."
   ]
  },
  {
   "cell_type": "markdown",
   "id": "f080485b",
   "metadata": {},
   "source": [
    "## Stretch Material"
   ]
  },
  {
   "cell_type": "code",
   "execution_count": 56,
   "id": "ec70518e",
   "metadata": {},
   "outputs": [],
   "source": [
    "#adding background\n",
    "\n",
    "def gaussian(x,u,sigma):\n",
    "    return (1/(sigma*np.sqrt(2*np.pi)))*np.exp(-0.5*((x-u)/sigma)**2)\n",
    "    \n",
    "\n",
    "def background(t_range,u,sigma,n,X):\n",
    "    distribution = []\n",
    "    a,b = t_range\n",
    "    fmax = 1./tau \n",
    "    \n",
    "    while len(distribution) < n:\n",
    "        x1 = a+(b-a)*np.random.uniform(1,0) \n",
    "        y1 = X*exp_pdf(x1,tau) + (1-X)*gaussian(x1,u,sigma) \n",
    "        y2 = np.random.uniform(1,0)*fmax \n",
    "        \n",
    "        if y2 < y1:\n",
    "            distribution.append(x1)\n",
    "            \n",
    "    return distribution\n",
    "    "
   ]
  },
  {
   "cell_type": "code",
   "execution_count": 57,
   "id": "e81bc717",
   "metadata": {},
   "outputs": [],
   "source": [
    "n=1000\n",
    "t_range=[0,1e-5]\n",
    "u=0\n",
    "sigma=1e-6\n",
    "tau2=3e-6\n",
    "X=0.91\n",
    "\n",
    "back = background(t_range,u,sigma,n,X)"
   ]
  },
  {
   "cell_type": "code",
   "execution_count": 59,
   "id": "5603675b",
   "metadata": {},
   "outputs": [
    {
     "data": {
      "image/png": "[encoded data removed]",
      "text/plain": [
       "<Figure size 432x288 with 1 Axes>"
      ]
     },
     "metadata": {
      "needs_background": "light"
     },
     "output_type": "display_data"
    }
   ],
   "source": [
    "plt.hist(back,bins=50)\n",
    "plt.show()"
   ]
  },
  {
   "cell_type": "code",
   "execution_count": 63,
   "id": "e716e418",
   "metadata": {},
   "outputs": [],
   "source": [
    "tau_background = []\n",
    "m=500\n",
    "\n",
    "#for loop to compute 500 taus\n",
    "for i in range(m):\n",
    "    tau_background.append(np.mean(background(t_range,u,sigma,n,X)))"
   ]
  },
  {
   "cell_type": "code",
   "execution_count": 64,
   "id": "b019bce2",
   "metadata": {},
   "outputs": [
    {
     "data": {
      "image/png": "[encoded data removed]",
      "text/plain": [
       "<Figure size 432x288 with 1 Axes>"
      ]
     },
     "metadata": {
      "needs_background": "light"
     },
     "output_type": "display_data"
    }
   ],
   "source": [
    "plt.hist(tau_background,bins=50)\n",
    "plt.show()"
   ]
  },
  {
   "cell_type": "code",
   "execution_count": 65,
   "id": "09a1c169",
   "metadata": {},
   "outputs": [],
   "source": [
    "#adding time acceptance\n",
    "\n",
    "G=0.1*tau\n",
    "\n",
    "def background_time(t_range,u,sigma,n,X,G):\n",
    "    distribution = []\n",
    "    a,b = t_range\n",
    "    fmax = 1./tau \n",
    "    \n",
    "    while len(distribution) < n:\n",
    "        x1 = a+(b-a)*np.random.uniform(1,0) \n",
    "        p1 = X*exp_pdf(x1,tau) + (1-X)*gaussian(x1,u,sigma) \n",
    "        y1 = p1*(1-np.exp(-x1/G))\n",
    "        y2 = np.random.uniform(1,0)*fmax \n",
    "        \n",
    "        if y2 < y1:\n",
    "            distribution.append(x1)\n",
    "            \n",
    "    return distribution\n",
    "\n",
    "back_time = background_time(t_range,u,sigma,n,X,G)"
   ]
  },
  {
   "cell_type": "code",
   "execution_count": 67,
   "id": "afdb9e1a",
   "metadata": {},
   "outputs": [],
   "source": [
    "tau_background_time = []\n",
    "m=500\n",
    "\n",
    "#for loop to compute 500 taus\n",
    "for i in range(m):\n",
    "    tau_background_time.append(np.mean(background_time(t_range,u,sigma,n,X,G)))"
   ]
  },
  {
   "cell_type": "code",
   "execution_count": 68,
   "id": "41c6d8d0",
   "metadata": {},
   "outputs": [
    {
     "data": {
      "image/png": "[encoded data removed]",
      "text/plain": [
       "<Figure size 432x288 with 1 Axes>"
      ]
     },
     "metadata": {
      "needs_background": "light"
     },
     "output_type": "display_data"
    }
   ],
   "source": [
    "plt.hist(tau_background_time,bins=50)\n",
    "plt.show()"
   ]
  },
  {
   "cell_type": "code",
   "execution_count": null,
   "id": "38cc95d4",
   "metadata": {},
   "outputs": [],
   "source": []
  }
 ],
 "metadata": {
  "kernelspec": {
   "display_name": "Python 3 (ipykernel)",
   "language": "python",
   "name": "python3"
  },
  "language_info": {
   "codemirror_mode": {
    "name": "ipython",
    "version": 3
   },
   "file_extension": ".py",
   "mimetype": "text/x-python",
   "name": "python",
   "nbconvert_exporter": "python",
   "pygments_lexer": "ipython3",
   "version": "3.7.10"
  }
 },
 "nbformat": 4,
 "nbformat_minor": 5
}
