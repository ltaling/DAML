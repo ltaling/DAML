{
 "cells": [
  {
   "cell_type": "code",
   "execution_count": 1,
   "metadata": {},
   "outputs": [],
   "source": [
    "import numpy as np\n",
    "import pandas as pd\n",
    "import matplotlib.pyplot as plt\n",
    "import matplotlib.pylab as pl"
   ]
  },
  {
   "cell_type": "markdown",
   "metadata": {},
   "source": [
    "# Question 2"
   ]
  },
  {
   "cell_type": "code",
   "execution_count": 2,
   "metadata": {},
   "outputs": [
    {
     "name": "stdout",
     "output_type": "stream",
     "text": [
      "     TrueEnergy    Layer1   Layer2   Layer3    Layer4    Layer5\n",
      "0         10000   910.286  2871.81  1562.94   417.832  122.4210\n",
      "1         10000  1013.500  1281.41  1517.82  1653.060  599.0090\n",
      "2         10000   928.108  2851.96  1488.27   548.759  148.7240\n",
      "3         10000   825.322  2419.05  2002.03   643.102  192.5750\n",
      "4         10000   853.021  2419.50  1735.58   725.197  163.9160\n",
      "..          ...       ...      ...      ...       ...       ...\n",
      "495       10000  1313.720  2484.48  1596.91   455.408  108.6770\n",
      "496       10000   500.081  1875.97  2635.46   796.785  215.7350\n",
      "497       10000  1168.930  2798.67  1494.82   388.948  112.6830\n",
      "498       10000   712.279  1983.55  1810.83   754.392  397.1660\n",
      "499       10000  2449.730  2445.03  1015.31   360.921   72.3408\n",
      "\n",
      "[500 rows x 6 columns]\n"
     ]
    }
   ],
   "source": [
    "#Reading the data and ensuring it looks good\n",
    "inputData = pd.read_csv('output_nt_Energy_10GeVex500.csv',comment='#',\n",
    "                        names=['TrueEnergy','Layer1','Layer2','Layer3','Layer4','Layer5'])\n",
    "\n",
    "E_true = float(inputData.TrueEnergy[1]) #First entry is the true energy (same for all particles)\n",
    "print(inputData)"
   ]
  },
  {
   "cell_type": "code",
   "execution_count": 3,
   "metadata": {},
   "outputs": [],
   "source": [
    "E_det = inputData[['Layer1','Layer2','Layer3','Layer4','Layer5']].sum(axis=1) # sum over layers to get total E_det\n",
    "E_det_inf = E_det[E_det != 0] #Remove all 0's to avoid divide by 0 error\n",
    "E_cal = np.mean(E_true/np.asarray(E_det_inf))*E_det_inf #Calibrate the energy"
   ]
  },
  {
   "cell_type": "code",
   "execution_count": 4,
   "metadata": {},
   "outputs": [
    {
     "data": {
      "image/png": "[encoded data removed]",
      "text/plain": [
       "<Figure size 432x288 with 1 Axes>"
      ]
     },
     "metadata": {
      "needs_background": "light"
     },
     "output_type": "display_data"
    },
    {
     "name": "stdout",
     "output_type": "stream",
     "text": [
      "Resolution is = 0.0357\n"
     ]
    }
   ],
   "source": [
    "expression = np.asarray(E_cal-E_true)/E_true\n",
    "resolution = np.std(expression)\n",
    "\n",
    "#Plotting the histogram\n",
    "plt.hist(expression)\n",
    "plt.title(\"Calibration Energy histogram of 10 GeV Electrons\")\n",
    "plt.xlabel(\"($E_{cal}-E_{true})/E_{true}$\")\n",
    "plt.show()\n",
    "\n",
    "print(\"Resolution is = {:.4f}\".format(resolution))"
   ]
  },
  {
   "cell_type": "markdown",
   "metadata": {},
   "source": [
    "## Question 3"
   ]
  },
  {
   "cell_type": "code",
   "execution_count": 5,
   "metadata": {},
   "outputs": [
    {
     "name": "stdout",
     "output_type": "stream",
     "text": [
      "     TrueEnergy     Layer1       Layer2       Layer3    Layer4   Layer5\n",
      "0            50    25.7629      2.09607      2.36628     0.000     0.00\n",
      "1           100    23.5324     24.26180      7.65028     0.000     0.00\n",
      "2           150    48.3301     45.12000     10.60210    10.525     0.00\n",
      "3           200   119.9780     27.50540      1.27169     0.000     0.00\n",
      "4           250    67.7293      5.10841      5.99660     0.000     0.00\n",
      "..          ...        ...          ...          ...       ...      ...\n",
      "995       49800  2569.2200   8805.07000  10943.40000  5964.620  2238.28\n",
      "996       49850  2087.1300  10568.40000  10103.20000  4677.110  1691.40\n",
      "997       49900  1726.1100   9775.33000  10078.70000  5842.720  1955.81\n",
      "998       49950  2407.9500  11020.20000   9526.51000  5358.760  1699.64\n",
      "999       50000  2399.1700   9274.76000  10509.70000  5697.090  2049.81\n",
      "\n",
      "[1000 rows x 6 columns]\n"
     ]
    }
   ],
   "source": [
    "#read in data and check it looks good\n",
    "new_inputData = pd.read_csv(r'../varying_beam_energy/output_nt_Energy_varied.csv',comment='#',\n",
    "                        names=['TrueEnergy','Layer1','Layer2','Layer3','Layer4','Layer5'])\n",
    "\n",
    "print(new_inputData)\n",
    "#Energy increases by 50 MeV so all is good"
   ]
  },
  {
   "cell_type": "code",
   "execution_count": 6,
   "metadata": {},
   "outputs": [],
   "source": [
    "new_E_true = new_inputData.TrueEnergy #select the \"TrueEnergy\" column\n",
    "new_E_det = new_inputData[['Layer1','Layer2','Layer3','Layer4','Layer5']].sum(axis=1) #sum over layers\n",
    "new_E_cal = np.mean(new_E_true/np.asarray(new_E_det))*new_E_det #recalibrate the data\n",
    "new_expression = (new_E_cal-new_E_true)/new_E_true #get the new expression for the histogram"
   ]
  },
  {
   "cell_type": "code",
   "execution_count": 7,
   "metadata": {},
   "outputs": [
    {
     "data": {
      "image/png": "[encoded data removed]",
      "text/plain": [
       "<Figure size 432x288 with 1 Axes>"
      ]
     },
     "metadata": {
      "needs_background": "light"
     },
     "output_type": "display_data"
    }
   ],
   "source": [
    "#plotting the 2D histogram\n",
    "pl.hist2d(x=new_E_true,y=new_expression,bins=(10,20)) #10 bins along x-axis and 20 along the y-axis\n",
    "pl.xlabel('True Energy (MeV)')\n",
    "pl.ylabel('($E_{cal}-E_{true})/E_{true}$')\n",
    "pl.show()"
   ]
  },
  {
   "cell_type": "markdown",
   "metadata": {},
   "source": [
    "The beam energy values range from 50 MeV to 50 GeV with an increase of 50 MeV per step. At low energies, the detected energies are very spread out from the true energy due to the fact that most electrons barely pass through the first Lead layer. The quality of the detector peaks at around 30 GeV since the electrons get through the first layer and deposit their energy throughout the detector and, at higher energies, the detector loses its effectiveness again as the electrons have such high energies that they are able to pass through the entire calorimeter before depositing all of their energy."
   ]
  },
  {
   "cell_type": "code",
   "execution_count": null,
   "metadata": {},
   "outputs": [],
   "source": []
  }
 ],
 "metadata": {
  "kernelspec": {
   "display_name": "Python 3 (ipykernel)",
   "language": "python",
   "name": "python3"
  },
  "language_info": {
   "codemirror_mode": {
    "name": "ipython",
    "version": 3
   },
   "file_extension": ".py",
   "mimetype": "text/x-python",
   "name": "python",
   "nbconvert_exporter": "python",
   "pygments_lexer": "ipython3",
   "version": "3.7.10"
  }
 },
 "nbformat": 4,
 "nbformat_minor": 4
}
