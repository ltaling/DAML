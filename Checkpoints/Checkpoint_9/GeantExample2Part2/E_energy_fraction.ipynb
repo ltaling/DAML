{
 "cells": [
  {
   "cell_type": "markdown",
   "metadata": {},
   "source": [
    "# Solution to the last question of part 2: Fraction of electron energy"
   ]
  },
  {
   "cell_type": "code",
   "execution_count": 1,
   "metadata": {},
   "outputs": [],
   "source": [
    "import numpy as np"
   ]
  },
  {
   "cell_type": "code",
   "execution_count": 2,
   "metadata": {},
   "outputs": [],
   "source": [
    "#Read in the data\n",
    "e_energy = np.loadtxt(\"output_nt_Electron energy.csv\",delimiter=',',unpack=True)\n",
    "t_energy = np.loadtxt(\"output_nt_Energy.csv\",delimiter=',',unpack=True)"
   ]
  },
  {
   "cell_type": "code",
   "execution_count": 3,
   "metadata": {},
   "outputs": [],
   "source": [
    "#dividing total electron energy by total *detected* energy\n",
    "\n",
    "frac = np.sum(e_energy)/np.sum(t_energy[1:]) #first entry is the true total energy so we remove it from sum"
   ]
  },
  {
   "cell_type": "code",
   "execution_count": 4,
   "metadata": {},
   "outputs": [
    {
     "name": "stdout",
     "output_type": "stream",
     "text": [
      "Fraction of electron energy to total detected energy = 63.4757 %\n"
     ]
    }
   ],
   "source": [
    "print(\"Fraction of electron energy to total detected energy = {:.4f} %\".format(frac*100))"
   ]
  },
  {
   "cell_type": "markdown",
   "metadata": {},
   "source": [
    "Most of the energy detected comes from the electrons although some does come from particles produced in showers"
   ]
  },
  {
   "cell_type": "code",
   "execution_count": null,
   "metadata": {},
   "outputs": [],
   "source": []
  }
 ],
 "metadata": {
  "kernelspec": {
   "display_name": "Python 3",
   "language": "python",
   "name": "python3"
  },
  "language_info": {
   "codemirror_mode": {
    "name": "ipython",
    "version": 3
   },
   "file_extension": ".py",
   "mimetype": "text/x-python",
   "name": "python",
   "nbconvert_exporter": "python",
   "pygments_lexer": "ipython3",
   "version": "3.8.10"
  }
 },
 "nbformat": 4,
 "nbformat_minor": 4
}
