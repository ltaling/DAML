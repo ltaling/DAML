{
 "cells": [
  {
   "cell_type": "markdown",
   "metadata": {},
   "source": [
    "# Checkpoint 1: Neural networks and deep learning\n",
    "---\n",
    "*Responsible:* Guillermo Hamity (<ghamity@ed.ac.uk>)\n",
    "\n",
    "In this checkpoint exercise, we will use neural networks to predict the **type** of weather *given* the available ground observations. You will be using observation data from **June 2019** across all UK Met Office weather stations.\n",
    "\n",
    "### Notes on the Dataset\n",
    "* You will be using weather observation data from the UK Met Office Datapoint service\n",
    "* Ground observations are made hourly at weather stations across the length of the UK \n",
    "* The data sample covers data from June 2019\n",
    "* Data collections for each day starts at 6.30pm. All observation data is listed in one day blocks\n",
    "* The time value column refers to the number of minutes after midnight \n",
    "* `Null` values for some features are expected (e.g. Wind Gust)\n",
    "* Data import and preparation is already provided \n",
    "\n",
    "\n",
    "This week, I am not providing example notebooks like `lecture2.ipynb` and `data-science-tools.ipynb` for Unit 2, though these may still be useful to you. Instead, I am **providing the imports for all of the modules and classes that you should need.** Think of these as LEGO blocks; you have the ones you need but may look up how to \"assemble\" them.\n",
    "\n",
    "### Notes on assessment\n",
    "* Try and calculate the answers to the exercises provided. If you are unable to complete the question, describe which approach you _would_ have taken to solve the problem\n",
    "* Code must be understandable and reproducible. Before grading the notebook kernel **may** be restarted and re-run, so make sure that your code can run from start to finish without any (unintentional) errors\n",
    "* If you are unsure on how to proceed please **ask one of the TAs** during the workshop\n",
    "- Notebooks should be submitted by **10am on Friday 9 October 2021** \n",
    "- This CP exercise sheet is divided into **6 sections**, corresponding to parts of the lecture, giving a maximum of **10 marks** in total:\n",
    "\n",
    "| <p align='left'> Title                         | <p align='left'> Exercise nos. | <p align='left'> Number of marks |\n",
    "| ------------------------------------- | ----- | --- |\n",
    "| <p align='left'> 1. Conceptual questions               | <p align='left'>  1–5  | <p align='left'> 2.5 |\n",
    "| <p align='left'> 2. Data preprocessing and RandomForest                | <p align='left'>  6–9  | <p align='left'> 2.5 |\n",
    "| <p align='left'> 3. Neural networks in `scikit-learn`  | <p align='left'>  10–11 | <p align='left'> 1.5 | \n",
    "| <p align='left'> 4. Neural networks in `Keras`         | <p align='left'> 12–13 | <p align='left'> 2 |\n",
    "| <p align='left'> 5. Regularisation                     | <p align='left'> 14–15 | <p align='left'> 1.5 |\n",
    "| <p align='left'> 6. Bonus: Hyperparameter optimisation | <p align='left'> 16 | <p align='left'> 1.0 (\\*bonus\\*) |\n",
    "| <p align='left'> **Total** | | <p align='left'> **10 + 1** |\n",
    "\n",
    "- The total number of marks allocated for this CP is 10,\n",
    "    - 1 additional mark can be given (maximimally up to 10 marks in total) for \"bonus\" exercise on hyperparameter optimisation. If you are pressed for time, focus on the first five sections; those are the core ones.\n",
    "    - Half marks may be deducted for code legibility (i.e. very difficult to tell what you are doing), or for badly formated plots (i.e. no legends, axis labels etc.). The TAs will use their discression for this so comment code when applicable and keep relevant information in your plots.\n",
    "\n",
    "_Note:_ You can suppress double-printing of plots from the `plot` module by either _(a)_ adding a semicolon after the function call (_i.e._ `plot.<method>(...);`), or _(b)_ by capturing the return `pyplot.Figure` object as a variable (_i.e._ `fig = plot.<method>(...)`)."
   ]
  },
  {
   "cell_type": "markdown",
   "metadata": {},
   "source": [
    "## Preamble"
   ]
  },
  {
   "cell_type": "code",
   "execution_count": 1,
   "metadata": {},
   "outputs": [
    {
     "name": "stderr",
     "output_type": "stream",
     "text": [
      "C:\\ProgramData\\Anaconda3\\envs\\daml\\lib\\site-packages\\tensorflow\\python\\framework\\dtypes.py:516: FutureWarning: Passing (type, 1) or '1type' as a synonym of type is deprecated; in a future version of numpy, it will be understood as (type, (1,)) / '(1,)type'.\n",
      "  _np_qint8 = np.dtype([(\"qint8\", np.int8, 1)])\n",
      "C:\\ProgramData\\Anaconda3\\envs\\daml\\lib\\site-packages\\tensorflow\\python\\framework\\dtypes.py:517: FutureWarning: Passing (type, 1) or '1type' as a synonym of type is deprecated; in a future version of numpy, it will be understood as (type, (1,)) / '(1,)type'.\n",
      "  _np_quint8 = np.dtype([(\"quint8\", np.uint8, 1)])\n",
      "C:\\ProgramData\\Anaconda3\\envs\\daml\\lib\\site-packages\\tensorflow\\python\\framework\\dtypes.py:518: FutureWarning: Passing (type, 1) or '1type' as a synonym of type is deprecated; in a future version of numpy, it will be understood as (type, (1,)) / '(1,)type'.\n",
      "  _np_qint16 = np.dtype([(\"qint16\", np.int16, 1)])\n",
      "C:\\ProgramData\\Anaconda3\\envs\\daml\\lib\\site-packages\\tensorflow\\python\\framework\\dtypes.py:519: FutureWarning: Passing (type, 1) or '1type' as a synonym of type is deprecated; in a future version of numpy, it will be understood as (type, (1,)) / '(1,)type'.\n",
      "  _np_quint16 = np.dtype([(\"quint16\", np.uint16, 1)])\n",
      "C:\\ProgramData\\Anaconda3\\envs\\daml\\lib\\site-packages\\tensorflow\\python\\framework\\dtypes.py:520: FutureWarning: Passing (type, 1) or '1type' as a synonym of type is deprecated; in a future version of numpy, it will be understood as (type, (1,)) / '(1,)type'.\n",
      "  _np_qint32 = np.dtype([(\"qint32\", np.int32, 1)])\n",
      "C:\\ProgramData\\Anaconda3\\envs\\daml\\lib\\site-packages\\tensorflow\\python\\framework\\dtypes.py:525: FutureWarning: Passing (type, 1) or '1type' as a synonym of type is deprecated; in a future version of numpy, it will be understood as (type, (1,)) / '(1,)type'.\n",
      "  np_resource = np.dtype([(\"resource\", np.ubyte, 1)])\n",
      "C:\\ProgramData\\Anaconda3\\envs\\daml\\lib\\site-packages\\tensorboard\\compat\\tensorflow_stub\\dtypes.py:541: FutureWarning: Passing (type, 1) or '1type' as a synonym of type is deprecated; in a future version of numpy, it will be understood as (type, (1,)) / '(1,)type'.\n",
      "  _np_qint8 = np.dtype([(\"qint8\", np.int8, 1)])\n",
      "C:\\ProgramData\\Anaconda3\\envs\\daml\\lib\\site-packages\\tensorboard\\compat\\tensorflow_stub\\dtypes.py:542: FutureWarning: Passing (type, 1) or '1type' as a synonym of type is deprecated; in a future version of numpy, it will be understood as (type, (1,)) / '(1,)type'.\n",
      "  _np_quint8 = np.dtype([(\"quint8\", np.uint8, 1)])\n",
      "C:\\ProgramData\\Anaconda3\\envs\\daml\\lib\\site-packages\\tensorboard\\compat\\tensorflow_stub\\dtypes.py:543: FutureWarning: Passing (type, 1) or '1type' as a synonym of type is deprecated; in a future version of numpy, it will be understood as (type, (1,)) / '(1,)type'.\n",
      "  _np_qint16 = np.dtype([(\"qint16\", np.int16, 1)])\n",
      "C:\\ProgramData\\Anaconda3\\envs\\daml\\lib\\site-packages\\tensorboard\\compat\\tensorflow_stub\\dtypes.py:544: FutureWarning: Passing (type, 1) or '1type' as a synonym of type is deprecated; in a future version of numpy, it will be understood as (type, (1,)) / '(1,)type'.\n",
      "  _np_quint16 = np.dtype([(\"quint16\", np.uint16, 1)])\n",
      "C:\\ProgramData\\Anaconda3\\envs\\daml\\lib\\site-packages\\tensorboard\\compat\\tensorflow_stub\\dtypes.py:545: FutureWarning: Passing (type, 1) or '1type' as a synonym of type is deprecated; in a future version of numpy, it will be understood as (type, (1,)) / '(1,)type'.\n",
      "  _np_qint32 = np.dtype([(\"qint32\", np.int32, 1)])\n",
      "C:\\ProgramData\\Anaconda3\\envs\\daml\\lib\\site-packages\\tensorboard\\compat\\tensorflow_stub\\dtypes.py:550: FutureWarning: Passing (type, 1) or '1type' as a synonym of type is deprecated; in a future version of numpy, it will be understood as (type, (1,)) / '(1,)type'.\n",
      "  np_resource = np.dtype([(\"resource\", np.ubyte, 1)])\n"
     ]
    }
   ],
   "source": [
    "# Standard import(s)\n",
    "import numpy as np\n",
    "import pandas as pd\n",
    "import random as rn\n",
    "import sklearn\n",
    "import tensorflow as tf\n",
    "import matplotlib.pyplot as plt\n",
    "import seaborn as sns\n",
    "import os\n",
    "%matplotlib inline\n",
    "\n",
    "# Suppress unnecessary ConvergenceWarnings and DeprecationWarnings\n",
    "import warnings\n",
    "from sklearn.exceptions import ConvergenceWarning\n",
    "warnings.filterwarnings(action='ignore', category=ConvergenceWarning)\n",
    "warnings.filterwarnings(action='ignore', category=DeprecationWarning)\n",
    "\n",
    "# Set a random seed variable to make workbook reproducible\n",
    "seed=5\n",
    "np.random.seed(seed)\n",
    "rn.seed(seed)\n",
    "os.environ['PYTHONHASHSEED']=str(seed)\n",
    "tf.compat.v1.set_random_seed(seed)\n",
    "\n",
    "# Switch off multi-threading for TensorFlow\n",
    "from tensorflow.python.keras import backend as K\n",
    "config = tf.compat.v1.ConfigProto(intra_op_parallelism_threads=1,\n",
    "                                  inter_op_parallelism_threads=1)\n",
    "sess = tf.compat.v1.Session(graph=tf.compat.v1.get_default_graph(), config=config)\n",
    "K.set_session(sess)"
   ]
  },
  {
   "cell_type": "code",
   "execution_count": 2,
   "metadata": {},
   "outputs": [
    {
     "data": {
      "text/html": [
       "<div>\n",
       "<style scoped>\n",
       "    .dataframe tbody tr th:only-of-type {\n",
       "        vertical-align: middle;\n",
       "    }\n",
       "\n",
       "    .dataframe tbody tr th {\n",
       "        vertical-align: top;\n",
       "    }\n",
       "\n",
       "    .dataframe thead th {\n",
       "        text-align: right;\n",
       "    }\n",
       "</style>\n",
       "<table border=\"1\" class=\"dataframe\">\n",
       "  <thead>\n",
       "    <tr style=\"text-align: right;\">\n",
       "      <th></th>\n",
       "      <th>StationID</th>\n",
       "      <th>StationName</th>\n",
       "      <th>Elevation</th>\n",
       "      <th>Latitude</th>\n",
       "      <th>Longitude</th>\n",
       "      <th>Date</th>\n",
       "      <th>Time</th>\n",
       "      <th>Gust</th>\n",
       "      <th>Temperature</th>\n",
       "      <th>Visibility</th>\n",
       "      <th>WindDirection</th>\n",
       "      <th>WindSpeed</th>\n",
       "      <th>Pressure</th>\n",
       "      <th>PressureTrend</th>\n",
       "      <th>DewPoint</th>\n",
       "      <th>Humidity</th>\n",
       "      <th>Type</th>\n",
       "    </tr>\n",
       "  </thead>\n",
       "  <tbody>\n",
       "    <tr>\n",
       "      <th>0</th>\n",
       "      <td>3002</td>\n",
       "      <td>BALTASOUND</td>\n",
       "      <td>15.0</td>\n",
       "      <td>60.749</td>\n",
       "      <td>-0.854</td>\n",
       "      <td>2018-05-31</td>\n",
       "      <td>1020</td>\n",
       "      <td>NaN</td>\n",
       "      <td>16.1</td>\n",
       "      <td>30000.0</td>\n",
       "      <td>E</td>\n",
       "      <td>8.0</td>\n",
       "      <td>1019.0</td>\n",
       "      <td>F</td>\n",
       "      <td>11.6</td>\n",
       "      <td>74.5</td>\n",
       "      <td>0</td>\n",
       "    </tr>\n",
       "    <tr>\n",
       "      <th>1</th>\n",
       "      <td>3002</td>\n",
       "      <td>BALTASOUND</td>\n",
       "      <td>15.0</td>\n",
       "      <td>60.749</td>\n",
       "      <td>-0.854</td>\n",
       "      <td>2018-05-31</td>\n",
       "      <td>1080</td>\n",
       "      <td>NaN</td>\n",
       "      <td>14.9</td>\n",
       "      <td>22000.0</td>\n",
       "      <td>E</td>\n",
       "      <td>8.0</td>\n",
       "      <td>1019.0</td>\n",
       "      <td>F</td>\n",
       "      <td>11.8</td>\n",
       "      <td>81.5</td>\n",
       "      <td>0</td>\n",
       "    </tr>\n",
       "    <tr>\n",
       "      <th>2</th>\n",
       "      <td>3002</td>\n",
       "      <td>BALTASOUND</td>\n",
       "      <td>15.0</td>\n",
       "      <td>60.749</td>\n",
       "      <td>-0.854</td>\n",
       "      <td>2018-05-31</td>\n",
       "      <td>1140</td>\n",
       "      <td>NaN</td>\n",
       "      <td>14.0</td>\n",
       "      <td>14000.0</td>\n",
       "      <td>E</td>\n",
       "      <td>6.0</td>\n",
       "      <td>1018.0</td>\n",
       "      <td>F</td>\n",
       "      <td>11.6</td>\n",
       "      <td>85.4</td>\n",
       "      <td>0</td>\n",
       "    </tr>\n",
       "    <tr>\n",
       "      <th>3</th>\n",
       "      <td>3002</td>\n",
       "      <td>BALTASOUND</td>\n",
       "      <td>15.0</td>\n",
       "      <td>60.749</td>\n",
       "      <td>-0.854</td>\n",
       "      <td>2018-05-31</td>\n",
       "      <td>1200</td>\n",
       "      <td>NaN</td>\n",
       "      <td>12.9</td>\n",
       "      <td>12000.0</td>\n",
       "      <td>ENE</td>\n",
       "      <td>2.0</td>\n",
       "      <td>1019.0</td>\n",
       "      <td>R</td>\n",
       "      <td>11.0</td>\n",
       "      <td>88.1</td>\n",
       "      <td>0</td>\n",
       "    </tr>\n",
       "    <tr>\n",
       "      <th>4</th>\n",
       "      <td>3002</td>\n",
       "      <td>BALTASOUND</td>\n",
       "      <td>15.0</td>\n",
       "      <td>60.749</td>\n",
       "      <td>-0.854</td>\n",
       "      <td>2018-05-31</td>\n",
       "      <td>1260</td>\n",
       "      <td>NaN</td>\n",
       "      <td>12.0</td>\n",
       "      <td>9000.0</td>\n",
       "      <td>E</td>\n",
       "      <td>2.0</td>\n",
       "      <td>1019.0</td>\n",
       "      <td>R</td>\n",
       "      <td>10.9</td>\n",
       "      <td>92.9</td>\n",
       "      <td>1</td>\n",
       "    </tr>\n",
       "  </tbody>\n",
       "</table>\n",
       "</div>"
      ],
      "text/plain": [
       "   StationID StationName  Elevation  Latitude  Longitude        Date  Time  \\\n",
       "0       3002  BALTASOUND       15.0    60.749     -0.854  2018-05-31  1020   \n",
       "1       3002  BALTASOUND       15.0    60.749     -0.854  2018-05-31  1080   \n",
       "2       3002  BALTASOUND       15.0    60.749     -0.854  2018-05-31  1140   \n",
       "3       3002  BALTASOUND       15.0    60.749     -0.854  2018-05-31  1200   \n",
       "4       3002  BALTASOUND       15.0    60.749     -0.854  2018-05-31  1260   \n",
       "\n",
       "   Gust  Temperature  Visibility WindDirection  WindSpeed  Pressure  \\\n",
       "0   NaN         16.1     30000.0             E        8.0    1019.0   \n",
       "1   NaN         14.9     22000.0             E        8.0    1019.0   \n",
       "2   NaN         14.0     14000.0             E        6.0    1018.0   \n",
       "3   NaN         12.9     12000.0           ENE        2.0    1019.0   \n",
       "4   NaN         12.0      9000.0             E        2.0    1019.0   \n",
       "\n",
       "  PressureTrend  DewPoint  Humidity  Type  \n",
       "0             F      11.6      74.5     0  \n",
       "1             F      11.8      81.5     0  \n",
       "2             F      11.6      85.4     0  \n",
       "3             R      11.0      88.1     0  \n",
       "4             R      10.9      92.9     1  "
      ]
     },
     "execution_count": 2,
     "metadata": {},
     "output_type": "execute_result"
    }
   ],
   "source": [
    "# Load in the prepared weather data\n",
    "obs = pd.read_csv('weather.csv')\n",
    "obs.head()"
   ]
  },
  {
   "cell_type": "code",
   "execution_count": 3,
   "metadata": {},
   "outputs": [
    {
     "data": {
      "text/plain": [
       "(106553, 17)"
      ]
     },
     "execution_count": 3,
     "metadata": {},
     "output_type": "execute_result"
    }
   ],
   "source": [
    "obs.shape"
   ]
  },
  {
   "cell_type": "code",
   "execution_count": 4,
   "metadata": {},
   "outputs": [
    {
     "data": {
      "text/html": [
       "<div>\n",
       "<style scoped>\n",
       "    .dataframe tbody tr th:only-of-type {\n",
       "        vertical-align: middle;\n",
       "    }\n",
       "\n",
       "    .dataframe tbody tr th {\n",
       "        vertical-align: top;\n",
       "    }\n",
       "\n",
       "    .dataframe thead th {\n",
       "        text-align: right;\n",
       "    }\n",
       "</style>\n",
       "<table border=\"1\" class=\"dataframe\">\n",
       "  <thead>\n",
       "    <tr style=\"text-align: right;\">\n",
       "      <th></th>\n",
       "      <th>StationID</th>\n",
       "      <th>Elevation</th>\n",
       "      <th>Latitude</th>\n",
       "      <th>Longitude</th>\n",
       "      <th>Time</th>\n",
       "      <th>Gust</th>\n",
       "      <th>Temperature</th>\n",
       "      <th>Visibility</th>\n",
       "      <th>WindSpeed</th>\n",
       "      <th>Pressure</th>\n",
       "      <th>DewPoint</th>\n",
       "      <th>Humidity</th>\n",
       "      <th>Type</th>\n",
       "    </tr>\n",
       "  </thead>\n",
       "  <tbody>\n",
       "    <tr>\n",
       "      <th>count</th>\n",
       "      <td>106553.000000</td>\n",
       "      <td>106553.000000</td>\n",
       "      <td>106553.000000</td>\n",
       "      <td>106553.000000</td>\n",
       "      <td>106553.000000</td>\n",
       "      <td>7703.000000</td>\n",
       "      <td>106442.000000</td>\n",
       "      <td>92662.000000</td>\n",
       "      <td>102060.000000</td>\n",
       "      <td>99530.000000</td>\n",
       "      <td>106402.000000</td>\n",
       "      <td>106397.000000</td>\n",
       "      <td>106553.00000</td>\n",
       "    </tr>\n",
       "    <tr>\n",
       "      <th>mean</th>\n",
       "      <td>6147.845636</td>\n",
       "      <td>114.466594</td>\n",
       "      <td>53.673022</td>\n",
       "      <td>-2.829034</td>\n",
       "      <td>702.914418</td>\n",
       "      <td>33.043749</td>\n",
       "      <td>14.958912</td>\n",
       "      <td>25698.164404</td>\n",
       "      <td>8.999510</td>\n",
       "      <td>1018.748337</td>\n",
       "      <td>10.348008</td>\n",
       "      <td>76.185240</td>\n",
       "      <td>0.99603</td>\n",
       "    </tr>\n",
       "    <tr>\n",
       "      <th>std</th>\n",
       "      <td>15821.503845</td>\n",
       "      <td>171.669120</td>\n",
       "      <td>2.466079</td>\n",
       "      <td>2.269594</td>\n",
       "      <td>412.057262</td>\n",
       "      <td>13.424855</td>\n",
       "      <td>4.294516</td>\n",
       "      <td>14263.873943</td>\n",
       "      <td>6.087882</td>\n",
       "      <td>6.327468</td>\n",
       "      <td>3.120565</td>\n",
       "      <td>17.208653</td>\n",
       "      <td>0.92971</td>\n",
       "    </tr>\n",
       "    <tr>\n",
       "      <th>min</th>\n",
       "      <td>3002.000000</td>\n",
       "      <td>2.000000</td>\n",
       "      <td>49.207900</td>\n",
       "      <td>-10.250000</td>\n",
       "      <td>0.000000</td>\n",
       "      <td>0.000000</td>\n",
       "      <td>-1.200000</td>\n",
       "      <td>20.000000</td>\n",
       "      <td>0.000000</td>\n",
       "      <td>976.000000</td>\n",
       "      <td>-28.200000</td>\n",
       "      <td>0.800000</td>\n",
       "      <td>0.00000</td>\n",
       "    </tr>\n",
       "    <tr>\n",
       "      <th>25%</th>\n",
       "      <td>3204.000000</td>\n",
       "      <td>20.000000</td>\n",
       "      <td>51.565000</td>\n",
       "      <td>-4.149000</td>\n",
       "      <td>360.000000</td>\n",
       "      <td>29.000000</td>\n",
       "      <td>12.000000</td>\n",
       "      <td>14000.000000</td>\n",
       "      <td>5.000000</td>\n",
       "      <td>1015.000000</td>\n",
       "      <td>8.400000</td>\n",
       "      <td>65.300000</td>\n",
       "      <td>0.00000</td>\n",
       "    </tr>\n",
       "    <tr>\n",
       "      <th>50%</th>\n",
       "      <td>3414.000000</td>\n",
       "      <td>65.000000</td>\n",
       "      <td>53.175000</td>\n",
       "      <td>-2.663000</td>\n",
       "      <td>720.000000</td>\n",
       "      <td>32.000000</td>\n",
       "      <td>14.500000</td>\n",
       "      <td>25000.000000</td>\n",
       "      <td>8.000000</td>\n",
       "      <td>1018.000000</td>\n",
       "      <td>10.500000</td>\n",
       "      <td>79.200000</td>\n",
       "      <td>1.00000</td>\n",
       "    </tr>\n",
       "    <tr>\n",
       "      <th>75%</th>\n",
       "      <td>3769.000000</td>\n",
       "      <td>132.000000</td>\n",
       "      <td>55.285000</td>\n",
       "      <td>-1.097000</td>\n",
       "      <td>1020.000000</td>\n",
       "      <td>39.000000</td>\n",
       "      <td>17.500000</td>\n",
       "      <td>35000.000000</td>\n",
       "      <td>11.000000</td>\n",
       "      <td>1024.000000</td>\n",
       "      <td>12.500000</td>\n",
       "      <td>90.000000</td>\n",
       "      <td>1.00000</td>\n",
       "    </tr>\n",
       "    <tr>\n",
       "      <th>max</th>\n",
       "      <td>99142.000000</td>\n",
       "      <td>1245.000000</td>\n",
       "      <td>60.749000</td>\n",
       "      <td>1.348000</td>\n",
       "      <td>1380.000000</td>\n",
       "      <td>105.000000</td>\n",
       "      <td>31.600000</td>\n",
       "      <td>75000.000000</td>\n",
       "      <td>81.000000</td>\n",
       "      <td>1036.000000</td>\n",
       "      <td>22.700000</td>\n",
       "      <td>100.000000</td>\n",
       "      <td>3.00000</td>\n",
       "    </tr>\n",
       "  </tbody>\n",
       "</table>\n",
       "</div>"
      ],
      "text/plain": [
       "           StationID      Elevation       Latitude      Longitude  \\\n",
       "count  106553.000000  106553.000000  106553.000000  106553.000000   \n",
       "mean     6147.845636     114.466594      53.673022      -2.829034   \n",
       "std     15821.503845     171.669120       2.466079       2.269594   \n",
       "min      3002.000000       2.000000      49.207900     -10.250000   \n",
       "25%      3204.000000      20.000000      51.565000      -4.149000   \n",
       "50%      3414.000000      65.000000      53.175000      -2.663000   \n",
       "75%      3769.000000     132.000000      55.285000      -1.097000   \n",
       "max     99142.000000    1245.000000      60.749000       1.348000   \n",
       "\n",
       "                Time         Gust    Temperature    Visibility      WindSpeed  \\\n",
       "count  106553.000000  7703.000000  106442.000000  92662.000000  102060.000000   \n",
       "mean      702.914418    33.043749      14.958912  25698.164404       8.999510   \n",
       "std       412.057262    13.424855       4.294516  14263.873943       6.087882   \n",
       "min         0.000000     0.000000      -1.200000     20.000000       0.000000   \n",
       "25%       360.000000    29.000000      12.000000  14000.000000       5.000000   \n",
       "50%       720.000000    32.000000      14.500000  25000.000000       8.000000   \n",
       "75%      1020.000000    39.000000      17.500000  35000.000000      11.000000   \n",
       "max      1380.000000   105.000000      31.600000  75000.000000      81.000000   \n",
       "\n",
       "           Pressure       DewPoint       Humidity          Type  \n",
       "count  99530.000000  106402.000000  106397.000000  106553.00000  \n",
       "mean    1018.748337      10.348008      76.185240       0.99603  \n",
       "std        6.327468       3.120565      17.208653       0.92971  \n",
       "min      976.000000     -28.200000       0.800000       0.00000  \n",
       "25%     1015.000000       8.400000      65.300000       0.00000  \n",
       "50%     1018.000000      10.500000      79.200000       1.00000  \n",
       "75%     1024.000000      12.500000      90.000000       1.00000  \n",
       "max     1036.000000      22.700000     100.000000       3.00000  "
      ]
     },
     "execution_count": 4,
     "metadata": {},
     "output_type": "execute_result"
    }
   ],
   "source": [
    "obs.describe()"
   ]
  },
  {
   "cell_type": "markdown",
   "metadata": {},
   "source": [
    "For this exercise we will use **8** input features (provided) and clean the data:"
   ]
  },
  {
   "cell_type": "code",
   "execution_count": 5,
   "metadata": {},
   "outputs": [],
   "source": [
    "# Define 8 input feature variables, 1 target variable data, and names of the 3 weather types\n",
    "features = ['Latitude', 'Elevation', 'Temperature', 'Visibility', 'WindSpeed', 'Pressure', 'Humidity', 'WindDirection']\n",
    "output   = ['Type']\n",
    "wtype    = ['Clear', 'Cloudy', 'Precip']"
   ]
  },
  {
   "cell_type": "markdown",
   "metadata": {},
   "source": [
    "Define derived dataset containing only the relevant columns and rows."
   ]
  },
  {
   "cell_type": "code",
   "execution_count": 6,
   "metadata": {},
   "outputs": [
    {
     "data": {
      "text/plain": [
       "(86313, 9)"
      ]
     },
     "execution_count": 6,
     "metadata": {},
     "output_type": "execute_result"
    }
   ],
   "source": [
    "# Reduce to feature and type columns\n",
    "dataset = obs[features + output]\n",
    "\n",
    "# Drop duplicates and null values \n",
    "dataset = dataset.drop_duplicates().dropna()\n",
    "\n",
    "# Drop unrecorded weather type\n",
    "dataset = dataset[dataset.Type != 3]\n",
    "\n",
    "# Check shape \n",
    "dataset.shape"
   ]
  },
  {
   "cell_type": "markdown",
   "metadata": {},
   "source": [
    "## 1. Conceptual questions (2.5 Marks)\n",
    "---\n",
    "This section covers **5** exercises on conceptual understanding of neural networks."
   ]
  },
  {
   "cell_type": "markdown",
   "metadata": {},
   "source": [
    "#### 1. Which are the most used activation functions and why do we (typically) need non-linear activation functions in neural networks? (0.5 mark)"
   ]
  },
  {
   "cell_type": "markdown",
   "metadata": {},
   "source": [
    "The most used activation functions are Sigmoid Activation which has a range from $0\\longrightarrow1$,ReLU which has a range from $0\\longrightarrow\\infty$, Softmax which also has a range from $0\\longrightarrow\\infty$ but a shallower curve upwards, and tanh which has a range from $-1\\longrightarrow1$.\n",
    "\n",
    "Non-linear activation functions are required because hidden layers require non-linear functions in order to operate via backpropagation as the derivative of a linear function is a constant unrelated to the input (so you can't see which weights give better predictions). If they were linear, then merely a linear transformation would occur between the input and output which would make the hidden layers redundant. \n"
   ]
  },
  {
   "cell_type": "markdown",
   "metadata": {},
   "source": [
    "#### 2. Why do we need deep neural networks and which are the main differences between deep and shallow learning? (0.5 Mark)"
   ]
  },
  {
   "cell_type": "markdown",
   "metadata": {},
   "source": [
    "A deep neural network typically has at least two or more hidden layers. A deep neural network doesn't just learn to predict an output given an input but it's able to understand basic features of the input. It can figure out the most important features (e.g. a cat has whiskers which is a more important feature than fur to differentiate between images of cats and dogs) and use that to make a more informed decision for the output.\n",
    " \n",
    "The difference between deep and shallow learning is that shallow learning requires the features to be manually selected whereas deep learning can select features for itself. Deep learning can take high dimensional data, automatically extract the features and run it through a deep combination at the same time. Shallow learning requires the high dimensional data to be converted to low dimensional data with the features pointed out before being fed through a shallow combination."
   ]
  },
  {
   "cell_type": "markdown",
   "metadata": {},
   "source": [
    "#### 3. Discuss the Bias-variance trade-off and its relation to underfitting and overfitting of a model. Which are the caractheristics of an ideal model?  (0.5 mark)"
   ]
  },
  {
   "cell_type": "markdown",
   "metadata": {},
   "source": [
    "A high bias is a feature of underfitting as the higher the bias value of a model, the more relations between features and output will be missed.\n",
    "\n",
    "The variance, on the other hand, is a feature of overfitting as the higher the variance, the greater the sensitivity an output has to a feature. Thus, random noise from the training data can be taken into the model.\n",
    "\n",
    "Since we don't want to overfit or underfit, we must keep both these values at a minimum. Therefore, a bias-variance trade off must be created where we keep training the model to decrease the bias but don't train it too much so that the variance doesn't increase too much.\n",
    "\n",
    "The characteristics of an ideal model are a low bias and a low variance."
   ]
  },
  {
   "cell_type": "markdown",
   "metadata": {},
   "source": [
    "#### 4. Given a neural network with 4 input nodes, 2 layers with 5 nodes each, and 1 output node, what is the total number of free (trainable) parameters in the network? Does it matter which activation function(s) are used?  (0.5 mark)"
   ]
  },
  {
   "cell_type": "markdown",
   "metadata": {},
   "source": [
    "The input nodes each have 5 synapses attached to the first layer of hidden nodes. The nodes also count as free parameters as they have a bias so we need to add them to the total. Furthermore, we have 5 synapses coming out of each node on the first layer that connect to the 5 nodes on layer 2. Finally, each of these nodes have one synapse attached to the output node which, too, is a trainable parameter so should also be added to the list. Therefore, we have\n",
    "\n",
    "$$(4\\times5)+5+(5\\times5)+5+1=56$$\n",
    "\n",
    "The activation function used does matter for a neural network. For one output node, we'll often use a sigmoid (if network is use for binary classification), linear or a ReLU (for regressions) activation function. For a deep hidden layer of this type (multilayer perceptron), we'll typically use a ReLU activation function."
   ]
  },
  {
   "cell_type": "markdown",
   "metadata": {},
   "source": [
    "#### 5. What are appropriate choice for _(a)_ the number of output nodes and _(b)_ output activation function(s) for each of the following tasks, and why? (0.5 mark)"
   ]
  },
  {
   "cell_type": "markdown",
   "metadata": {},
   "source": [
    "1. Regression of the $x$, $y$, and $z$ coordinates of a single particle in an arbitrary coordinate system\n",
    "2. Regression of particle energy of a single particle\n",
    "3. Classification of two processes (signal vs. background)\n",
    "4. Classification among *N* classes (dog vs. cat vs. fish vs. ...)"
   ]
  },
  {
   "cell_type": "markdown",
   "metadata": {},
   "source": [
    "1.) We want 3 output nodes, one for each coordinate x, y & z. The output activation function we want is the ReLU function but the coordinate system must be defined such that the particle position is always positive as ReLU cannot regress negative quantities. However, a linear activation function can also be used as the regressi\n",
    "\n",
    "2.) We want 1 output node, the energy of the single particle. Given that energy cannot become negative, we can use ReLU again to regress the values.\n",
    "\n",
    "3.) We want 1 output node. Since we have a binary classification, we need to use the Sigmoid activation function.\n",
    "\n",
    "4.) We want N output nodes, one for each class. Now we have a multiclass classification so we want to use the Softmax activation function."
   ]
  },
  {
   "cell_type": "markdown",
   "metadata": {},
   "source": [
    "## 2. Data preprocessing and RTs (2.5 mark)\n",
    "---\n",
    "This section covers **4** exercises on data preparation, feature standardisation, and dataset splitting."
   ]
  },
  {
   "cell_type": "code",
   "execution_count": 7,
   "metadata": {},
   "outputs": [],
   "source": [
    "# Relevant import(s) for this section\n",
    "from sklearn import tree\n",
    "from sklearn.tree import DecisionTreeClassifier, plot_tree\n",
    "from sklearn.tree import export_graphviz\n",
    "from sklearn.model_selection import train_test_split # Import train_test_split function\n",
    "from sklearn import metrics # Import scikit-learn metrics module for accuracy calculation\n",
    "from sklearn import preprocessing # Import preprocessing for String-Int conversion\n",
    "from sklearn.compose import ColumnTransformer\n",
    "from sklearn.preprocessing import OneHotEncoder, StandardScaler, MinMaxScaler\n",
    "from sklearn.model_selection import train_test_split\n",
    "from sklearn.metrics import ConfusionMatrixDisplay"
   ]
  },
  {
   "cell_type": "markdown",
   "metadata": {},
   "source": [
    "---\n",
    "**_Comment on target format and one-hot encoding:_** By default, the target column (`Type`) contains one integer (0, 1, or 2) for each example, the integer specifying one of three possible types of weather. However, for doing multi-class classification (which this is), we want our neural network to have one output node per class (_i.e._ 3 output nodes in this case), such that the activation of each output node is interpreted as the likelihood for a given sample being of the type in question. Therefore, the target should also be a 3-element vector for each sample; this vector should be all zeros, except for a $1$ at the index corresponding to the type in question. This is called **one-hot encoding**, and a few examples are shown below:\n",
    "\n",
    "- type = 0 $\\to$ one-hot = $[1, 0, 0]$ for 3 classes\n",
    "- type = 1 $\\to$ one-hot = $[0, 1, 0]$ for 3 classes\n",
    "- type = 2 $\\to$ one-hot = $[0, 0, 1]$ for 3 classes\n",
    "\n",
    "This is the target towards which a neural network classifier is trained: That is, ideally, for an example of type 0, the network will output a large activation ($\\approx 1$) on the first output node (interpreted as a large likelihood for the first weather type), and very small activations ($\\ll 1$) on the two other output nodes (intepreted as small likelihoods for the two other weather types); and so on.\n",
    "\n",
    "The same type of one-hot encoding can be performed for any number of target classes $N_{c}$, which just results in $N_{c}$-element target vectors with a single non-zero entry each.\n",
    "\n",
    "To be user friendly, however, `scikit-learn` allows us to use integer targets for multi-class classification — it does the one-hot encoding for us \"under the hood.\" Similarly, `keras`, _can_ also allow us to use integer targets for multi-class classification, provided we use the appropropriate loss (`sparse_categorical_crossentropy`). Otherwise (if we use `categorical_crossentropy` loss), it expects one-hot encoded targets. Which approach you choose is up to you — but now you know what goes on.\n",
    "\n",
    "---"
   ]
  },
  {
   "cell_type": "markdown",
   "metadata": {},
   "source": [
    "#### 6. Prepare the feature and target arrays (0.5 mark)\n",
    "- Randomly sample **3,500** observations per weather type (**10,500** observations in total) from `dataset` into a new `pandas.DataFrame`; call it `sample`.\n",
    "- One-hot encode the **wind direction** variable (_i.e._ $N$ to $[1, 0, \\ldots, 0]$, $NNE$ to $[0, 1, \\ldots, 0]$, _etc._ ), to allow us to input it to the neural network. The exact order of the encoding (_i.e._ which direction corresponds to which index) doesn't matter. *Hint:*\n",
    "  - *Either:* Use the scikit-learn `ColumnTransformer` with the `OneHotEncoder` applied to the `WindDirection` column, and let the remainder of the features pass through un-transformed.\n",
    "  - *Or:* Use the `OneHotEncoder` class directly on the `WindDirection` column (use `sparse=False` in the `OneHotEncoder` constructor), and then concatenate with a `numpy.array` containing the remaining features.\n",
    "- Define `numpy.arrays` named `X` and `y` containing the training features (the 7 unmodified ones plus the one-hot encoded wind directions) and target, respectively.\n",
    "- Argue whether the shapes of `X` and `y` are as expected/as they should be."
   ]
  },
  {
   "cell_type": "code",
   "execution_count": 8,
   "metadata": {},
   "outputs": [
    {
     "name": "stdout",
     "output_type": "stream",
     "text": [
      "The shape of y = (10500,)\n",
      "The shape of X = (10500, 23)\n",
      "[1.00000e+00 0.00000e+00 0.00000e+00 0.00000e+00 0.00000e+00 0.00000e+00\n",
      " 0.00000e+00 0.00000e+00 0.00000e+00 0.00000e+00 0.00000e+00 0.00000e+00\n",
      " 0.00000e+00 0.00000e+00 0.00000e+00 0.00000e+00 5.51604e+01 6.00000e+00\n",
      " 2.09000e+01 3.50000e+04 1.00000e+01 1.02700e+03 5.64000e+01]\n"
     ]
    }
   ],
   "source": [
    "#Concatenate 3 dataframes with randomly sampled data for different weather types\n",
    "sample = pd.concat([dataset[dataset['Type']==0].sample(3500),\n",
    "                    dataset[dataset['Type']==1].sample(3500),\n",
    "                    dataset[dataset['Type']==2].sample(3500)])\n",
    "\n",
    "\n",
    "\n",
    "\n",
    "#define a column transformer that will encode the wind direction and pass through all other data\n",
    "ct = ColumnTransformer([('encoder',OneHotEncoder(),['WindDirection'])],remainder='passthrough')\n",
    "\n",
    "#Define X as required by dropping the type and applying the column transformer defined above\n",
    "#Define y as the target which, in our case, is the Type\n",
    "y = np.asarray(sample.Type)\n",
    "X = ct.fit_transform(sample.drop('Type',axis=1))\n",
    "\n",
    "print(\"The shape of y = \"+str(y.shape))\n",
    "print(\"The shape of X = \"+str(X.shape))\n",
    "\n",
    "print(X[0])\n",
    "\n",
    "#Observe the first row of X printed below.\n",
    "#You can see the last 7 columns are numbers and the first 16 appear to be a-\n",
    "#bunch of 0s and a single 1. The 1 represents the direction of wind for -\n",
    "#this particular row.\n",
    "#In the classification system of wind directions, there are 16 different directions-\n",
    "#each one representing 1/16 of the compass circle.\n",
    "#Thus with 7 columns of normal data along with 16 hot encoded directions add up-\n",
    "#to 23. Thus, the shape of X is not unusual.\n",
    "#The shape of y is also not unusual as it has one column of 10,500 values --\n",
    "#The same number of values per column as X."
   ]
  },
  {
   "cell_type": "markdown",
   "metadata": {},
   "source": [
    "#### 7. Train a Random Forest and evaluate the performance (1 mark)\n",
    "\n",
    "Decision trees work well with a mixture of features (of different scales, and bot binary and continuos), so we will train a random forest to do the job of categorisation.\n",
    "\n",
    "You are given the train test split:"
   ]
  },
  {
   "cell_type": "code",
   "execution_count": 9,
   "metadata": {},
   "outputs": [
    {
     "name": "stdout",
     "output_type": "stream",
     "text": [
      "(7350, 23) (3150, 23)\n"
     ]
    }
   ],
   "source": [
    "#Import random fosets and confusion matrix metric\n",
    "from sklearn.ensemble import RandomForestClassifier\n",
    "from sklearn.metrics import confusion_matrix\n",
    "\n",
    "# split dataset into training set and test set\n",
    "x_train, x_test, y_train, y_test = train_test_split(X, y, test_size=0.3, random_state=1) # 70% training and 30% test\n",
    "print(x_train.shape,x_test.shape)"
   ]
  },
  {
   "cell_type": "markdown",
   "metadata": {},
   "source": [
    "1. Train a RandomForestClassifier with 1000 estimators, `gini` seperation criteria, and max depth 4.\n",
    "2. Check the overal accuaracy on the testing set"
   ]
  },
  {
   "cell_type": "markdown",
   "metadata": {},
   "source": [
    "3. Use the confusion_matrix method to return the confusion matrix normalised over the true lables, i.e. sum over rows should sum to 100%. Use the given colormap to plot the confusion matrix in a heatmap.\n",
    "    - Define the axis tick names to represent Clear, Cloudy or Precip\n",
    "    - Use suitable x and y axis labels\n",
    "    \n",
    "4. What are the true positive rates for clear, cloudy and perp? What is the probability that rain is forcast given that the day is clear?\n",
    "5. Which features does the random forest deem the most important?"
   ]
  },
  {
   "cell_type": "code",
   "execution_count": 10,
   "metadata": {},
   "outputs": [
    {
     "name": "stdout",
     "output_type": "stream",
     "text": [
      "Accuracy: 0.6666666666666666\n"
     ]
    }
   ],
   "source": [
    "#Questions 1 & 2\n",
    "\n",
    "#Define a random forest and print the accuracy of the predictions\n",
    "forest = RandomForestClassifier(n_estimators=1000, max_depth=4,criterion='gini')\n",
    "forest.fit(x_train, y_train)\n",
    "y_pred = forest.predict(x_test)\n",
    "print(\"Accuracy:\",metrics.accuracy_score(y_test, y_pred))"
   ]
  },
  {
   "cell_type": "code",
   "execution_count": 11,
   "metadata": {},
   "outputs": [
    {
     "data": {
      "image/png": "[encoded data removed]",
      "text/plain": [
       "<Figure size 432x288 with 2 Axes>"
      ]
     },
     "metadata": {
      "needs_background": "light"
     },
     "output_type": "display_data"
    }
   ],
   "source": [
    "#Question 3\n",
    "\n",
    "#Define the confusion matrix and normalise it so that each row/column sums to 1\n",
    "cmat = confusion_matrix(y_test,y_pred,normalize='true')\n",
    "#dispay the matrix and redefine the display labels to show the weather type\n",
    "cmatplot = ConfusionMatrixDisplay(confusion_matrix=cmat,display_labels=wtype)\n",
    "\n",
    "cmatplot.plot()\n",
    "plt.show()"
   ]
  },
  {
   "cell_type": "markdown",
   "metadata": {},
   "source": [
    "Question 4.)\n",
    "\n",
    "The confusion matrix shows that the true rates of clear, cloudy and precipitation are equal to 71%, 49% and 80%, respectively. Furthermore, the probability of it being clear (true label) when rain is forecast (predicted label) is shown to be equal to 0.055 or 5.5%. "
   ]
  },
  {
   "cell_type": "code",
   "execution_count": 12,
   "metadata": {},
   "outputs": [
    {
     "data": {
      "image/png": "[encoded data removed]",
      "text/plain": [
       "<Figure size 432x288 with 1 Axes>"
      ]
     },
     "metadata": {
      "needs_background": "light"
     },
     "output_type": "display_data"
    }
   ],
   "source": [
    "#Question 5\n",
    "\n",
    "# Given plotting example for feature importance\n",
    "plt.barh(range(23), forest.feature_importances_)\n",
    "plt.yticks(range(23), list(range(16))+features[:-1])\n",
    "plt.show()\n",
    "\n",
    "#The most important features are Visibility, Pressure and Humidity."
   ]
  },
  {
   "cell_type": "markdown",
   "metadata": {},
   "source": [
    "#### 8. Standardise the relevant features (0.5 mark)\n",
    "\n",
    "_Note:_ You shouldn't standardise the one-hot encoded wind directions; they already have the desired format. Perform a sanity check to make sure that the resulting features have the expected distributional properties (mean and standard deviation; or minimum and maximum value).\n",
    "- Hint:\n",
    "\n",
    "    - Use the scikit-learn `StandardScaler`\n",
    "    - Or use the scikit-learn `MinMaxScaler`\n",
    "\n",
    "- Perform a sanity check to make sure that the resulting features have the expected distributional properties (mean and standard deviation; or minimum and maximum value).\n",
    "    - The number of columns should match, and depending on the choice of standardisation, the last 7 columns should either have:\n",
    "      - (Using `StandardScaler`) means = 0 and standard deviations = 1; or\n",
    "      - (Using `MinMaxScaler`) min = 0, max = 1"
   ]
  },
  {
   "cell_type": "code",
   "execution_count": 13,
   "metadata": {},
   "outputs": [
    {
     "name": "stdout",
     "output_type": "stream",
     "text": [
      "The mean values are: [-1.67823427e-15 -5.95502483e-17 -9.74458609e-17  2.16546358e-17\n",
      " -9.74458609e-17  2.92337583e-15 -2.16546358e-17]\n",
      "\n",
      "The std deviations are: [1. 1. 1. 1. 1. 1. 1.]\n"
     ]
    }
   ],
   "source": [
    "scaler = StandardScaler()\n",
    "scaled = scaler.fit_transform(sample.drop(['Type','WindDirection'],axis=1))\n",
    "\n",
    "print(\"The mean values are: \"+str(np.mean(scaled,axis=0))) #This is close enough to 0 (likely a float error)\n",
    "print(\"\")\n",
    "print(\"The std deviations are: \"+str(np.std(scaled,axis=0))) #These are all equal to 1, as required\n",
    "\n",
    "#Now to add the wind direction back into the data\n",
    "scaled_data = np.concatenate([X[:,0:16],scaled],axis=1)"
   ]
  },
  {
   "cell_type": "markdown",
   "metadata": {},
   "source": [
    "#### 9. Split the dataset into a training and a testing part (0.5)\n",
    "\n",
    "Reserve **30%** of data for testing. Check whether the resulting arrays have the expected shapes."
   ]
  },
  {
   "cell_type": "code",
   "execution_count": 14,
   "metadata": {},
   "outputs": [
    {
     "name": "stdout",
     "output_type": "stream",
     "text": [
      "(7350, 23) (3150, 23)\n"
     ]
    }
   ],
   "source": [
    "x2_train, x2_test, y2_train, y2_test = train_test_split(scaled_data, y, test_size=0.3,\n",
    "                                                        random_state=1) # 70% training and 30% test\n",
    "\n",
    "print(x2_train.shape,x2_test.shape)\n",
    "\n",
    "#This is the same shape as before so the shapes are okay!"
   ]
  },
  {
   "cell_type": "markdown",
   "metadata": {},
   "source": [
    "## 3. Neural networks in `scikit-learn` (1.5 mark)\n",
    "---\n",
    "This section covers **2** exercises on constructing and training neural networks using the `scikit-learn` library, as well as evaluating neural network performance. `scikit-learn` provide many, very easy to use ML algorithms, including neural networks. These are called `MLPClassifier` (MLP = multi-layer perceptron; a historic name for densely connected, feed-forward neural networks) when used for classification, and `MLPRegressor` when used for regression. We will focus on the former for now."
   ]
  },
  {
   "cell_type": "code",
   "execution_count": 15,
   "metadata": {},
   "outputs": [],
   "source": [
    "# Relevant import(s) for this section\n",
    "from sklearn.neural_network import MLPClassifier\n"
   ]
  },
  {
   "cell_type": "markdown",
   "metadata": {},
   "source": [
    "#### 10. Construct and train a neural network  (1 mark)\n",
    "\n",
    "- Create an `MLPClassifier` which\n",
    "    - has **1 hidden layer of 50 neurons** \n",
    "    - has **no regularization term**\n",
    "    - trains for a maximum of **100 epochs** \n",
    "    - uses a batch size of **32**\n",
    "- Fit the classifier using the standard `.fit()` member method.\n",
    "- Plot the loss function value as a function of number of epochs (0.5 of mark).\n",
    "  You can access the loss history through the `.loss_curve_` attribute of the `MLPClassifier` instance. "
   ]
  },
  {
   "cell_type": "code",
   "execution_count": 16,
   "metadata": {},
   "outputs": [
    {
     "data": {
      "image/png": "[encoded data removed]",
      "text/plain": [
       "<Figure size 432x288 with 1 Axes>"
      ]
     },
     "metadata": {
      "needs_background": "light"
     },
     "output_type": "display_data"
    }
   ],
   "source": [
    "mlp = MLPClassifier(max_iter=100,alpha=0,hidden_layer_sizes=(50,),batch_size=32)\n",
    "\n",
    "mlp.fit(x2_train,y2_train)\n",
    "\n",
    "#Plotting a graph of the loss function\n",
    "plt.plot(mlp.loss_curve_)\n",
    "plt.title(\"Graph of the Loss Function Value vs Number of Epochs\")\n",
    "plt.xlabel(\"Epoch\")\n",
    "plt.ylabel(\"Loss Function\")\n",
    "plt.show()"
   ]
  },
  {
   "cell_type": "markdown",
   "metadata": {},
   "source": [
    "#### 11. Performance evaluation (0.5 mark)\n",
    "\n",
    "- Using the testing dataset: \n",
    "    - Compute the overall accuracy for the classifier using the `MLPClassifier`'s `.score()` member method for both testing and training datasets.\n",
    "    - Compute the confusion matrix (normalised in true labels), and plot it \n",
    "- Discuss the results"
   ]
  },
  {
   "cell_type": "code",
   "execution_count": 17,
   "metadata": {},
   "outputs": [
    {
     "name": "stdout",
     "output_type": "stream",
     "text": [
      "The training score is: 0.7485714285714286\n",
      "The testing score is: 0.7006349206349206\n"
     ]
    },
    {
     "data": {
      "image/png": "[encoded data removed]",
      "text/plain": [
       "<Figure size 432x288 with 2 Axes>"
      ]
     },
     "metadata": {
      "needs_background": "light"
     },
     "output_type": "display_data"
    }
   ],
   "source": [
    "print('The training score is: '+str(mlp.score(x2_train,y2_train)))\n",
    "print('The testing score is: '+str(mlp.score(x2_test,y2_test)))\n",
    "\n",
    "y2_pred = mlp.predict(x2_test)\n",
    "\n",
    "#Define the confusion matrix and normalise it so that each row/column sums to 1\n",
    "cmat2 = confusion_matrix(y2_test,y2_pred,normalize='true')\n",
    "#dispay the matrix and redefine the display labels to show the weather type\n",
    "cmatplot2 = ConfusionMatrixDisplay(confusion_matrix=cmat2,display_labels=wtype)\n",
    "\n",
    "cmatplot2.plot()\n",
    "plt.show()"
   ]
  },
  {
   "cell_type": "markdown",
   "metadata": {},
   "source": [
    "We can see that the accuracy is superior for the neural network (\\~75% for the training dataset) than for the random forest (\\~67%). In fact, the confusion matrix supports this as the probability on the diagonal is closer to 1 here than on the random forest and the off-diagonals are closer to 0 here too. \n",
    "\n",
    "Also, the training set has a higher accuracy than the testing dataset. This is to be expected, however, as the model is optimised for the training dataset so its accuracy will always be greater than or (eventually) equal to the testing dataset. "
   ]
  },
  {
   "cell_type": "markdown",
   "metadata": {},
   "source": [
    "## 4. Neural networks in `Keras` (2 marks)\n",
    "---\n",
    "This section covers **2** exercises on constructing and training neural networks using the `Keras` library. `scikit-learn` is very easy to use, but libraries like `Keras` provide a lot more flexibility, which is why we will be using these extensively in the last two units of the _'Data science tools and machine learning'_ track."
   ]
  },
  {
   "cell_type": "code",
   "execution_count": 18,
   "metadata": {},
   "outputs": [],
   "source": [
    "# Relevant import(s) for this section\n",
    "from tensorflow.python.keras.models import Model\n",
    "from tensorflow.python.keras.layers import Input, Dense"
   ]
  },
  {
   "cell_type": "markdown",
   "metadata": {},
   "source": [
    "#### 12. Construct a neural network in `Keras` (1 mark)\n",
    "\n",
    "- Create a `keras.Model` using the **Keras functional API**. The network should have:\n",
    "    - An input layer with the same number of nodes as the number of features in `X`.\n",
    "    - A single, densely connected hidden layer with **50 nodes** equipped with **ReLU activation**.\n",
    "    - A densely connected output layer with **3 nodes** (the number of types of weather we're classifying) equipped with **softmax activation**.\n",
    "- Compile the model the using the **Adam optimiser**, add `'accuracy'` as metric, and use either:\n",
    "    - `categorical_crossentropy` loss, if you have one-hot encoded the targets `y`, or\n",
    "    - `sparse_categorical_crossentropy` loss if you hare using integer-valued targets.\n",
    "- Use the `.summary()` member method to print an overview of the model you have created, explain the output."
   ]
  },
  {
   "cell_type": "code",
   "execution_count": 19,
   "metadata": {},
   "outputs": [
    {
     "name": "stdout",
     "output_type": "stream",
     "text": [
      "WARNING:tensorflow:From C:\\ProgramData\\Anaconda3\\envs\\daml\\lib\\site-packages\\tensorflow\\python\\ops\\init_ops.py:1251: calling VarianceScaling.__init__ (from tensorflow.python.ops.init_ops) with dtype is deprecated and will be removed in a future version.\n",
      "Instructions for updating:\n",
      "Call initializer instance with the dtype argument instead of passing it to the constructor\n",
      "Model: \"model\"\n",
      "_________________________________________________________________\n",
      "Layer (type)                 Output Shape              Param #   \n",
      "=================================================================\n",
      "input_1 (InputLayer)         [(None, 23)]              0         \n",
      "_________________________________________________________________\n",
      "dense (Dense)                (None, 50)                1200      \n",
      "_________________________________________________________________\n",
      "dense_1 (Dense)              (None, 3)                 153       \n",
      "=================================================================\n",
      "Total params: 1,353\n",
      "Trainable params: 1,353\n",
      "Non-trainable params: 0\n",
      "_________________________________________________________________\n"
     ]
    }
   ],
   "source": [
    "#Defining the neural network \n",
    "inputs = Input(shape=(X.shape[1],))\n",
    "x = Dense(50,activation='relu')(inputs)\n",
    "outputs = Dense(3,activation='softmax')(x)\n",
    "#Creating the model\n",
    "model = Model(inputs,outputs)\n",
    "\n",
    "#Compiling the model with adam optimizer and accuracy as the metric.\n",
    "#Also, since y are just integer values from 0-2, we use sparse_categorical_crossentropy\n",
    "#for the loss function\n",
    "model.compile(optimizer='Adam', loss = 'sparse_categorical_crossentropy', metrics=['accuracy'])\n",
    "model.summary()"
   ]
  },
  {
   "cell_type": "markdown",
   "metadata": {},
   "source": [
    "The output shows that we expect an input with 23 columns and an N number of rows (doesn't matter how many, thankfully). Input nodes have neither a bias nor a weight, thus there are no parameters attached to the input layer. The hidden layer, named dense, however, has 1200 parameters. The reason being that each input has one weighted synapse attached to each node so we have 23x50=1150 parameters. On top of that, each node in the hidden layer has a bias which, too, is defined as a trainable parameter. With 50 nodes, we have 1150+50=1200 parameters; as required.\n",
    "\n",
    "In the output layer, there are 3 nodes with 153 parameters. For the same reason as above, each of the 50 hidden layer nodes have 3 synapses connected to each output node thus we have 50x3=150 paramters. Add on the 3 bias parameters for the output nodes gives us 150+3=153 trainable parameters. Again, this is what we observe so everything makes sense!"
   ]
  },
  {
   "cell_type": "markdown",
   "metadata": {},
   "source": [
    "#### 13. Train a `Keras` neural network (1 mark)\n",
    "\n",
    "- Use the `.fit()` member method to train the network on the **training dataset** for **100 epochs** with a **batch size of 32**. Use **20% of the data for validation** and make sure to have `Keras` **shuffle** the training data between epochs. Save the fit history by doing `history_mld = .....`\n",
    "- Print the classification accuracy using the `.evaluate()` member method, for both the training and testing dataset. Comment on the results.\n",
    "- Plot val_loss and loss functions from the fit history. On the same plot, plot the sklearn curve from the excercise above. Note the sklearn NN does not provide a complementary validation loss history, so only plot the training loss.\n",
    "- Comment on the results of the overall accuracy compared to the scikit-learn method."
   ]
  },
  {
   "cell_type": "code",
   "execution_count": 20,
   "metadata": {},
   "outputs": [
    {
     "name": "stdout",
     "output_type": "stream",
     "text": [
      "Train on 5880 samples, validate on 1470 samples\n",
      "Epoch 1/100\n",
      "5880/5880 [==============================] - 0s 81us/sample - loss: 0.8841 - acc: 0.5697 - val_loss: 0.7264 - val_acc: 0.6871\n",
      "Epoch 2/100\n",
      "5880/5880 [==============================] - 0s 45us/sample - loss: 0.7354 - acc: 0.6643 - val_loss: 0.6783 - val_acc: 0.7020\n",
      "Epoch 3/100\n",
      "5880/5880 [==============================] - 0s 50us/sample - loss: 0.7075 - acc: 0.6794 - val_loss: 0.6644 - val_acc: 0.7068\n",
      "Epoch 4/100\n",
      "5880/5880 [==============================] - 0s 47us/sample - loss: 0.6926 - acc: 0.6835 - val_loss: 0.6615 - val_acc: 0.7054\n",
      "Epoch 5/100\n",
      "5880/5880 [==============================] - 0s 50us/sample - loss: 0.6842 - acc: 0.6857 - val_loss: 0.6553 - val_acc: 0.7163\n",
      "Epoch 6/100\n",
      "5880/5880 [==============================] - 0s 52us/sample - loss: 0.6787 - acc: 0.6861 - val_loss: 0.6572 - val_acc: 0.7034\n",
      "Epoch 7/100\n",
      "5880/5880 [==============================] - 0s 50us/sample - loss: 0.6740 - acc: 0.6878 - val_loss: 0.6527 - val_acc: 0.7136\n",
      "Epoch 8/100\n",
      "5880/5880 [==============================] - 0s 53us/sample - loss: 0.6688 - acc: 0.6930 - val_loss: 0.6512 - val_acc: 0.7129\n",
      "Epoch 9/100\n",
      "5880/5880 [==============================] - 0s 50us/sample - loss: 0.6653 - acc: 0.6934 - val_loss: 0.6519 - val_acc: 0.7082\n",
      "Epoch 10/100\n",
      "5880/5880 [==============================] - 0s 51us/sample - loss: 0.6626 - acc: 0.6966 - val_loss: 0.6491 - val_acc: 0.7095\n",
      "Epoch 11/100\n",
      "5880/5880 [==============================] - 0s 51us/sample - loss: 0.6589 - acc: 0.6983 - val_loss: 0.6503 - val_acc: 0.7163\n",
      "Epoch 12/100\n",
      "5880/5880 [==============================] - 0s 48us/sample - loss: 0.6576 - acc: 0.7010 - val_loss: 0.6502 - val_acc: 0.7109\n",
      "Epoch 13/100\n",
      "5880/5880 [==============================] - ETA: 0s - loss: 0.6548 - acc: 0.701 - 0s 46us/sample - loss: 0.6547 - acc: 0.7020 - val_loss: 0.6466 - val_acc: 0.7170\n",
      "Epoch 14/100\n",
      "5880/5880 [==============================] - 0s 45us/sample - loss: 0.6522 - acc: 0.7031 - val_loss: 0.6477 - val_acc: 0.7136\n",
      "Epoch 15/100\n",
      "5880/5880 [==============================] - 0s 49us/sample - loss: 0.6498 - acc: 0.7044 - val_loss: 0.6453 - val_acc: 0.7143\n",
      "Epoch 16/100\n",
      "5880/5880 [==============================] - 0s 46us/sample - loss: 0.6475 - acc: 0.7066 - val_loss: 0.6454 - val_acc: 0.7136\n",
      "Epoch 17/100\n",
      "5880/5880 [==============================] - 0s 50us/sample - loss: 0.6464 - acc: 0.7109 - val_loss: 0.6467 - val_acc: 0.7116\n",
      "Epoch 18/100\n",
      "5880/5880 [==============================] - 0s 50us/sample - loss: 0.6440 - acc: 0.7075 - val_loss: 0.6428 - val_acc: 0.7170\n",
      "Epoch 19/100\n",
      "5880/5880 [==============================] - 0s 50us/sample - loss: 0.6429 - acc: 0.7075 - val_loss: 0.6466 - val_acc: 0.7088\n",
      "Epoch 20/100\n",
      "5880/5880 [==============================] - 0s 50us/sample - loss: 0.6420 - acc: 0.7129 - val_loss: 0.6447 - val_acc: 0.7150\n",
      "Epoch 21/100\n",
      "5880/5880 [==============================] - 0s 53us/sample - loss: 0.6394 - acc: 0.7131 - val_loss: 0.6448 - val_acc: 0.7156\n",
      "Epoch 22/100\n",
      "5880/5880 [==============================] - 0s 50us/sample - loss: 0.6371 - acc: 0.7148 - val_loss: 0.6453 - val_acc: 0.7163\n",
      "Epoch 23/100\n",
      "5880/5880 [==============================] - 0s 48us/sample - loss: 0.6354 - acc: 0.7162 - val_loss: 0.6494 - val_acc: 0.7075\n",
      "Epoch 24/100\n",
      "5880/5880 [==============================] - 0s 47us/sample - loss: 0.6352 - acc: 0.7143 - val_loss: 0.6449 - val_acc: 0.7177\n",
      "Epoch 25/100\n",
      "5880/5880 [==============================] - 0s 47us/sample - loss: 0.6336 - acc: 0.7199 - val_loss: 0.6444 - val_acc: 0.7136\n",
      "Epoch 26/100\n",
      "5880/5880 [==============================] - 0s 44us/sample - loss: 0.6323 - acc: 0.7173 - val_loss: 0.6409 - val_acc: 0.7170\n",
      "Epoch 27/100\n",
      "5880/5880 [==============================] - 0s 46us/sample - loss: 0.6312 - acc: 0.7189 - val_loss: 0.6434 - val_acc: 0.7129\n",
      "Epoch 28/100\n",
      "5880/5880 [==============================] - 0s 44us/sample - loss: 0.6290 - acc: 0.7196 - val_loss: 0.6434 - val_acc: 0.7163\n",
      "Epoch 29/100\n",
      "5880/5880 [==============================] - 0s 47us/sample - loss: 0.6281 - acc: 0.7219 - val_loss: 0.6430 - val_acc: 0.7170\n",
      "Epoch 30/100\n",
      "5880/5880 [==============================] - 0s 45us/sample - loss: 0.6277 - acc: 0.7190 - val_loss: 0.6425 - val_acc: 0.7163\n",
      "Epoch 31/100\n",
      "5880/5880 [==============================] - 0s 48us/sample - loss: 0.6265 - acc: 0.7211 - val_loss: 0.6426 - val_acc: 0.7218\n",
      "Epoch 32/100\n",
      "5880/5880 [==============================] - 0s 50us/sample - loss: 0.6242 - acc: 0.7224 - val_loss: 0.6429 - val_acc: 0.7136\n",
      "Epoch 33/100\n",
      "5880/5880 [==============================] - 0s 49us/sample - loss: 0.6237 - acc: 0.7204 - val_loss: 0.6428 - val_acc: 0.7150\n",
      "Epoch 34/100\n",
      "5880/5880 [==============================] - 0s 50us/sample - loss: 0.6223 - acc: 0.7218 - val_loss: 0.6409 - val_acc: 0.7129\n",
      "Epoch 35/100\n",
      "5880/5880 [==============================] - 0s 49us/sample - loss: 0.6211 - acc: 0.7241 - val_loss: 0.6431 - val_acc: 0.7136\n",
      "Epoch 36/100\n",
      "5880/5880 [==============================] - 0s 48us/sample - loss: 0.6213 - acc: 0.7252 - val_loss: 0.6431 - val_acc: 0.7163\n",
      "Epoch 37/100\n",
      "5880/5880 [==============================] - 0s 47us/sample - loss: 0.6198 - acc: 0.7272 - val_loss: 0.6456 - val_acc: 0.7109\n",
      "Epoch 38/100\n",
      "5880/5880 [==============================] - 0s 48us/sample - loss: 0.6189 - acc: 0.7270 - val_loss: 0.6461 - val_acc: 0.7122\n",
      "Epoch 39/100\n",
      "5880/5880 [==============================] - 0s 50us/sample - loss: 0.6183 - acc: 0.7282 - val_loss: 0.6443 - val_acc: 0.7116\n",
      "Epoch 40/100\n",
      "5880/5880 [==============================] - 0s 47us/sample - loss: 0.6165 - acc: 0.7253 - val_loss: 0.6435 - val_acc: 0.7150\n",
      "Epoch 41/100\n",
      "5880/5880 [==============================] - 0s 50us/sample - loss: 0.6166 - acc: 0.7304 - val_loss: 0.6426 - val_acc: 0.7184\n",
      "Epoch 42/100\n",
      "5880/5880 [==============================] - 0s 54us/sample - loss: 0.6152 - acc: 0.7269 - val_loss: 0.6450 - val_acc: 0.7156\n",
      "Epoch 43/100\n",
      "5880/5880 [==============================] - 0s 46us/sample - loss: 0.6143 - acc: 0.7318 - val_loss: 0.6424 - val_acc: 0.7129\n",
      "Epoch 44/100\n",
      "5880/5880 [==============================] - 0s 43us/sample - loss: 0.6140 - acc: 0.7284 - val_loss: 0.6419 - val_acc: 0.7129\n",
      "Epoch 45/100\n",
      "5880/5880 [==============================] - 0s 49us/sample - loss: 0.6126 - acc: 0.7321 - val_loss: 0.6423 - val_acc: 0.7170\n",
      "Epoch 46/100\n",
      "5880/5880 [==============================] - 0s 46us/sample - loss: 0.6110 - acc: 0.7293 - val_loss: 0.6439 - val_acc: 0.7156\n",
      "Epoch 47/100\n",
      "5880/5880 [==============================] - 0s 45us/sample - loss: 0.6113 - acc: 0.7272 - val_loss: 0.6470 - val_acc: 0.7129\n",
      "Epoch 48/100\n",
      "5880/5880 [==============================] - 0s 47us/sample - loss: 0.6102 - acc: 0.7333 - val_loss: 0.6444 - val_acc: 0.7116\n",
      "Epoch 49/100\n",
      "5880/5880 [==============================] - 0s 44us/sample - loss: 0.6099 - acc: 0.7281 - val_loss: 0.6474 - val_acc: 0.7122\n",
      "Epoch 50/100\n",
      "5880/5880 [==============================] - 0s 45us/sample - loss: 0.6091 - acc: 0.7303 - val_loss: 0.6450 - val_acc: 0.7143\n",
      "Epoch 51/100\n",
      "5880/5880 [==============================] - 0s 45us/sample - loss: 0.6089 - acc: 0.7293 - val_loss: 0.6449 - val_acc: 0.7122\n",
      "Epoch 52/100\n",
      "5880/5880 [==============================] - 0s 45us/sample - loss: 0.6079 - acc: 0.7327 - val_loss: 0.6470 - val_acc: 0.7156\n",
      "Epoch 53/100\n",
      "5880/5880 [==============================] - 0s 48us/sample - loss: 0.6063 - acc: 0.7316 - val_loss: 0.6463 - val_acc: 0.7088\n",
      "Epoch 54/100\n",
      "5880/5880 [==============================] - 0s 48us/sample - loss: 0.6058 - acc: 0.7315 - val_loss: 0.6465 - val_acc: 0.7129\n",
      "Epoch 55/100\n",
      "5880/5880 [==============================] - 0s 50us/sample - loss: 0.6056 - acc: 0.7335 - val_loss: 0.6478 - val_acc: 0.7068\n",
      "Epoch 56/100\n",
      "5880/5880 [==============================] - 0s 50us/sample - loss: 0.6053 - acc: 0.7311 - val_loss: 0.6435 - val_acc: 0.7163\n",
      "Epoch 57/100\n",
      "5880/5880 [==============================] - 0s 51us/sample - loss: 0.6045 - acc: 0.7298 - val_loss: 0.6437 - val_acc: 0.7156\n",
      "Epoch 58/100\n",
      "5880/5880 [==============================] - 0s 48us/sample - loss: 0.6041 - acc: 0.7325 - val_loss: 0.6442 - val_acc: 0.7177\n",
      "Epoch 59/100\n"
     ]
    },
    {
     "name": "stdout",
     "output_type": "stream",
     "text": [
      "5880/5880 [==============================] - 0s 47us/sample - loss: 0.6030 - acc: 0.7310 - val_loss: 0.6447 - val_acc: 0.7102\n",
      "Epoch 60/100\n",
      "5880/5880 [==============================] - 0s 47us/sample - loss: 0.6021 - acc: 0.7330 - val_loss: 0.6454 - val_acc: 0.7109\n",
      "Epoch 61/100\n",
      "5880/5880 [==============================] - 0s 45us/sample - loss: 0.6016 - acc: 0.7345 - val_loss: 0.6474 - val_acc: 0.7116\n",
      "Epoch 62/100\n",
      "5880/5880 [==============================] - 0s 47us/sample - loss: 0.5998 - acc: 0.7330 - val_loss: 0.6452 - val_acc: 0.7218\n",
      "Epoch 63/100\n",
      "5880/5880 [==============================] - 0s 45us/sample - loss: 0.6002 - acc: 0.7349 - val_loss: 0.6487 - val_acc: 0.7075\n",
      "Epoch 64/100\n",
      "5880/5880 [==============================] - 0s 49us/sample - loss: 0.5987 - acc: 0.7359 - val_loss: 0.6444 - val_acc: 0.7211\n",
      "Epoch 65/100\n",
      "5880/5880 [==============================] - 0s 45us/sample - loss: 0.5978 - acc: 0.7357 - val_loss: 0.6470 - val_acc: 0.7156\n",
      "Epoch 66/100\n",
      "5880/5880 [==============================] - 0s 47us/sample - loss: 0.5975 - acc: 0.7364 - val_loss: 0.6460 - val_acc: 0.7136\n",
      "Epoch 67/100\n",
      "5880/5880 [==============================] - 0s 43us/sample - loss: 0.5965 - acc: 0.7345 - val_loss: 0.6452 - val_acc: 0.7184\n",
      "Epoch 68/100\n",
      "5880/5880 [==============================] - 0s 47us/sample - loss: 0.5965 - acc: 0.7349 - val_loss: 0.6481 - val_acc: 0.7082\n",
      "Epoch 69/100\n",
      "5880/5880 [==============================] - 0s 48us/sample - loss: 0.5953 - acc: 0.7366 - val_loss: 0.6523 - val_acc: 0.7041\n",
      "Epoch 70/100\n",
      "5880/5880 [==============================] - 0s 50us/sample - loss: 0.5969 - acc: 0.7366 - val_loss: 0.6457 - val_acc: 0.7163\n",
      "Epoch 71/100\n",
      "5880/5880 [==============================] - 0s 44us/sample - loss: 0.5947 - acc: 0.7372 - val_loss: 0.6486 - val_acc: 0.7122\n",
      "Epoch 72/100\n",
      "5880/5880 [==============================] - 0s 47us/sample - loss: 0.5937 - acc: 0.7388 - val_loss: 0.6494 - val_acc: 0.7136\n",
      "Epoch 73/100\n",
      "5880/5880 [==============================] - 0s 50us/sample - loss: 0.5939 - acc: 0.7359 - val_loss: 0.6491 - val_acc: 0.7109\n",
      "Epoch 74/100\n",
      "5880/5880 [==============================] - 0s 46us/sample - loss: 0.5917 - acc: 0.7412 - val_loss: 0.6507 - val_acc: 0.7041\n",
      "Epoch 75/100\n",
      "5880/5880 [==============================] - 0s 44us/sample - loss: 0.5928 - acc: 0.7379 - val_loss: 0.6455 - val_acc: 0.7190\n",
      "Epoch 76/100\n",
      "5880/5880 [==============================] - 0s 46us/sample - loss: 0.5919 - acc: 0.7372 - val_loss: 0.6504 - val_acc: 0.7204\n",
      "Epoch 77/100\n",
      "5880/5880 [==============================] - 0s 45us/sample - loss: 0.5908 - acc: 0.7422 - val_loss: 0.6493 - val_acc: 0.7122\n",
      "Epoch 78/100\n",
      "5880/5880 [==============================] - 0s 49us/sample - loss: 0.5900 - acc: 0.7384 - val_loss: 0.6477 - val_acc: 0.7088\n",
      "Epoch 79/100\n",
      "5880/5880 [==============================] - 0s 44us/sample - loss: 0.5899 - acc: 0.7381 - val_loss: 0.6489 - val_acc: 0.7041\n",
      "Epoch 80/100\n",
      "5880/5880 [==============================] - 0s 47us/sample - loss: 0.5889 - acc: 0.7418 - val_loss: 0.6502 - val_acc: 0.7082\n",
      "Epoch 81/100\n",
      "5880/5880 [==============================] - 0s 47us/sample - loss: 0.5884 - acc: 0.7400 - val_loss: 0.6478 - val_acc: 0.7116\n",
      "Epoch 82/100\n",
      "5880/5880 [==============================] - 0s 43us/sample - loss: 0.5888 - acc: 0.7378 - val_loss: 0.6501 - val_acc: 0.7156\n",
      "Epoch 83/100\n",
      "5880/5880 [==============================] - 0s 51us/sample - loss: 0.5881 - acc: 0.7379 - val_loss: 0.6492 - val_acc: 0.7109\n",
      "Epoch 84/100\n",
      "5880/5880 [==============================] - 0s 45us/sample - loss: 0.5856 - acc: 0.7396 - val_loss: 0.6477 - val_acc: 0.7150\n",
      "Epoch 85/100\n",
      "5880/5880 [==============================] - 0s 45us/sample - loss: 0.5878 - acc: 0.7418 - val_loss: 0.6508 - val_acc: 0.7116\n",
      "Epoch 86/100\n",
      "5880/5880 [==============================] - 0s 42us/sample - loss: 0.5871 - acc: 0.7439 - val_loss: 0.6480 - val_acc: 0.7150\n",
      "Epoch 87/100\n",
      "5880/5880 [==============================] - 0s 44us/sample - loss: 0.5854 - acc: 0.7371 - val_loss: 0.6498 - val_acc: 0.7109\n",
      "Epoch 88/100\n",
      "5880/5880 [==============================] - 0s 45us/sample - loss: 0.5855 - acc: 0.7396 - val_loss: 0.6482 - val_acc: 0.7129\n",
      "Epoch 89/100\n",
      "5880/5880 [==============================] - 0s 44us/sample - loss: 0.5840 - acc: 0.7442 - val_loss: 0.6509 - val_acc: 0.7136\n",
      "Epoch 90/100\n",
      "5880/5880 [==============================] - 0s 45us/sample - loss: 0.5849 - acc: 0.7396 - val_loss: 0.6487 - val_acc: 0.7116\n",
      "Epoch 91/100\n",
      "5880/5880 [==============================] - 0s 47us/sample - loss: 0.5838 - acc: 0.7437 - val_loss: 0.6542 - val_acc: 0.7020\n",
      "Epoch 92/100\n",
      "5880/5880 [==============================] - 0s 45us/sample - loss: 0.5839 - acc: 0.7396 - val_loss: 0.6501 - val_acc: 0.7136\n",
      "Epoch 93/100\n",
      "5880/5880 [==============================] - 0s 47us/sample - loss: 0.5819 - acc: 0.7418 - val_loss: 0.6500 - val_acc: 0.7163\n",
      "Epoch 94/100\n",
      "5880/5880 [==============================] - 0s 51us/sample - loss: 0.5824 - acc: 0.7442 - val_loss: 0.6529 - val_acc: 0.7129\n",
      "Epoch 95/100\n",
      "5880/5880 [==============================] - 0s 45us/sample - loss: 0.5817 - acc: 0.7423 - val_loss: 0.6529 - val_acc: 0.7088\n",
      "Epoch 96/100\n",
      "5880/5880 [==============================] - 0s 49us/sample - loss: 0.5802 - acc: 0.7410 - val_loss: 0.6492 - val_acc: 0.7136\n",
      "Epoch 97/100\n",
      "5880/5880 [==============================] - 0s 50us/sample - loss: 0.5810 - acc: 0.7405 - val_loss: 0.6517 - val_acc: 0.7122\n",
      "Epoch 98/100\n",
      "5880/5880 [==============================] - 0s 48us/sample - loss: 0.5805 - acc: 0.7444 - val_loss: 0.6557 - val_acc: 0.7088\n",
      "Epoch 99/100\n",
      "5880/5880 [==============================] - 0s 48us/sample - loss: 0.5800 - acc: 0.7452 - val_loss: 0.6551 - val_acc: 0.7129\n",
      "Epoch 100/100\n",
      "5880/5880 [==============================] - 0s 50us/sample - loss: 0.5807 - acc: 0.7454 - val_loss: 0.6517 - val_acc: 0.7041\n"
     ]
    }
   ],
   "source": [
    "#fitting the model to the data\n",
    "\n",
    "history_mld = model.fit(x=x2_train,y=y2_train,batch_size=32,epochs=100,validation_split=0.2,shuffle=True)"
   ]
  },
  {
   "cell_type": "code",
   "execution_count": 21,
   "metadata": {},
   "outputs": [
    {
     "name": "stdout",
     "output_type": "stream",
     "text": [
      "For the training data set, we get a loss value of: 0.5897887886786948\n",
      "For the testing data set, we get a loss value of: 0.6756476867009723\n",
      "\n",
      "For the training data set, we get a metric value of: 0.73755103\n",
      "For the testing data set, we get a metric value of: 0.69555557\n"
     ]
    }
   ],
   "source": [
    "train_loss_v,train_metric_v = model.evaluate(x=x2_train,y=y2_train,batch_size=32,verbose=0)\n",
    "test_loss_v,test_metric_v = model.evaluate(x=x2_test,y=y2_test,batch_size=32,verbose=0)\n",
    "\n",
    "print(\"For the training data set, we get a loss value of: \"+str(train_loss_v))\n",
    "print(\"For the testing data set, we get a loss value of: \"+str(test_loss_v))\n",
    "print(\"\")\n",
    "print(\"For the training data set, we get a metric value of: \"+str(train_metric_v))\n",
    "print(\"For the testing data set, we get a metric value of: \"+str(test_metric_v))"
   ]
  },
  {
   "cell_type": "markdown",
   "metadata": {},
   "source": [
    "The training data set is superior to the testing one as it has a lower loss value."
   ]
  },
  {
   "cell_type": "code",
   "execution_count": 22,
   "metadata": {},
   "outputs": [
    {
     "data": {
      "image/png": "[encoded data removed]",
      "text/plain": [
       "<Figure size 432x288 with 1 Axes>"
      ]
     },
     "metadata": {
      "needs_background": "light"
     },
     "output_type": "display_data"
    }
   ],
   "source": [
    "loss_function=history_mld.history['loss']\n",
    "loss_val=history_mld.history['val_loss']\n",
    "\n",
    "plt.plot(loss_function,label='Keras Neural Network Loss')\n",
    "plt.plot(mlp.loss_curve_,label='SKLearn Neural Network Loss')\n",
    "plt.plot(loss_val,label='Keras Neural Network Validation Loss')\n",
    "plt.title(\"Comparison of the Loss Change of the Keras NN and the SKL NN\")\n",
    "plt.xlabel(\"Epoch\")\n",
    "plt.ylabel(\"Loss\")\n",
    "plt.legend()\n",
    "plt.show()"
   ]
  },
  {
   "cell_type": "markdown",
   "metadata": {},
   "source": [
    "We can see from the graph that the keras neural network and the SKLearn network are pretty much the same with regards to the loss function. SKLearn decreases loss a little faster than Keras but Keras makes up for it at the end. The only issue with the SKLearn data is that we can't see the validation loss but we do know from the Keras data that its validation loss does start to increase at epochs above 40. Therefore, I assume SKLearn also has an increasing validation loss but it is impossible to tell if its greater than Keras or not. What we do know, however, is that Keras the validation loss doesn't increase that fast."
   ]
  },
  {
   "cell_type": "markdown",
   "metadata": {},
   "source": [
    "## 5. Regularisation (1.5 marks)\n",
    "---\n",
    "This section covers **2** exercises on the impact of weight regularisaton. Note that $L_{1}$- and $L_{2}$-regularisation may also be applied to the activation of intermediate layers. Also, a similar regularising effect could be achieved using **dropout** regularisation, which you are encouraged to try out, but which we won't study in this CP exercise."
   ]
  },
  {
   "cell_type": "code",
   "execution_count": 23,
   "metadata": {},
   "outputs": [],
   "source": [
    "# Relevant import(s) for this section\n",
    "from tensorflow.python.keras.regularizers import l1_l2"
   ]
  },
  {
   "cell_type": "markdown",
   "metadata": {},
   "source": [
    "#### 14. Define `Keras` model factory method (0.5 mark)\n",
    "\n",
    "- Define a python function called `big_model_fn` which takes the followng three arguments:\n",
    "    - `l1`: A float specifying the $L_{1}$ regularisation factor (default value: 0)\n",
    "    - `l2`: A float specifying the $L_{2}$ regularisation factor (default value: 0)\n",
    "    - `name`: A string, specifying the name of the model (default value: None)\n",
    "- Indside the function, you should:\n",
    "    - Construct a `Keras` model using the functional API, which has:\n",
    "        - An input layer with the same number of nodes as the number of features in `X`.\n",
    "        - **Two** densely connected hidden layer with **100 nodes** each, both equipped with **ReLU activation**.\n",
    "        - Both hidden layers should be subject to kernel regularisation (_i.e._ weight regularisation) with the regularisation factors specified as an input.\n",
    "        - A densely connected output layer with **3 nodes** (the number of types of weather we're classifying) equipped with **softmax activation**.\n",
    "        - A name given by the corresponding argument.\n",
    "    - Compile the model in the same way as in **Exercise 14.**\n",
    "- The function should return the compiled `Keras` model. \n",
    "\n",
    "The method will provide a convenient way of constructing and compiling a number of \"big\"/deep `Keras` models which differ only by their regularisation and name."
   ]
  },
  {
   "cell_type": "code",
   "execution_count": 24,
   "metadata": {},
   "outputs": [],
   "source": [
    "def big_model_fn(l1=0,l2=0,name=None):\n",
    "    inputs = Input(shape=(X.shape[1],))\n",
    "    x = Dense(100,activation='relu',kernel_regularizer=l1_l2(l1,l2))(inputs)\n",
    "    y = Dense(100,activation='relu',kernel_regularizer=l1_l2(l1,l2))(x)\n",
    "    outputs = Dense(3,activation='softmax')(y)\n",
    "    #Creating the model\n",
    "    model = Model(inputs,outputs,name=name)\n",
    "    model.compile(optimizer='Adam', loss = 'sparse_categorical_crossentropy', metrics=['accuracy'])\n",
    "    \n",
    "    return model\n",
    "    "
   ]
  },
  {
   "cell_type": "markdown",
   "metadata": {},
   "source": [
    "#### 15. Train \"big\" models with and without regularisation (1 mark)\n",
    "\n",
    "- Construct three \"big\" model using the factory method:\n",
    "     - One with default parameters\n",
    "     - One with `l1=0.0003` and  `name='Big model (L1-regularised)'`\n",
    "     - One with `l2=0.003`  and `name='Big model (L2-regularised)'`\n",
    "- Train each one as in **Exercise 15.**\n",
    "- Compare first the loss history of the un-regularised \"big\" model to that of the small model from **Exercise 15** using the `plot.loss()` method.\n",
    "- Then, compare the loss histories of all three \"big\" models with that of the small model.\n",
    "- Plot the loss and val loss of all 4 models and discuss the results. Target these points:\n",
    "    - Compare the performance of deep vs shallow models on the testing sets\n",
    "    - Compare the level of ovetraining (training vs testing loss)\n",
    "    - Note: Don't be alarmed if the shallow network performs slightly better that the deeper ones, this is dataset dependant."
   ]
  },
  {
   "cell_type": "code",
   "execution_count": 25,
   "metadata": {},
   "outputs": [],
   "source": [
    "#1 Constructing the three big models\n",
    "\n",
    "default_model = big_model_fn()\n",
    "l1_big_model = big_model_fn(0.0003,0,'Big model (L1-regularised)')\n",
    "l2_big_model = big_model_fn(0,0.003,'Big model (L2-regularised)') "
   ]
  },
  {
   "cell_type": "code",
   "execution_count": 26,
   "metadata": {},
   "outputs": [],
   "source": [
    "#2 Training the models\n",
    "\n",
    "def_his = default_model.fit(x=x2_train,y=y2_train,batch_size=32,epochs=100,validation_split=0.2,shuffle=True,verbose=0)\n",
    "l1_his = l1_big_model.fit(x=x2_train,y=y2_train,batch_size=32,epochs=100,validation_split=0.2,shuffle=True,verbose=0)\n",
    "l2_his = l2_big_model.fit(x=x2_train,y=y2_train,batch_size=32,epochs=100,validation_split=0.2,shuffle=True,verbose=0)"
   ]
  },
  {
   "cell_type": "code",
   "execution_count": 27,
   "metadata": {},
   "outputs": [],
   "source": [
    "#3 Evaluating the models\n",
    "\n",
    "def_loss=def_his.history['loss']\n",
    "def_val=def_his.history['val_loss']\n",
    "\n",
    "l1_loss=l1_his.history['loss']\n",
    "l1_val=l1_his.history['val_loss']\n",
    "\n",
    "l2_loss=l2_his.history['loss']\n",
    "l2_val=l2_his.history['val_loss']"
   ]
  },
  {
   "cell_type": "code",
   "execution_count": 28,
   "metadata": {},
   "outputs": [
    {
     "data": {
      "image/png": "[encoded data removed]",
      "text/plain": [
       "<Figure size 432x288 with 1 Axes>"
      ]
     },
     "metadata": {
      "needs_background": "light"
     },
     "output_type": "display_data"
    }
   ],
   "source": [
    "#comparing default big loss model with small loss model\n",
    "\n",
    "small_loss=history_mld.history['loss']\n",
    "small_val=history_mld.history['val_loss']\n",
    "\n",
    "plt.plot(def_loss,label='Big Model Loss')\n",
    "plt.plot(def_val,label='Big Model Validation')\n",
    "plt.plot(small_loss,label='Small Model Loss')\n",
    "plt.plot(small_val,label='Small Model Validation')\n",
    "plt.title('Loss Function Change Over Time for the Big Model and Small Model')\n",
    "plt.xlabel(\"Epoch\")\n",
    "plt.ylabel(\"Loss\")\n",
    "plt.legend()\n",
    "plt.show()"
   ]
  },
  {
   "cell_type": "markdown",
   "metadata": {},
   "source": [
    "From this graph, we see that deep neural network loss goes down far faster and further than the shallow neural network although the validation loss goes up astronomically. Thus, the deep network starts to overfit the data after about 10 epochs whilst the shallow network doesn't overfit that badly at all.   "
   ]
  },
  {
   "cell_type": "code",
   "execution_count": 34,
   "metadata": {},
   "outputs": [
    {
     "data": {
      "image/png": "[encoded data removed]",
      "text/plain": [
       "<Figure size 504x504 with 1 Axes>"
      ]
     },
     "metadata": {
      "needs_background": "light"
     },
     "output_type": "display_data"
    }
   ],
   "source": [
    "#plotting the loss of the three big models\n",
    "plt.plot(def_loss,label='Default Loss')\n",
    "plt.plot(def_val,label='Default Validation')\n",
    "plt.plot(l1_loss,label='L1 Loss')\n",
    "plt.plot(l1_val,label='L1 Validation')\n",
    "plt.plot(l2_loss,label='L2 Loss')\n",
    "plt.plot(l2_val,label='L2 Validation')\n",
    "plt.plot(small_loss,label='Small Model Loss')\n",
    "plt.plot(small_val,label='Small Model Validation')\n",
    "plt.rcParams[\"figure.figsize\"] = (7,7)\n",
    "plt.title(\"Comparison of the Loss Change of Different Regularization Procedures\")\n",
    "plt.xlabel(\"Epoch\")\n",
    "plt.ylabel(\"Loss\")\n",
    "plt.legend(prop={'size': 9})\n",
    "plt.show()"
   ]
  },
  {
   "cell_type": "markdown",
   "metadata": {},
   "source": [
    "We can see from this graph that the loss function of the default parameters (no regularization) goes down very fast but the validation loss shoots upward even faster. Thus, we obtain an unreasonable amount of overfitting as it's completely unregularized. The l1 and l2 are much better in terms of overfitting but they don't decrease the loss function as quickly as the default curve. In this case, the l2 regularization is better at keeping the validation low but the not quite as good as keeping the bias low whereas for l1 regularization, the opposite holds. \n",
    "\n",
    "Nevertheless, the regularized neural networks are very effective at preventing overfitting. \n",
    "\n",
    "The small model loss is also very good -- better, in fact -- although this is due to the dataset. It's the best out of them all which means that it's better to have a shallow neural network than an unregularized deep neural network."
   ]
  },
  {
   "cell_type": "markdown",
   "metadata": {},
   "source": [
    "## 6. Bonus: Hyperparameter optimisation (1\\*bonus\\* mark)\n",
    "---"
   ]
  },
  {
   "cell_type": "markdown",
   "metadata": {},
   "source": [
    "This section covers **1** exercise on the on hyperparameter optimisation. "
   ]
  },
  {
   "cell_type": "code",
   "execution_count": 30,
   "metadata": {},
   "outputs": [],
   "source": [
    "# Relevant import(s) for this section\n",
    "from sklearn.model_selection import GridSearchCV, cross_val_score"
   ]
  },
  {
   "cell_type": "markdown",
   "metadata": {},
   "source": [
    "---\n",
    "_**Comment on simplified hyperparameter optimisation example:**_ You will try to perform a simple optimisation using a grid search\n",
    "\n",
    "For convenience, we will be using the `scikit-learn` `MLPClassifier` as our base class, but the same principles apply to just about any ML model constructed in any framework. Just as in the examples in the lecture, we will restrict the hyperparameter space to just two dimensions:\n",
    "\n",
    "* the number of hidden layers, `nb_layers`, and\n",
    "* the number of nodes per hidden layer, `nb_nodes_per_layer`, which is taken to be the same for all hidden layers for simplicity.\n",
    "\n",
    "Since the `scikit-learn` neural network classifier class doesn't support these two hyperparameters by default, provided is a simple wrapper class, that works exactly like `MLPClassifier`, it just takes the two parameters above as arguments in the constructor. Don't worry about understanding it in detail. This allows us to call "
   ]
  },
  {
   "cell_type": "code",
   "execution_count": 31,
   "metadata": {},
   "outputs": [],
   "source": [
    "class MLPClassifierWrapper(MLPClassifier):\n",
    "    \"\"\"\n",
    "    Wrapper around `sklearn.neural_network.MLPClassifier` with a convenient set \n",
    "    of properties (nb_layers and nb_nodes_per_layer) suitable for hyperparameter \n",
    "    optimisation exercises.\n",
    "    \n",
    "    Arguments:\n",
    "        nb_layers: Integer, number of hidden layers\n",
    "        nb_nodes_per_layer: Number of nodes per hidden layer, taken to be the \n",
    "            same for all for convenience.\n",
    "    \"\"\"\n",
    "\n",
    "    def __init__ (self, nb_layers=1, nb_nodes_per_layer=100, **kwargs):\n",
    "        \n",
    "        # Member variables\n",
    "        self._nb_layers = nb_layers\n",
    "        self._nb_nodes_per_layer = nb_nodes_per_layer  \n",
    "        \n",
    "        # Call base class (`MLPClassifier`) constructor\n",
    "        super(MLPClassifierWrapper, self).__init__(**kwargs)\n",
    "        \n",
    "        # Trigger `_set_architecture`\n",
    "        self._set_architecture()\n",
    "        return\n",
    "\n",
    "    @property\n",
    "    def nb_layers(self):\n",
    "        return self._nb_layers\n",
    "    \n",
    "    @property\n",
    "    def nb_nodes_per_layer(self):\n",
    "        return self._nb_nodes_per_layer \n",
    "\n",
    "    @nb_layers.setter\n",
    "    def nb_layers(self, value):\n",
    "        self._nb_layers = value\n",
    "        self._set_architecture()\n",
    "        return\n",
    "    \n",
    "    @nb_nodes_per_layer.setter\n",
    "    def nb_nodes_per_layer(self, value):\n",
    "        self._nb_nodes_per_layer = value\n",
    "        self._set_architecture()\n",
    "        return\n",
    "    \n",
    "    def _set_architecture (self):\n",
    "        \"\"\"\n",
    "        Sets the `hidden_layer_sizes` parameter of the base `MLPClassifier` \n",
    "        class, based on the two custom parameters we have chosen.\n",
    "        \"\"\"\n",
    "        \n",
    "        self.hidden_layer_sizes = tuple([self._nb_nodes_per_layer for _ in range(self._nb_layers)])\n",
    "        return\n",
    "    pass"
   ]
  },
  {
   "cell_type": "markdown",
   "metadata": {},
   "source": [
    "---"
   ]
  },
  {
   "cell_type": "markdown",
   "metadata": {},
   "source": [
    "#### 16. Perform a grid search (1 mark)\n",
    "\n",
    "- Construct a python `dict` called `param_grid` which specifies the hyperparameter configurations to try for each parameter dimension. That is, it should have\n",
    "    - `\"nb_layers\"` and `\"nb_nodes_per_layer\"` as keys, and\n",
    "    - lists of integers as values, corresponding to the values of each parameter you want to try out (_e.g._ [1, 2, ...])\n",
    "- Choose a reasonable set of values for each parameter; about a handful for each.\n",
    "- Use the `GridSearchCV` class to perform _**3**_**-fold** cross validation (CV) optimisation of the validation **accuracy**\n",
    "    - Hint: You can use the `n_jobs=...` argument to enable multi-processing, thereby speeding up the optimisation, at the expense of reproducibility.\n",
    "- The base classifier should be an instance of `MLPClassifierWrapper` set to train for **100 epochs**.\n",
    "- Present the results:\n",
    "    - Print the best parameter configuration found. GridSearchCV has a public member which stores this. Read doc.\n",
    "    - Print the mean and standard deviation of the test scores for the best configuration found. (_Hint:_ These can be found in the `.cv_results_` attribute)\n",
    "    - Plot the optimisation results using the `plot.optimisation` method.\n",
    "- Discuss the results. What would happen if the best result is foundon the edge of the parameter grid?"
   ]
  }
 ],
 "metadata": {
  "kernelspec": {
   "display_name": "Python 3 (ipykernel)",
   "language": "python",
   "name": "python3"
  },
  "language_info": {
   "codemirror_mode": {
    "name": "ipython",
    "version": 3
   },
   "file_extension": ".py",
   "mimetype": "text/x-python",
   "name": "python",
   "nbconvert_exporter": "python",
   "pygments_lexer": "ipython3",
   "version": "3.7.10"
  }
 },
 "nbformat": 4,
 "nbformat_minor": 2
}
