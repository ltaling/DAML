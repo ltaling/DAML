{
 "cells": [
  {
   "cell_type": "code",
   "execution_count": 1,
   "id": "2ab6c96a",
   "metadata": {},
   "outputs": [],
   "source": [
    "import numpy as np\n",
    "import matplotlib.pyplot as plt\n",
    "from iminuit import Minuit"
   ]
  },
  {
   "cell_type": "code",
   "execution_count": 2,
   "id": "fa7b9c3a",
   "metadata": {},
   "outputs": [],
   "source": [
    "#Loading the data into a numpy array\n",
    "data = np.loadtxt('datafile-expresonance(1).txt',unpack=True,dtype=float)"
   ]
  },
  {
   "cell_type": "markdown",
   "id": "c16cb68f",
   "metadata": {},
   "source": [
    "## Part 1"
   ]
  },
  {
   "cell_type": "code",
   "execution_count": 3,
   "id": "35a7416e",
   "metadata": {},
   "outputs": [],
   "source": [
    "def log_likelihood_gauss(f,mean,tau):\n",
    "    \"\"\"This is the maximum likelihood function for the exp distribution with the Gaussian distribution\"\"\"\n",
    "    sigma = 0.2 #pre-defined width\n",
    "    exponential = np.exp(-data/tau) # exponential distribution\n",
    "    exponential_norm = 1/(tau*(np.exp(-0/tau)-np.exp(-10/tau))) # exponential normalisation\n",
    "    gauss = np.exp(-np.square(data-mean)/(2*np.square(sigma))) #normal distribution\n",
    "    gauss_norm = 1/(np.sqrt(2*np.pi)*sigma) #gaussian normalisation\n",
    "    total = (f*exponential*exponential_norm)+((1-f)*gauss*gauss_norm) # Combining them relative to fraction\n",
    "    total[total < 1e-4] = 1e-4 # Clip values too small for the logarithm\n",
    "    \n",
    "    return -np.sum(np.log(total))"
   ]
  },
  {
   "cell_type": "code",
   "execution_count": 4,
   "id": "32846efe",
   "metadata": {},
   "outputs": [
    {
     "name": "stdout",
     "output_type": "stream",
     "text": [
      "Best fit values calculated by minuit are:\n",
      "\n",
      "fraction = 0.9796 +/- 0.0012\n",
      "\n",
      "mean = 2.4985 +/- 0.0146\n",
      "\n",
      "tau = 5.0078 +/- 0.0307\n"
     ]
    }
   ],
   "source": [
    "#Using minuit to optimize values\n",
    "\n",
    "log_likelihood_gauss.errordef = Minuit.LIKELIHOOD # Tells Minuit to use log-likelihood for the error matrix (0.5)\n",
    "\n",
    "\n",
    "m2 = Minuit(log_likelihood_gauss, f = 0.2, mean=2., tau=1.) # Uses log-likelihood function with the stated guesses\n",
    "m2.migrad() # runs the minimisation\n",
    "\n",
    "print(\"Best fit values calculated by minuit are:\")\n",
    "print(\"\")\n",
    "print(\"fraction = \"+str(round(np.asarray(m2.values)[0],4))+\" +/- \"+str(round(np.asarray(m2.errors)[0],4)))\n",
    "print(\"\")\n",
    "print(\"mean = \"+str(round(np.asarray(m2.values)[1],4))+\" +/- \"+str(round(np.asarray(m2.errors)[1],4)))\n",
    "print(\"\")\n",
    "print(\"tau = \"+str(round(np.asarray(m2.values)[2],4))+\" +/- \"+str(round(np.asarray(m2.errors)[2],4)))"
   ]
  },
  {
   "cell_type": "code",
   "execution_count": 5,
   "id": "01498f3a",
   "metadata": {},
   "outputs": [
    {
     "data": {
      "image/png": "[encoded data removed]",
      "text/plain": [
       "<Figure size 432x288 with 1 Axes>"
      ]
     },
     "metadata": {
      "needs_background": "light"
     },
     "output_type": "display_data"
    }
   ],
   "source": [
    "#Check to see if the fit looks acceptable\n",
    "\n",
    "def function(f,mean,tau):\n",
    "    \"\"\"This function defines the combined normal and exponential distribution\"\"\"\n",
    "    sigma = 0.2\n",
    "    exponential = np.exp(-values/tau)\n",
    "    exponential_norm = 1/(tau*(np.exp(-0/tau)-np.exp(-10/tau)))\n",
    "    gauss = np.exp(-np.square(values-mean)/(2*np.square(sigma)))\n",
    "    gauss_norm = 1/(np.sqrt(2*np.pi)*sigma)\n",
    "    total = (f*exponential*exponential_norm)+((1-f)*gauss*gauss_norm)\n",
    "    \n",
    "    return total\n",
    "\n",
    "values = np.linspace(0,10,1000)\n",
    "\n",
    "#Plotting the function over the histogram\n",
    "plt.hist(data,bins=100,density=True)\n",
    "plt.plot(values,function(np.asarray(m2.values)[0],np.asarray(m2.values)[1],np.asarray(m2.values)[2]))\n",
    "plt.title('Normalised Histogram of the Decays with Likelihood Function Overlaid')\n",
    "plt.xlabel(\"Bins\")\n",
    "plt.ylabel('Frequency')\n",
    "plt.show()\n",
    "\n",
    "#The fit looks acceptable"
   ]
  },
  {
   "cell_type": "markdown",
   "id": "d4af18cc",
   "metadata": {},
   "source": [
    "## Part 2\n",
    "\n",
    "#### Note: Due to the ambiguity behind the meaning of the phrase \"shift method\", I followed both method 1 & method 2 as described in the lecture notes to calculate the systematic errors. Both give the same answer, but I have included them separately nonetheless."
   ]
  },
  {
   "cell_type": "code",
   "execution_count": 6,
   "id": "9940dc89",
   "metadata": {},
   "outputs": [],
   "source": [
    "def polynomial(f,G,ba,ca):\n",
    "    \"\"\"This function fits a 2nd order polynomial for the background\"\"\"\n",
    "    sigma = 0.2 #pre-defined width\n",
    "    background = 1+(ba*data)+(ca*(data**2)) # 2nd order polynomial\n",
    "    background_norm = 1/(10+50*ba+(1000/3)*ca) # polynomial normalisation (integrated from 0-10)\n",
    "    gauss = np.exp(-np.square(data-G)/(2*np.square(sigma))) #normal distribution\n",
    "    gauss_norm = 1/(np.sqrt(2*np.pi)*sigma) #gaussian normalisation\n",
    "    total = (f*background*background_norm)+((1-f)*gauss*gauss_norm) # Combining them relative to fraction\n",
    "    total[total < 1e-4] = 1e-4 # Clip values too small for the logarithm\n",
    "    \n",
    "    return -np.sum(np.log(total))\n"
   ]
  },
  {
   "cell_type": "code",
   "execution_count": 7,
   "id": "7246bbe7",
   "metadata": {},
   "outputs": [],
   "source": [
    "#method 1\n",
    "\n",
    "#fitting for the polynomial background\n",
    "polynomial.errordef = Minuit.LIKELIHOOD # Tells Minuit to use log-likelihood for the error matrix (0.5)\n",
    "\n",
    "mp1 = Minuit(polynomial, f = 0.98, G=2.5, ba=-0.016, ca=0.007) # Uses log-likelihood function with the stated guesses\n",
    "mp1.migrad() # runs the minimisation\n",
    "\n",
    "mp2 = Minuit(polynomial, f = 0.98, G=2.5+mp1.errors[1], ba=-0.016, ca=0.007) #Uses the value plus error as starting guess\n",
    "mp2.migrad() # runs the minimisation\n",
    "\n",
    "pshift_meth1 = abs(m2.values[1]-mp2.values[1]) #Finding the difference between the two values\n"
   ]
  },
  {
   "cell_type": "code",
   "execution_count": 8,
   "id": "1a5490c7",
   "metadata": {},
   "outputs": [],
   "source": [
    "#method 2\n",
    "\n",
    "\n",
    "#Create a gaussian distribution centred on the mean and with width equal to the error on the mean\n",
    "#Then pick values of G inside and run the fits\n",
    "shift_mean = []\n",
    "count = 0\n",
    "\n",
    "while count<100:\n",
    "    g = np.random.normal(loc=m2.values[1],scale=m2.errors[1])\n",
    "    mp2 = Minuit(polynomial, f = 0.98, G=g, ba=-0.016, ca=0.007) # Uses log-likelihood function with the stated guesses\n",
    "    mp2.migrad() # runs the minimisation\n",
    "    mp3 = Minuit(log_likelihood_gauss, f = 0.98, mean=g, tau=5.) #runs minimusation for exponential background\n",
    "    mp3.migrad()\n",
    "    shift_mean.append(mp3.values[1]-mp2.values[1])\n",
    "    count+=1"
   ]
  },
  {
   "cell_type": "code",
   "execution_count": 9,
   "id": "c3ea9299",
   "metadata": {},
   "outputs": [
    {
     "data": {
      "image/png": "[encoded data removed]",
      "text/plain": [
       "<Figure size 432x288 with 1 Axes>"
      ]
     },
     "metadata": {
      "needs_background": "light"
     },
     "output_type": "display_data"
    }
   ],
   "source": [
    "plt.hist(shift_mean,bins=30)\n",
    "plt.title(\"Histogram of Shifts for 100 Different Mean Values\")\n",
    "plt.xlabel('Bins')\n",
    "plt.ylabel('Frequency')\n",
    "plt.show()\n",
    "#This graph is a narrow gaussian distribution centred on 0.004"
   ]
  },
  {
   "cell_type": "code",
   "execution_count": 10,
   "id": "d39ff63d",
   "metadata": {},
   "outputs": [
    {
     "name": "stdout",
     "output_type": "stream",
     "text": [
      "Via Method 1:\n",
      "\n",
      "Mean = 2.4943 +/- 0.0156 +/- 0.0042\n",
      "\n",
      "Mean = 2.4943 +/- 0.0162\n",
      "\n",
      "Via Method 2:\n",
      "\n",
      "Mean = 2.4943 +/- 0.0156 +/- 0.0042\n",
      "\n",
      "Mean = 2.4943 +/- 0.0162\n"
     ]
    }
   ],
   "source": [
    "total_e_1 = np.sqrt(np.square(pshift_meth1)+np.square(np.asarray(mp1.errors)[1]))#adding errors in quadrature\n",
    "print(\"Via Method 1:\")\n",
    "print(\"\")\n",
    "print(\"Mean = {:.4f} +/- {:.4f} +/- {:.4f}\".format(np.asarray(mp1.values)[1],np.asarray(mp1.errors)[1],pshift_meth1))\n",
    "print(\"\")\n",
    "print(\"Mean = {:.4f} +/- {:.4f}\".format(np.asarray(mp1.values)[1],total_e_1))\n",
    "\n",
    "\n",
    "sys_e = np.mean(shift_mean) # The systematic error is the mean of the normal distribution\n",
    "total_e_2 = np.sqrt(np.square(sys_e)+np.square(np.asarray(mp1.errors)[1]))#adding errors in quadrature\n",
    "print(\"\")\n",
    "print(\"Via Method 2:\")\n",
    "print(\"\")\n",
    "print(\"Mean = {:.4f} +/- {:.4f} +/- {:.4f}\".format(np.asarray(mp1.values)[1],np.asarray(mp1.errors)[1],sys_e))\n",
    "print(\"\")\n",
    "print(\"Mean = {:.4f} +/- {:.4f}\".format(np.asarray(mp1.values)[1],total_e_2))"
   ]
  },
  {
   "cell_type": "markdown",
   "id": "1cfde727",
   "metadata": {},
   "source": [
    "We can see here that the systematic error is not very important compared to the statistical error as it is much smaller. In fact, the total error is only very slightly larger than the statistical error so the systematic error has a very small effect. Therefore, the polynomial fit for the background is not too bad and would still give similar results. Also note that the two different methods used both correspond to the same systematic error."
   ]
  },
  {
   "cell_type": "code",
   "execution_count": 11,
   "id": "3e0c72c2",
   "metadata": {},
   "outputs": [
    {
     "data": {
      "image/png": "[encoded data removed]",
      "text/plain": [
       "<Figure size 432x288 with 1 Axes>"
      ]
     },
     "metadata": {
      "needs_background": "light"
     },
     "output_type": "display_data"
    }
   ],
   "source": [
    "#Check to see how good the fit looks\n",
    "\n",
    "def function_poly(f,mean,ba,ca):\n",
    "    \"\"\"This function defines the combined normal distribution and polynomial\"\"\"\n",
    "    sigma = 0.2\n",
    "    background = 1+(ba*values)+(ca*(values**2)) # 2nd order polynomial\n",
    "    background_norm = 1/(10+50*ba+(1000/3)*ca) # polynomial normalisation\n",
    "    gauss = np.exp(-np.square(values-mean)/(2*np.square(sigma)))\n",
    "    gauss_norm = 1/(np.sqrt(2*np.pi)*sigma)\n",
    "    total = (f*background*background_norm)+((1-f)*gauss*gauss_norm)\n",
    "    \n",
    "    return total\n",
    "\n",
    "values = np.linspace(0,10,1000)\n",
    "\n",
    "plt.hist(data,bins=100,density=True)\n",
    "plt.plot(values,function_poly(np.asarray(mp1.values)[0],np.asarray(mp1.values)[1],np.asarray(mp1.values)[2],np.asarray(mp1.values)[3]))\n",
    "plt.title('Normalised Histogram of the Decays with Likelihood Function Overlaid')\n",
    "plt.xlabel(\"Bins\")\n",
    "plt.ylabel('Frequency')\n",
    "plt.show()\n",
    "\n",
    "#Not quite as good as above but still acceptable, in my opinion. "
   ]
  },
  {
   "cell_type": "markdown",
   "id": "d9ff598f",
   "metadata": {},
   "source": [
    "## Part 3"
   ]
  },
  {
   "cell_type": "code",
   "execution_count": 12,
   "id": "8a5409ba",
   "metadata": {},
   "outputs": [],
   "source": [
    "def linear(f,G,da):\n",
    "    \"\"\"This function fits a linear fit for the background\"\"\"\n",
    "    sigma = 0.2 #pre-defined width\n",
    "    background = 1+(da*data) # linear function\n",
    "    background_norm = 1/(10+(50*da)) # linear normalisation\n",
    "    gauss = np.exp(-np.square(data-G)/(2*np.square(sigma))) #normal distribution\n",
    "    gauss_norm = 1/(np.sqrt(2*np.pi)*sigma) #gaussian normalisation\n",
    "    total = (f*background*background_norm)+((1-f)*gauss*gauss_norm) # Combining them relative to fraction\n",
    "    total[total < 1e-4] = 1e-4 # Clip values too small for the logarithm\n",
    "    \n",
    "    return -np.sum(np.log(total))"
   ]
  },
  {
   "cell_type": "code",
   "execution_count": 13,
   "id": "cfea6a6b",
   "metadata": {},
   "outputs": [],
   "source": [
    "#method 1\n",
    "\n",
    "#fitting for the polynomial background\n",
    "linear.errordef = Minuit.LIKELIHOOD # Tells Minuit to use log-likelihood for the error matrix (0.5)\n",
    "\n",
    "ml1 = Minuit(linear, f = 0.98, G=2.5, da=-0.09) # Uses log-likelihood function with the stated guesses\n",
    "ml1.migrad() # runs the minimisation\n",
    "\n",
    "ml2 = Minuit(linear, f = 0.98, G=2.5+ml1.errors[1], da=-0.09) #Uses the value plus error as starting guess\n",
    "ml2.migrad() # runs the minimisation\n",
    "\n",
    "lshift_meth1 = abs(m2.values[1]-ml2.values[1])"
   ]
  },
  {
   "cell_type": "code",
   "execution_count": 14,
   "id": "57ce8043",
   "metadata": {},
   "outputs": [],
   "source": [
    "#method 2\n",
    "\n",
    "#Create a gaussian distribution centred on the mean and with width equal to the error on the mean\n",
    "#Then pick values of G inside and run the fit\n",
    "shift_mean_l = []\n",
    "count = 0\n",
    "\n",
    "while count<100:\n",
    "    g = np.random.normal(loc=ml1.values[1],scale=ml1.errors[1])\n",
    "    ml2 = Minuit(linear, f = 0.98, G=g, da=-0.09) # Uses log-likelihood function with the stated guesses\n",
    "    ml2.migrad() # runs the minimisation\n",
    "    ml3 = Minuit(log_likelihood_gauss, f = 0.98, mean=g, tau=5.)\n",
    "    ml3.migrad()\n",
    "    shift_mean_l.append(ml3.values[1]-ml2.values[1])\n",
    "    count+=1"
   ]
  },
  {
   "cell_type": "code",
   "execution_count": 15,
   "id": "6ce7a6f8",
   "metadata": {},
   "outputs": [
    {
     "data": {
      "image/png": "[encoded data removed]",
      "text/plain": [
       "<Figure size 432x288 with 1 Axes>"
      ]
     },
     "metadata": {
      "needs_background": "light"
     },
     "output_type": "display_data"
    }
   ],
   "source": [
    "plt.hist(shift_mean_l,bins=30)\n",
    "plt.title(\"Histogram of Shifts for 100 Different Mean Values\")\n",
    "plt.xlabel('Bins')\n",
    "plt.ylabel('Frequency')\n",
    "plt.show()\n",
    "#Strangely, this appears nothing like a gaussian but the mean still corresponds to the value found in method 1"
   ]
  },
  {
   "cell_type": "code",
   "execution_count": 16,
   "id": "9084ff74",
   "metadata": {},
   "outputs": [
    {
     "name": "stdout",
     "output_type": "stream",
     "text": [
      "Via Method 1:\n",
      "\n",
      "Mean = 2.4654 +/- 0.0151 +/- 0.0332\n",
      "\n",
      "Mean = 2.4654 +/- 0.0365\n",
      "\n",
      "Via Method 2:\n",
      "\n",
      "Mean = 2.4654 +/- 0.0151 +/- 0.0332\n",
      "\n",
      "Mean = 2.4654 +/- 0.0365\n"
     ]
    }
   ],
   "source": [
    "\n",
    "total_e_l_1 = np.sqrt(np.square(lshift_meth1)+np.square(np.asarray(ml1.errors)[1]))\n",
    "print(\"Via Method 1:\")\n",
    "print(\"\")\n",
    "print(\"Mean = {:.4f} +/- {:.4f} +/- {:.4f}\".format(np.asarray(ml1.values)[1],np.asarray(ml1.errors)[1],lshift_meth1))\n",
    "print(\"\")\n",
    "print(\"Mean = {:.4f} +/- {:.4f}\".format(np.asarray(ml1.values)[1],total_e_l_1))\n",
    "\n",
    "lshift_meth2 = np.mean(shift_mean_l)\n",
    "total_e_l_2 = np.sqrt(np.square(lshift_meth2)+np.square(np.asarray(ml1.errors)[1]))\n",
    "print(\"\")\n",
    "print(\"Via Method 2:\")\n",
    "print(\"\")\n",
    "print(\"Mean = {:.4f} +/- {:.4f} +/- {:.4f}\".format(np.asarray(ml1.values)[1],np.asarray(ml1.errors)[1],lshift_meth2))\n",
    "print(\"\")\n",
    "print(\"Mean = {:.4f} +/- {:.4f}\".format(np.asarray(ml1.values)[1],total_e_l_2))"
   ]
  },
  {
   "cell_type": "markdown",
   "id": "5b3f1a73",
   "metadata": {},
   "source": [
    "We can see here that the systematic error is very important compared to the statistical error as it is more than twice the value. In fact, it more than doubles the total error when added in quadrature to the statistical error. Therefore, the linear background is a very inappropriate choice of function as the systematic errors outweigh the statistical errors. "
   ]
  },
  {
   "cell_type": "code",
   "execution_count": 17,
   "id": "f6e42a45",
   "metadata": {},
   "outputs": [
    {
     "data": {
      "image/png": "[encoded data removed]",
      "text/plain": [
       "<Figure size 432x288 with 1 Axes>"
      ]
     },
     "metadata": {
      "needs_background": "light"
     },
     "output_type": "display_data"
    }
   ],
   "source": [
    "#Checking to see how good the fit\n",
    "\n",
    "def function_linear(f,mean,da):\n",
    "    \"\"\"This function defines the combined normal distribution and polynomial\"\"\"\n",
    "    sigma = 0.2\n",
    "    background = 1+(da*values) # linear function\n",
    "    background_norm = 1/(10+(50*da)) # linear normalisation\n",
    "    gauss = np.exp(-np.square(values-mean)/(2*np.square(sigma)))\n",
    "    gauss_norm = 1/(np.sqrt(2*np.pi)*sigma)\n",
    "    total = (f*background*background_norm)+((1-f)*gauss*gauss_norm)\n",
    "    \n",
    "    return total\n",
    "\n",
    "values = np.linspace(0,10,1000)\n",
    "\n",
    "plt.hist(data,bins=100,density=True)\n",
    "plt.plot(values,function_linear(np.asarray(ml1.values)[0],np.asarray(ml1.values)[1],np.asarray(ml1.values)[2]))\n",
    "plt.title('Normalised Histogram of the Decays with Likelihood Function Overlaid')\n",
    "plt.xlabel(\"Bins\")\n",
    "plt.ylabel('Frequency')\n",
    "plt.show()\n",
    "\n",
    "#As we can see, the fit is very bad as the line doesn't correspond with the background at all.\n",
    "#The linear function is not an appropriate approximation for the background."
   ]
  },
  {
   "cell_type": "markdown",
   "id": "bc505edc",
   "metadata": {},
   "source": [
    "## Discussion\n",
    "\n",
    "It can be seen that the polynomial background produces a smaller systematic error than the linear one; the polynomial background producing an error $\\pm0.0042$ and the linear background $\\pm0.0332$. This implies that the polynomial background is much more accurate than the linear background which can be visually confirmed by comparing the fits superimposed over the histograms. The polynomial histogram matches the background curve pretty well whereas the linear one does not fit it well at all. Therefore, the total error for the linear background is more than 2 times greater than the total error for the polynomial background ($\\pm0.0365$ vs $\\pm0.0162$)."
   ]
  },
  {
   "cell_type": "code",
   "execution_count": null,
   "id": "3b47078e",
   "metadata": {},
   "outputs": [],
   "source": []
  },
  {
   "cell_type": "code",
   "execution_count": null,
   "id": "79767a7c",
   "metadata": {},
   "outputs": [],
   "source": []
  }
 ],
 "metadata": {
  "kernelspec": {
   "display_name": "Python 3 (ipykernel)",
   "language": "python",
   "name": "python3"
  },
  "language_info": {
   "codemirror_mode": {
    "name": "ipython",
    "version": 3
   },
   "file_extension": ".py",
   "mimetype": "text/x-python",
   "name": "python",
   "nbconvert_exporter": "python",
   "pygments_lexer": "ipython3",
   "version": "3.7.10"
  }
 },
 "nbformat": 4,
 "nbformat_minor": 5
}
