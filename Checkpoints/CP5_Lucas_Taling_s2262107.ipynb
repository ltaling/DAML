{
 "cells": [
  {
   "cell_type": "code",
   "execution_count": 1,
   "id": "5113ed12",
   "metadata": {},
   "outputs": [],
   "source": [
    "import numpy as np\n",
    "import matplotlib.pyplot as plt\n",
    "import scipy.integrate as integrate\n",
    "from scipy.special import erfinv\n",
    "import scipy.optimize as opt\n",
    "from scipy.stats import chi2 \n",
    "\n",
    "%matplotlib inline"
   ]
  },
  {
   "cell_type": "code",
   "execution_count": 2,
   "id": "fdbce154",
   "metadata": {},
   "outputs": [],
   "source": [
    "class Linear:\n",
    "    # Define a class that creates a linear distribution\n",
    "    def __init__(self,intercept,slope,lo,hi):\n",
    "        # Initialise variables of the class\n",
    "        self.mass = [] # Empty for now but will be filled up with 'nexts' function\n",
    "        self.intercept = intercept\n",
    "        self.slope = slope\n",
    "        self.lolimit = lo\n",
    "        self.hilimit = hi*2\n",
    "        self.maxval = hi\n",
    "        \n",
    "    # Evaluate method (un-normalised)\n",
    "    def evaluate(self,t):\n",
    "        return  self.intercept + self.slope * t\n",
    "\n",
    "    def nexts(self,length):\n",
    "        # Fill in the distribution (pdf) with values from the linear distribution\n",
    "        k=0\n",
    "        while k<length:\n",
    "            # start with uniform random number in [lolimit,hilimit)\n",
    "            x = np.random.uniform(self.lolimit,self.hilimit)\n",
    "            y1 = self.evaluate(x)\n",
    "            y2 = np.random.uniform(0,self.maxval)\n",
    "            if (y2<y1):\n",
    "                filtered_x = x\n",
    "                self.mass.append(filtered_x)\n",
    "                k+=1\n",
    "        \n",
    "class Gaussian:\n",
    "    # Define a class that creates a Gaussian distribution\n",
    "    def __init__(self,mean,sigma):\n",
    "        # Initialise variables of the class\n",
    "        self.mass = []\n",
    "        self.mean = mean\n",
    "        self.sigma = sigma\n",
    "        \n",
    "    def nexts(self,length):\n",
    "        # Fill in the distribution (pdf) with values from the normal distribution\n",
    "        k = 0\n",
    "        while k<length:\n",
    "            x = np.random.normal(self.mean,self.sigma)\n",
    "            k += 1\n",
    "            self.mass.append(x)\n",
    "            \n",
    "    def integral(self,total,length):\n",
    "        func = lambda x: 1/(self.sigma*np.sqrt(2*np.pi))*np.exp(-np.square(x-self.mean)/(2*np.square(self.sigma)))\n",
    "        integ1 = integrate.quad(func,total,self.mean+(20*self.sigma)) #use 20 sigma to approximate infinity\n",
    "        integ2 = integrate.quad(func,self.mean-(20*self.sigma),self.mean+(20*self.sigma)) #same again as np.inf throws\n",
    "        # up errors\n",
    "        \n",
    "        return integ1[0]/integ2[0] #Returns normalised integral\n",
    "\n",
    "class SignalWithBackground:\n",
    "    \n",
    "    def __init__(self,intercept,slope,lo,hi,mean,sigma):\n",
    "         # Initialise variables of the class\n",
    "        self.mass_sig = []\n",
    "        self.mass_bgd = []\n",
    "        self.background = Linear(intercept,slope,lo,hi)\n",
    "        self.signal = Gaussian(mean,sigma)\n",
    "        self.mass = []\n",
    "        \n",
    "    def summing(self,lenbgd,lensig):\n",
    "        #Creating output of combined linear and normal distribution\n",
    "        self.background.nexts(lenbgd)\n",
    "        self.signal.nexts(lensig)\n",
    "        self.mass_bgd = self.background.mass\n",
    "        self.mass_sig = self.signal.mass\n",
    "        self.mass = self.mass_bgd+self.mass_sig   "
   ]
  },
  {
   "cell_type": "code",
   "execution_count": 3,
   "id": "aec60991",
   "metadata": {},
   "outputs": [],
   "source": [
    "# background parameters\n",
    "XMIN = 0.\n",
    "XMAX = 20.\n",
    "intercept = 20.\n",
    "slope = -1.\n",
    "# signal parameters\n",
    "mean = 10.\n",
    "sigma = 0.5\n",
    "# choose number of bins that is appropriate for the size of the statistics sample\n",
    "NBINS = 100\n",
    "# Lengths of arrays\n",
    "lenbgd = 10000\n",
    "lensig = 300\n",
    "\n",
    "# Define the pdf\n",
    "pdf = SignalWithBackground(intercept,slope,XMIN,XMAX,mean,sigma)\n",
    "#Initialise the mass array\n",
    "pdf.summing(lenbgd,lensig)"
   ]
  },
  {
   "cell_type": "code",
   "execution_count": 4,
   "id": "db270b8f",
   "metadata": {},
   "outputs": [
    {
     "data": {
      "image/png": "[encoded data removed]",
      "text/plain": [
       "<Figure size 576x648 with 3 Axes>"
      ]
     },
     "metadata": {
      "needs_background": "light"
     },
     "output_type": "display_data"
    }
   ],
   "source": [
    "#plotting the distributions\n",
    "myRange = (XMIN,XMAX)\n",
    "fig,axs = plt.subplots(3,1,sharex ='col',figsize=(8,9))\n",
    "axs[0].set_title(\"Signal distribution (\" + str(len(pdf.mass_sig)) + \" entries)\")\n",
    "axs[1].set_title(\"Background distribution (\" + str(len(pdf.mass_bgd)) + \" entries)\")\n",
    "axs[2].set_title(\"Total distribution (\" + str(len(pdf.mass)) + \" entries)\")\n",
    "axs[2].set_xlabel('X')\n",
    "axs[0].hist(pdf.mass_sig,bins = NBINS,range = myRange)\n",
    "axs[1].hist(pdf.mass_bgd,bins = NBINS)\n",
    "axs[2].hist(pdf.mass,bins = NBINS)\n",
    "fig.tight_layout()\n",
    "plt.show()"
   ]
  },
  {
   "cell_type": "code",
   "execution_count": 5,
   "id": "028b97bf",
   "metadata": {},
   "outputs": [
    {
     "name": "stdout",
     "output_type": "stream",
     "text": [
      "P Value = 0.0013498980316300868\n",
      "\n",
      "Z Value = 3.2051549205989076 sigma\n"
     ]
    }
   ],
   "source": [
    "#Task 2\n",
    "gauss_p = Gaussian(mean = 10000,sigma = 100) #creating gaussian function\n",
    "pvalue = gauss_p.integral(lensig+lenbgd,lensig) #Calculating p value via the integral defined in the class\n",
    "n_sigmas = erfinv(1-pvalue)*np.sqrt(2) #calculating Z value\n",
    "print(\"P Value = \"+str(pvalue)+\"\\n\")\n",
    "print(\"Z Value = \"+str(n_sigmas)+\" sigma\")"
   ]
  },
  {
   "cell_type": "code",
   "execution_count": 6,
   "id": "ff065838",
   "metadata": {},
   "outputs": [
    {
     "name": "stdout",
     "output_type": "stream",
     "text": [
      "Ratio = 51.6%\n",
      "\n",
      "P Value = 1.1045248499294897e-05\n",
      "\n",
      "Z Value = 4.3956289210855894 sigma\n"
     ]
    }
   ],
   "source": [
    "#Task 3\n",
    "count = 0\n",
    "for i in pdf.mass_bgd:\n",
    "    # Finding the number of entries between (5,15)\n",
    "    if i>5 and i<15:\n",
    "        count += 1\n",
    "        \n",
    "print(\"Ratio = \" +str(100*count/len(pdf.mass_bgd))+\"%\\n\") #Close enough to %50\n",
    "#Doing the same process as above\n",
    "gauss_p2 = Gaussian(mean = 5000,sigma = np.sqrt(5000)) \n",
    "pvalue_new = gauss_p2.integral(lensig+(lenbgd/2),lensig)\n",
    "n_sigmas_new = erfinv(1-pvalue_new)*np.sqrt(2)\n",
    "print(\"P Value = \"+str(pvalue_new)+\"\\n\")\n",
    "print(\"Z Value = \"+str(n_sigmas_new)+\" sigma\")"
   ]
  },
  {
   "cell_type": "code",
   "execution_count": 7,
   "id": "4092bff9",
   "metadata": {},
   "outputs": [],
   "source": [
    "#Task 4 functions\n",
    "\n",
    "def linear(a,b,xmin,xmax,x):\n",
    "    # Create a normalised linear function\n",
    "    lin = (a*x)+b\n",
    "    func = lambda y: (a*y)+b\n",
    "    integ = integrate.quad(func,xmin,xmax) # normalisation integral\n",
    "    return lin/integ[0]\n",
    "\n",
    "def chi(x,args):\n",
    "    # Chi squared value for the linear model which minimises slope and intercept\n",
    "    N_obs = args[0]\n",
    "    xmin = args[1]\n",
    "    xmax = args[2]\n",
    "    bin_width = args[3]\n",
    "    centre = args[4]\n",
    "    N_exp = linear(x[0],x[1],xmin,xmax,centre)*bin_width*10150 # Integral of the bin multiplied by the number of entries\n",
    "    N_exp[N_exp < 1e-3] = 1e-3 # Clip zero/negative values to keep the logarithm clean\n",
    "    return 2*np.sum(N_exp-N_obs+N_obs*np.log(N_obs/N_exp))\n",
    "\n",
    "def linearandgauss(a,b,f,xmin,xmax,x):\n",
    "    #Create a normalised linear and gaussian function (with a value for the fraction of linear vs gauss)\n",
    "    func = (f*linear(a,b,xmin,xmax,x)) + ((1-f)*(1/(sigma*np.sqrt(2*np.pi))*np.exp(-np.square(x-mean)/(2*np.square(sigma)))))\n",
    "    return func\n",
    "\n",
    "def chilg(x,args):\n",
    "    # Chi square function to minimise slope, intercept and fraction\n",
    "    N_obs = args[0]\n",
    "    xmin = args[1]\n",
    "    xmax = args[2]\n",
    "    bin_width = args[3]\n",
    "    centre = args[4]\n",
    "    N_exp = linearandgauss(x[0],x[1],x[2],xmin,xmax,centre)*bin_width*10150\n",
    "    N_exp[N_exp < 1e-3] = 1e-3\n",
    "    return 2*np.sum(N_exp-N_obs+N_obs*np.log(N_obs/N_exp))\n"
   ]
  },
  {
   "cell_type": "code",
   "execution_count": 8,
   "id": "e8438448",
   "metadata": {},
   "outputs": [
    {
     "data": {
      "image/png": "[encoded data removed]",
      "text/plain": [
       "<Figure size 432x288 with 1 Axes>"
      ]
     },
     "metadata": {
      "needs_background": "light"
     },
     "output_type": "display_data"
    }
   ],
   "source": [
    "# Task 4 initialisation\n",
    "\n",
    "back = 10000 # Length of background\n",
    "signal = 150 # Length of Signal\n",
    "xmin = 0\n",
    "xmax = 20\n",
    "\n",
    "intercept2 = 15 # y-intercept guess\n",
    "slope2 = -1.5 # slope guess\n",
    "gauss_frac = 0.15 #fraction of gaussian distribution guess\n",
    "\n",
    "dist = SignalWithBackground(intercept,slope,XMIN,XMAX,mean,sigma) \n",
    "dist.summing(back,signal) # Create a pdf with 150 signal and 10000 background\n",
    "\n",
    "data = np.asarray(dist.mass) # Convert to array to remove errors\n",
    "a = plt.hist(data,bins = NBINS) # Initialise un-normalised histogram to get values\n",
    "bin_widths = []\n",
    "bin_centre = []\n",
    "for i in range(len(a[1])-1):\n",
    "    bin_widths.append(a[1][i+1]-a[1][i]) # find the bin widths (spoiler alert: they're all the same)\n",
    "    bin_centre.append((a[1][i]+a[1][i+1])/2) # find the centre of each bin\n",
    "    \n",
    "bin_centre = np.array(bin_centre) # convert to array as function doesn't like lists\n",
    "\n",
    "# Use optimize.minimize to find the minimum chi-square values (used Powell method as it gave me the best values) \n",
    "h_0 = opt.minimize(chi,x0=[slope2,intercept2],args=[a[0],xmin,xmax,bin_widths[1],bin_centre],method='powell')\n",
    "h_1 = opt.minimize(chilg,x0=[slope2,intercept2,gauss_frac],args=[a[0],xmin,xmax,bin_widths[1],bin_centre],method='powell')"
   ]
  },
  {
   "cell_type": "code",
   "execution_count": 9,
   "id": "8908eb9e",
   "metadata": {},
   "outputs": [
    {
     "data": {
      "image/png": "[encoded data removed]",
      "text/plain": [
       "<Figure size 432x288 with 1 Axes>"
      ]
     },
     "metadata": {
      "needs_background": "light"
     },
     "output_type": "display_data"
    }
   ],
   "source": [
    "# Plotting the Histogram with the \"lines of best fit\"\n",
    "xvalues = np.linspace(0,20,1000)\n",
    "yvalues_lin = linear(h_0.x[0],h_0.x[1],xmin,xmax,xvalues) #calculate the values corresponding to the null hypothesis\n",
    "yvalues_gauss = linearandgauss(h_1.x[0],h_1.x[1],h_1.x[2],xmin,xmax,xvalues) #calculate values corresponding signal hypothesis\n",
    "plt.hist(data,bins = NBINS,density=True)\n",
    "plt.plot(xvalues,yvalues_lin,label=\"Linear Function Only\")\n",
    "plt.plot(xvalues,yvalues_gauss,label=\"Linear Function with Gaussian\")\n",
    "plt.title(\"Normalised Histogram of Values with 2 Fitting Function Values Superimposed\")\n",
    "plt.xlabel(\"Bins\")\n",
    "plt.ylabel(\"Normalised Frequency\")\n",
    "plt.legend()\n",
    "plt.show()"
   ]
  },
  {
   "cell_type": "code",
   "execution_count": 10,
   "id": "853ff8af",
   "metadata": {},
   "outputs": [
    {
     "name": "stdout",
     "output_type": "stream",
     "text": [
      "Difference between chi-squared values = 23.305247210815082\n",
      "\n",
      "P Value = 1.3822240180205725e-06\n",
      "\n",
      "Z Value = 4.827550850162254 sigma\n"
     ]
    }
   ],
   "source": [
    "#Finding the chi-square difference:\n",
    "\n",
    "D = h_0.fun-h_1.fun #difference between chi-square values\n",
    "dof = 1 # 1 degree of freedom as only one parameter change between the two fits\n",
    "\n",
    "print(\"Difference between chi-squared values = \"+str(D)+\"\\n\")\n",
    "\n",
    "p_value_diff = 1-chi2.cdf(D,dof) # calculate p-value using chi square cdf\n",
    "n_sigmas_diff = erfinv(1-p_value_diff)*np.sqrt(2)\n",
    "print(\"P Value = \"+str(p_value_diff)+\"\\n\")\n",
    "print(\"Z Value = \"+str(n_sigmas_diff)+\" sigma\")"
   ]
  },
  {
   "cell_type": "markdown",
   "id": "5146e952",
   "metadata": {},
   "source": [
    "This is a very high Z score meaning that this result is statistically significant over the background in normal physics. In other words, it was able to detect the signal we put in amongst the noise. Although for particle physics, it is not quite high enough to be claimed as a \"discovery\" (which requires 5 sigma). "
   ]
  },
  {
   "cell_type": "code",
   "execution_count": null,
   "id": "1579a601",
   "metadata": {},
   "outputs": [],
   "source": []
  }
 ],
 "metadata": {
  "kernelspec": {
   "display_name": "Python 3 (ipykernel)",
   "language": "python",
   "name": "python3"
  },
  "language_info": {
   "codemirror_mode": {
    "name": "ipython",
    "version": 3
   },
   "file_extension": ".py",
   "mimetype": "text/x-python",
   "name": "python",
   "nbconvert_exporter": "python",
   "pygments_lexer": "ipython3",
   "version": "3.7.10"
  }
 },
 "nbformat": 4,
 "nbformat_minor": 5
}
